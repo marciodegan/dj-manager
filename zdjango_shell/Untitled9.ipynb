{
 "cells": [
  {
   "cell_type": "code",
   "execution_count": 7,
   "metadata": {},
   "outputs": [],
   "source": [
    "list = Expense.objects.last()"
   ]
  },
  {
   "cell_type": "code",
   "execution_count": 8,
   "metadata": {},
   "outputs": [
    {
     "data": {
      "text/plain": [
       "1"
      ]
     },
     "execution_count": 8,
     "metadata": {},
     "output_type": "execute_result"
    }
   ],
   "source": [
    "list.expenseType_id"
   ]
  },
  {
   "cell_type": "code",
   "execution_count": 9,
   "metadata": {},
   "outputs": [],
   "source": [
    "from django.shortcuts import render, get_object_or_404, redirect"
   ]
  },
  {
   "cell_type": "code",
   "execution_count": 10,
   "metadata": {},
   "outputs": [
    {
     "ename": "Http404",
     "evalue": "No Expense matches the given query.",
     "output_type": "error",
     "traceback": [
      "\u001b[0;31m--------------------------------------------\u001b[0m",
      "\u001b[0;31mDoesNotExist\u001b[0mTraceback (most recent call last)",
      "\u001b[0;32m~/dev/dj-management/projeto_todo/venv/lib/python3.8/site-packages/django/shortcuts.py\u001b[0m in \u001b[0;36mget_object_or_404\u001b[0;34m(klass, *args, **kwargs)\u001b[0m\n\u001b[1;32m     75\u001b[0m     \u001b[0;32mtry\u001b[0m\u001b[0;34m:\u001b[0m\u001b[0;34m\u001b[0m\u001b[0;34m\u001b[0m\u001b[0m\n\u001b[0;32m---> 76\u001b[0;31m         \u001b[0;32mreturn\u001b[0m \u001b[0mqueryset\u001b[0m\u001b[0;34m.\u001b[0m\u001b[0mget\u001b[0m\u001b[0;34m(\u001b[0m\u001b[0;34m*\u001b[0m\u001b[0margs\u001b[0m\u001b[0;34m,\u001b[0m \u001b[0;34m**\u001b[0m\u001b[0mkwargs\u001b[0m\u001b[0;34m)\u001b[0m\u001b[0;34m\u001b[0m\u001b[0;34m\u001b[0m\u001b[0m\n\u001b[0m\u001b[1;32m     77\u001b[0m     \u001b[0;32mexcept\u001b[0m \u001b[0mqueryset\u001b[0m\u001b[0;34m.\u001b[0m\u001b[0mmodel\u001b[0m\u001b[0;34m.\u001b[0m\u001b[0mDoesNotExist\u001b[0m\u001b[0;34m:\u001b[0m\u001b[0;34m\u001b[0m\u001b[0;34m\u001b[0m\u001b[0m\n",
      "\u001b[0;32m~/dev/dj-management/projeto_todo/venv/lib/python3.8/site-packages/django/db/models/query.py\u001b[0m in \u001b[0;36mget\u001b[0;34m(self, *args, **kwargs)\u001b[0m\n\u001b[1;32m    428\u001b[0m         \u001b[0;32mif\u001b[0m \u001b[0;32mnot\u001b[0m \u001b[0mnum\u001b[0m\u001b[0;34m:\u001b[0m\u001b[0;34m\u001b[0m\u001b[0;34m\u001b[0m\u001b[0m\n\u001b[0;32m--> 429\u001b[0;31m             raise self.model.DoesNotExist(\n\u001b[0m\u001b[1;32m    430\u001b[0m                 \u001b[0;34m\"%s matching query does not exist.\"\u001b[0m \u001b[0;34m%\u001b[0m\u001b[0;34m\u001b[0m\u001b[0;34m\u001b[0m\u001b[0m\n",
      "\u001b[0;31mDoesNotExist\u001b[0m: Expense matching query does not exist.",
      "\nDuring handling of the above exception, another exception occurred:\n",
      "\u001b[0;31mHttp404\u001b[0m    Traceback (most recent call last)",
      "\u001b[0;32m<ipython-input-10-3a57364eefce>\u001b[0m in \u001b[0;36m<module>\u001b[0;34m\u001b[0m\n\u001b[0;32m----> 1\u001b[0;31m \u001b[0mobj\u001b[0m \u001b[0;34m=\u001b[0m \u001b[0mget_object_or_404\u001b[0m\u001b[0;34m(\u001b[0m\u001b[0mExpense\u001b[0m\u001b[0;34m,\u001b[0m \u001b[0mpk\u001b[0m\u001b[0;34m=\u001b[0m\u001b[0;36m20\u001b[0m\u001b[0;34m)\u001b[0m\u001b[0;34m\u001b[0m\u001b[0;34m\u001b[0m\u001b[0m\n\u001b[0m",
      "\u001b[0;32m~/dev/dj-management/projeto_todo/venv/lib/python3.8/site-packages/django/shortcuts.py\u001b[0m in \u001b[0;36mget_object_or_404\u001b[0;34m(klass, *args, **kwargs)\u001b[0m\n\u001b[1;32m     76\u001b[0m         \u001b[0;32mreturn\u001b[0m \u001b[0mqueryset\u001b[0m\u001b[0;34m.\u001b[0m\u001b[0mget\u001b[0m\u001b[0;34m(\u001b[0m\u001b[0;34m*\u001b[0m\u001b[0margs\u001b[0m\u001b[0;34m,\u001b[0m \u001b[0;34m**\u001b[0m\u001b[0mkwargs\u001b[0m\u001b[0;34m)\u001b[0m\u001b[0;34m\u001b[0m\u001b[0;34m\u001b[0m\u001b[0m\n\u001b[1;32m     77\u001b[0m     \u001b[0;32mexcept\u001b[0m \u001b[0mqueryset\u001b[0m\u001b[0;34m.\u001b[0m\u001b[0mmodel\u001b[0m\u001b[0;34m.\u001b[0m\u001b[0mDoesNotExist\u001b[0m\u001b[0;34m:\u001b[0m\u001b[0;34m\u001b[0m\u001b[0;34m\u001b[0m\u001b[0m\n\u001b[0;32m---> 78\u001b[0;31m         \u001b[0;32mraise\u001b[0m \u001b[0mHttp404\u001b[0m\u001b[0;34m(\u001b[0m\u001b[0;34m'No %s matches the given query.'\u001b[0m \u001b[0;34m%\u001b[0m \u001b[0mqueryset\u001b[0m\u001b[0;34m.\u001b[0m\u001b[0mmodel\u001b[0m\u001b[0;34m.\u001b[0m\u001b[0m_meta\u001b[0m\u001b[0;34m.\u001b[0m\u001b[0mobject_name\u001b[0m\u001b[0;34m)\u001b[0m\u001b[0;34m\u001b[0m\u001b[0;34m\u001b[0m\u001b[0m\n\u001b[0m\u001b[1;32m     79\u001b[0m \u001b[0;34m\u001b[0m\u001b[0m\n\u001b[1;32m     80\u001b[0m \u001b[0;34m\u001b[0m\u001b[0m\n",
      "\u001b[0;31mHttp404\u001b[0m: No Expense matches the given query."
     ]
    }
   ],
   "source": [
    "obj = get_object_or_404(Expense, pk=20)"
   ]
  },
  {
   "cell_type": "code",
   "execution_count": 11,
   "metadata": {},
   "outputs": [],
   "source": [
    "from datetime import datetime, timedelta\n",
    "from django_pivot.pivot import pivot\n",
    "from django.db.models import Sum\n",
    "import pandas as pd"
   ]
  },
  {
   "cell_type": "code",
   "execution_count": 12,
   "metadata": {},
   "outputs": [],
   "source": [
    "now = datetime.now()\n",
    "end_date = now+timedelta(days=365)"
   ]
  },
  {
   "cell_type": "code",
   "execution_count": 13,
   "metadata": {},
   "outputs": [],
   "source": [
    "datas = Expense.date_obj.values('conc').filter(date__range=(now, end_date))\\\n",
    "            .values('expenseType__title', 'amount', 'conc').order_by('conc')"
   ]
  },
  {
   "cell_type": "code",
   "execution_count": null,
   "metadata": {},
   "outputs": [],
   "source": []
  },
  {
   "cell_type": "code",
   "execution_count": 14,
   "metadata": {},
   "outputs": [],
   "source": [
    "pivot = pivot(datas, 'expenseType__title', 'conc', 'amount', aggregation=Sum)"
   ]
  },
  {
   "cell_type": "code",
   "execution_count": 15,
   "metadata": {},
   "outputs": [
    {
     "data": {
      "text/plain": [
       "<QuerySet [{'expenseType__title': 'TAXAS', '2020 / 11': 100.0, '2020 / 12': None, '2021 / 1': None, '2021 / 2': None, '2021 / 3': None, '2021 / 4': None}, {'expenseType__title': 'TAXAS', '2020 / 11': None, '2020 / 12': 100.0, '2021 / 1': None, '2021 / 2': None, '2021 / 3': None, '2021 / 4': None}, {'expenseType__title': 'FUNCIONARIO 2', '2020 / 11': None, '2020 / 12': None, '2021 / 1': 150.0, '2021 / 2': None, '2021 / 3': None, '2021 / 4': None}, {'expenseType__title': 'TAXAS', '2020 / 11': None, '2020 / 12': None, '2021 / 1': 100.0, '2021 / 2': None, '2021 / 3': None, '2021 / 4': None}, {'expenseType__title': 'FUNCIONARIO 1', '2020 / 11': None, '2020 / 12': None, '2021 / 1': None, '2021 / 2': 1000.0, '2021 / 3': None, '2021 / 4': None}, {'expenseType__title': 'FUNCIONARIO 2', '2020 / 11': None, '2020 / 12': None, '2021 / 1': None, '2021 / 2': 150.0, '2021 / 3': None, '2021 / 4': None}, {'expenseType__title': 'FUNCIONARIO 2', '2020 / 11': None, '2020 / 12': None, '2021 / 1': None, '2021 / 2': None, '2021 / 3': 50.0, '2021 / 4': None}, {'expenseType__title': 'FUNCIONARIO 2', '2020 / 11': None, '2020 / 12': None, '2021 / 1': None, '2021 / 2': None, '2021 / 3': None, '2021 / 4': 50.0}]>"
      ]
     },
     "execution_count": 15,
     "metadata": {},
     "output_type": "execute_result"
    }
   ],
   "source": [
    "pivot"
   ]
  },
  {
   "cell_type": "code",
   "execution_count": 16,
   "metadata": {},
   "outputs": [],
   "source": [
    "df = pd.DataFrame(datas)"
   ]
  },
  {
   "cell_type": "code",
   "execution_count": 17,
   "metadata": {},
   "outputs": [
    {
     "data": {
      "text/html": [
       "<div>\n",
       "<style scoped>\n",
       "    .dataframe tbody tr th:only-of-type {\n",
       "        vertical-align: middle;\n",
       "    }\n",
       "\n",
       "    .dataframe tbody tr th {\n",
       "        vertical-align: top;\n",
       "    }\n",
       "\n",
       "    .dataframe thead th {\n",
       "        text-align: right;\n",
       "    }\n",
       "</style>\n",
       "<table border=\"1\" class=\"dataframe\">\n",
       "  <thead>\n",
       "    <tr style=\"text-align: right;\">\n",
       "      <th></th>\n",
       "      <th>expenseType__title</th>\n",
       "      <th>amount</th>\n",
       "      <th>conc</th>\n",
       "    </tr>\n",
       "  </thead>\n",
       "  <tbody>\n",
       "    <tr>\n",
       "      <th>0</th>\n",
       "      <td>TAXAS</td>\n",
       "      <td>100.0</td>\n",
       "      <td>2020 / 11</td>\n",
       "    </tr>\n",
       "    <tr>\n",
       "      <th>1</th>\n",
       "      <td>TAXAS</td>\n",
       "      <td>100.0</td>\n",
       "      <td>2020 / 12</td>\n",
       "    </tr>\n",
       "    <tr>\n",
       "      <th>2</th>\n",
       "      <td>FUNCIONARIO 2</td>\n",
       "      <td>100.0</td>\n",
       "      <td>2021 / 1</td>\n",
       "    </tr>\n",
       "    <tr>\n",
       "      <th>3</th>\n",
       "      <td>TAXAS</td>\n",
       "      <td>100.0</td>\n",
       "      <td>2021 / 1</td>\n",
       "    </tr>\n",
       "    <tr>\n",
       "      <th>4</th>\n",
       "      <td>FUNCIONARIO 2</td>\n",
       "      <td>50.0</td>\n",
       "      <td>2021 / 1</td>\n",
       "    </tr>\n",
       "    <tr>\n",
       "      <th>5</th>\n",
       "      <td>FUNCIONARIO 2</td>\n",
       "      <td>100.0</td>\n",
       "      <td>2021 / 2</td>\n",
       "    </tr>\n",
       "    <tr>\n",
       "      <th>6</th>\n",
       "      <td>FUNCIONARIO 2</td>\n",
       "      <td>50.0</td>\n",
       "      <td>2021 / 2</td>\n",
       "    </tr>\n",
       "    <tr>\n",
       "      <th>7</th>\n",
       "      <td>FUNCIONARIO 1</td>\n",
       "      <td>1000.0</td>\n",
       "      <td>2021 / 2</td>\n",
       "    </tr>\n",
       "    <tr>\n",
       "      <th>8</th>\n",
       "      <td>FUNCIONARIO 2</td>\n",
       "      <td>50.0</td>\n",
       "      <td>2021 / 3</td>\n",
       "    </tr>\n",
       "    <tr>\n",
       "      <th>9</th>\n",
       "      <td>FUNCIONARIO 2</td>\n",
       "      <td>50.0</td>\n",
       "      <td>2021 / 4</td>\n",
       "    </tr>\n",
       "  </tbody>\n",
       "</table>\n",
       "</div>"
      ],
      "text/plain": [
       "  expenseType__title  amount       conc\n",
       "0              TAXAS   100.0  2020 / 11\n",
       "1              TAXAS   100.0  2020 / 12\n",
       "2      FUNCIONARIO 2   100.0   2021 / 1\n",
       "3              TAXAS   100.0   2021 / 1\n",
       "4      FUNCIONARIO 2    50.0   2021 / 1\n",
       "5      FUNCIONARIO 2   100.0   2021 / 2\n",
       "6      FUNCIONARIO 2    50.0   2021 / 2\n",
       "7      FUNCIONARIO 1  1000.0   2021 / 2\n",
       "8      FUNCIONARIO 2    50.0   2021 / 3\n",
       "9      FUNCIONARIO 2    50.0   2021 / 4"
      ]
     },
     "execution_count": 17,
     "metadata": {},
     "output_type": "execute_result"
    }
   ],
   "source": [
    "df"
   ]
  },
  {
   "cell_type": "code",
   "execution_count": 18,
   "metadata": {},
   "outputs": [
    {
     "data": {
      "text/html": [
       "<div>\n",
       "<style scoped>\n",
       "    .dataframe tbody tr th:only-of-type {\n",
       "        vertical-align: middle;\n",
       "    }\n",
       "\n",
       "    .dataframe tbody tr th {\n",
       "        vertical-align: top;\n",
       "    }\n",
       "\n",
       "    .dataframe thead th {\n",
       "        text-align: right;\n",
       "    }\n",
       "</style>\n",
       "<table border=\"1\" class=\"dataframe\">\n",
       "  <thead>\n",
       "    <tr style=\"text-align: right;\">\n",
       "      <th>conc</th>\n",
       "      <th>2020 / 11</th>\n",
       "      <th>2020 / 12</th>\n",
       "      <th>2021 / 1</th>\n",
       "      <th>2021 / 2</th>\n",
       "      <th>2021 / 3</th>\n",
       "      <th>2021 / 4</th>\n",
       "    </tr>\n",
       "    <tr>\n",
       "      <th>expenseType__title</th>\n",
       "      <th></th>\n",
       "      <th></th>\n",
       "      <th></th>\n",
       "      <th></th>\n",
       "      <th></th>\n",
       "      <th></th>\n",
       "    </tr>\n",
       "  </thead>\n",
       "  <tbody>\n",
       "    <tr>\n",
       "      <th>FUNCIONARIO 1</th>\n",
       "      <td>NaN</td>\n",
       "      <td>NaN</td>\n",
       "      <td>NaN</td>\n",
       "      <td>1000.0</td>\n",
       "      <td>NaN</td>\n",
       "      <td>NaN</td>\n",
       "    </tr>\n",
       "    <tr>\n",
       "      <th>FUNCIONARIO 2</th>\n",
       "      <td>NaN</td>\n",
       "      <td>NaN</td>\n",
       "      <td>150.0</td>\n",
       "      <td>150.0</td>\n",
       "      <td>50.0</td>\n",
       "      <td>50.0</td>\n",
       "    </tr>\n",
       "    <tr>\n",
       "      <th>TAXAS</th>\n",
       "      <td>100.0</td>\n",
       "      <td>100.0</td>\n",
       "      <td>100.0</td>\n",
       "      <td>NaN</td>\n",
       "      <td>NaN</td>\n",
       "      <td>NaN</td>\n",
       "    </tr>\n",
       "  </tbody>\n",
       "</table>\n",
       "</div>"
      ],
      "text/plain": [
       "conc                2020 / 11  2020 / 12  2021 / 1  2021 / 2  2021 / 3  \\\n",
       "expenseType__title                                                       \n",
       "FUNCIONARIO 1             NaN        NaN       NaN    1000.0       NaN   \n",
       "FUNCIONARIO 2             NaN        NaN     150.0     150.0      50.0   \n",
       "TAXAS                   100.0      100.0     100.0       NaN       NaN   \n",
       "\n",
       "conc                2021 / 4  \n",
       "expenseType__title            \n",
       "FUNCIONARIO 1            NaN  \n",
       "FUNCIONARIO 2           50.0  \n",
       "TAXAS                    NaN  "
      ]
     },
     "execution_count": 18,
     "metadata": {},
     "output_type": "execute_result"
    }
   ],
   "source": [
    "pd.pivot_table(df, values='amount', index=['expenseType__title'],\n",
    "                    columns=['conc'], aggfunc=sum)"
   ]
  },
  {
   "cell_type": "code",
   "execution_count": 19,
   "metadata": {},
   "outputs": [],
   "source": [
    "expenses = Expense.objects.all().filter(date__range=(now, end_date))\\\n",
    "            .values('expenseType__title', 'amount', 'date').order_by('date')"
   ]
  },
  {
   "cell_type": "code",
   "execution_count": 20,
   "metadata": {},
   "outputs": [
    {
     "data": {
      "text/plain": [
       "<QuerySet [{'expenseType__title': 'TAXAS', 'amount': 100.0, 'date': datetime.date(2020, 11, 1)}, {'expenseType__title': 'TAXAS', 'amount': 100.0, 'date': datetime.date(2020, 12, 1)}, {'expenseType__title': 'FUNCIONARIO 2', 'amount': 100.0, 'date': datetime.date(2021, 1, 1)}, {'expenseType__title': 'TAXAS', 'amount': 100.0, 'date': datetime.date(2021, 1, 1)}, {'expenseType__title': 'FUNCIONARIO 2', 'amount': 50.0, 'date': datetime.date(2021, 1, 1)}, {'expenseType__title': 'FUNCIONARIO 2', 'amount': 100.0, 'date': datetime.date(2021, 2, 1)}, {'expenseType__title': 'FUNCIONARIO 2', 'amount': 50.0, 'date': datetime.date(2021, 2, 1)}, {'expenseType__title': 'FUNCIONARIO 1', 'amount': 1000.0, 'date': datetime.date(2021, 2, 1)}, {'expenseType__title': 'FUNCIONARIO 2', 'amount': 50.0, 'date': datetime.date(2021, 3, 1)}, {'expenseType__title': 'FUNCIONARIO 2', 'amount': 50.0, 'date': datetime.date(2021, 4, 1)}]>"
      ]
     },
     "execution_count": 20,
     "metadata": {},
     "output_type": "execute_result"
    }
   ],
   "source": [
    "expenses"
   ]
  },
  {
   "cell_type": "code",
   "execution_count": null,
   "metadata": {},
   "outputs": [],
   "source": []
  },
  {
   "cell_type": "code",
   "execution_count": null,
   "metadata": {},
   "outputs": [],
   "source": []
  },
  {
   "cell_type": "code",
   "execution_count": null,
   "metadata": {},
   "outputs": [],
   "source": []
  },
  {
   "cell_type": "code",
   "execution_count": null,
   "metadata": {},
   "outputs": [],
   "source": []
  },
  {
   "cell_type": "code",
   "execution_count": null,
   "metadata": {},
   "outputs": [],
   "source": []
  },
  {
   "cell_type": "code",
   "execution_count": 21,
   "metadata": {},
   "outputs": [],
   "source": [
    "from datetime import datetime, timedelta\n",
    "from django_pivot.pivot import pivot\n",
    "from django.db.models import Sum\n",
    "import pandas as pd"
   ]
  },
  {
   "cell_type": "code",
   "execution_count": 22,
   "metadata": {},
   "outputs": [],
   "source": [
    "now = datetime.now()\n",
    "end_date = now+timedelta(days=365)"
   ]
  },
  {
   "cell_type": "code",
   "execution_count": 23,
   "metadata": {},
   "outputs": [],
   "source": [
    "categories = Expense.objects.filter(expenseType_id=3).filter(date__range=(now, end_date))\\\n",
    "            .values('expenseType__title', 'amount', 'date').order_by('date')"
   ]
  },
  {
   "cell_type": "raw",
   "metadata": {},
   "source": []
  },
  {
   "cell_type": "code",
   "execution_count": 24,
   "metadata": {},
   "outputs": [
    {
     "data": {
      "text/plain": [
       "<QuerySet []>"
      ]
     },
     "execution_count": 24,
     "metadata": {},
     "output_type": "execute_result"
    }
   ],
   "source": [
    "categories"
   ]
  },
  {
   "cell_type": "code",
   "execution_count": 25,
   "metadata": {},
   "outputs": [
    {
     "data": {
      "text/plain": [
       "<QuerySet []>"
      ]
     },
     "execution_count": 25,
     "metadata": {},
     "output_type": "execute_result"
    }
   ],
   "source": [
    "categories"
   ]
  },
  {
   "cell_type": "code",
   "execution_count": 26,
   "metadata": {},
   "outputs": [],
   "source": [
    "expenses = Expense.objects.filter(expenseType__id=2).filter(date__range=(now, end_date))\\\n",
    "                .values('id', 'expenseType__title', 'amount', 'date').order_by('date')"
   ]
  },
  {
   "cell_type": "code",
   "execution_count": 27,
   "metadata": {},
   "outputs": [
    {
     "data": {
      "text/plain": [
       "<QuerySet [{'id': 219, 'expenseType__title': 'FUNCIONARIO 2', 'amount': 100.0, 'date': datetime.date(2021, 1, 1)}, {'id': 224, 'expenseType__title': 'FUNCIONARIO 2', 'amount': 50.0, 'date': datetime.date(2021, 1, 1)}, {'id': 220, 'expenseType__title': 'FUNCIONARIO 2', 'amount': 100.0, 'date': datetime.date(2021, 2, 1)}, {'id': 225, 'expenseType__title': 'FUNCIONARIO 2', 'amount': 50.0, 'date': datetime.date(2021, 2, 1)}, {'id': 226, 'expenseType__title': 'FUNCIONARIO 2', 'amount': 50.0, 'date': datetime.date(2021, 3, 1)}, {'id': 227, 'expenseType__title': 'FUNCIONARIO 2', 'amount': 50.0, 'date': datetime.date(2021, 4, 1)}]>"
      ]
     },
     "execution_count": 27,
     "metadata": {},
     "output_type": "execute_result"
    }
   ],
   "source": [
    "expenses"
   ]
  },
  {
   "cell_type": "code",
   "execution_count": 34,
   "metadata": {},
   "outputs": [],
   "source": [
    "expenses = Expense.objects\\\n",
    "        .values('expenseType__category__category')\\\n",
    "        .filter(date__range=(now, end_date))\\\n",
    "        .annotate(value=Sum('amount'))\\\n",
    "        .order_by('expenseType__category__category')"
   ]
  },
  {
   "cell_type": "code",
   "execution_count": 35,
   "metadata": {},
   "outputs": [
    {
     "data": {
      "text/plain": [
       "<QuerySet [{'expenseType__category__category': 'BANCÁRIO', 'value': 300.0}, {'expenseType__category__category': 'SALARIOS', 'value': 1400.0}]>"
      ]
     },
     "execution_count": 35,
     "metadata": {},
     "output_type": "execute_result"
    }
   ],
   "source": [
    "expenses"
   ]
  },
  {
   "cell_type": "code",
   "execution_count": null,
   "metadata": {},
   "outputs": [],
   "source": []
  }
 ],
 "metadata": {
  "kernelspec": {
   "display_name": "Django Shell-Plus",
   "language": "python",
   "name": "django_extensions"
  }
 },
 "nbformat": 4,
 "nbformat_minor": 4
}

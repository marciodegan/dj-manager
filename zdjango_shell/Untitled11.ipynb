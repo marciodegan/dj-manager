{
 "cells": [
  {
   "cell_type": "code",
   "execution_count": 2,
   "metadata": {},
   "outputs": [],
   "source": [
    "from datetime import datetime, timedelta"
   ]
  },
  {
   "cell_type": "code",
   "execution_count": 3,
   "metadata": {},
   "outputs": [],
   "source": [
    "now = datetime.now()\n",
    "end_date = now+timedelta(days=365)"
   ]
  },
  {
   "cell_type": "code",
   "execution_count": 4,
   "metadata": {},
   "outputs": [],
   "source": [
    "categories_total = Expense.objects.values('amount').filter(date__range=(now, end_date))\\\n",
    "        .aggregate(totalspent=Sum('amount'))"
   ]
  },
  {
   "cell_type": "code",
   "execution_count": 10,
   "metadata": {},
   "outputs": [
    {
     "data": {
      "text/plain": [
       "12000.0"
      ]
     },
     "execution_count": 10,
     "metadata": {},
     "output_type": "execute_result"
    }
   ],
   "source": [
    "categories_total['totalspent']"
   ]
  },
  {
   "cell_type": "code",
   "execution_count": 7,
   "metadata": {},
   "outputs": [
    {
     "ename": "AttributeError",
     "evalue": "'dict' object has no attribute 'totalspent'",
     "output_type": "error",
     "traceback": [
      "\u001b[0;31m--------------------------------------------\u001b[0m",
      "\u001b[0;31mAttributeError\u001b[0mTraceback (most recent call last)",
      "\u001b[0;32m<ipython-input-7-e6dadc202c83>\u001b[0m in \u001b[0;36m<module>\u001b[0;34m\u001b[0m\n\u001b[0;32m----> 1\u001b[0;31m \u001b[0mcategories_total\u001b[0m\u001b[0;34m.\u001b[0m\u001b[0mtotalspent\u001b[0m\u001b[0;34m\u001b[0m\u001b[0;34m\u001b[0m\u001b[0m\n\u001b[0m",
      "\u001b[0;31mAttributeError\u001b[0m: 'dict' object has no attribute 'totalspent'"
     ]
    }
   ],
   "source": [
    "categories_total.totalspent"
   ]
  },
  {
   "cell_type": "code",
   "execution_count": 43,
   "metadata": {},
   "outputs": [],
   "source": [
    "product = Product.objects.all().values()"
   ]
  },
  {
   "cell_type": "code",
   "execution_count": 46,
   "metadata": {},
   "outputs": [
    {
     "data": {
      "text/plain": [
       "<QuerySet [{'id': 18, 'name': 'Não informado', 'ref': '1', 'salesprice': 100.0, 'buyprice': 50.0, 'quantity': 1.0, 'sales_comission': 1.0, 'bonus': 1.0, 'package_cost': 1.0, 'created_at': datetime.datetime(2020, 10, 6, 20, 15, 9, 500084, tzinfo=<UTC>), 'updated_at': datetime.datetime(2020, 10, 6, 20, 15, 9, 500163, tzinfo=<UTC>)}, {'id': 19, 'name': 'BERMUDA', 'ref': '2', 'salesprice': 100.0, 'buyprice': 50.0, 'quantity': 2.0, 'sales_comission': 2.0, 'bonus': 2.0, 'package_cost': 2.0, 'created_at': datetime.datetime(2020, 10, 6, 20, 15, 9, 742538, tzinfo=<UTC>), 'updated_at': datetime.datetime(2020, 10, 6, 20, 15, 9, 742617, tzinfo=<UTC>)}, {'id': 20, 'name': 'CAMISETA', 'ref': '3ivj', 'salesprice': 50.0, 'buyprice': 25.0, 'quantity': 6.0, 'sales_comission': 0.0, 'bonus': 8.0, 'package_cost': 9.0, 'created_at': datetime.datetime(2020, 10, 6, 20, 15, 9, 953152, tzinfo=<UTC>), 'updated_at': datetime.datetime(2020, 10, 6, 20, 15, 9, 953233, tzinfo=<UTC>)}, {'id': 21, 'name': 'CALCA BEGUE', 'ref': '4', 'salesprice': 100.0, 'buyprice': 50.0, 'quantity': 10.0, 'sales_comission': 0.0, 'bonus': 0.0, 'package_cost': 0.0, 'created_at': datetime.datetime(2020, 10, 6, 20, 15, 10, 197622, tzinfo=<UTC>), 'updated_at': datetime.datetime(2020, 10, 6, 20, 15, 10, 197700, tzinfo=<UTC>)}, {'id': 22, 'name': 'CALCA', 'ref': '5', 'salesprice': 60.0, 'buyprice': 50.0, 'quantity': 8.0, 'sales_comission': 10.0, 'bonus': 10.0, 'package_cost': 5.0, 'created_at': datetime.datetime(2020, 10, 6, 20, 15, 10, 420257, tzinfo=<UTC>), 'updated_at': datetime.datetime(2020, 10, 6, 21, 58, 28, 356247, tzinfo=<UTC>)}, {'id': 23, 'name': 'calca begue', 'ref': '9843dsa', 'salesprice': 100.0, 'buyprice': 50.0, 'quantity': 10.0, 'sales_comission': 0.0, 'bonus': 0.0, 'package_cost': 0.0, 'created_at': datetime.datetime(2020, 10, 6, 20, 15, 10, 653014, tzinfo=<UTC>), 'updated_at': datetime.datetime(2020, 10, 6, 20, 15, 10, 653098, tzinfo=<UTC>)}]>"
      ]
     },
     "execution_count": 46,
     "metadata": {},
     "output_type": "execute_result"
    }
   ],
   "source": [
    "product"
   ]
  },
  {
   "cell_type": "code",
   "execution_count": 47,
   "metadata": {},
   "outputs": [
    {
     "data": {
      "text/plain": [
       "<QuerySet [<Expense: Expense object (316)>, <Expense: Expense object (317)>, <Expense: Expense object (318)>, <Expense: Expense object (319)>, <Expense: Expense object (320)>, <Expense: Expense object (321)>, <Expense: Expense object (322)>, <Expense: Expense object (323)>, <Expense: Expense object (324)>, <Expense: Expense object (325)>, <Expense: Expense object (326)>, <Expense: Expense object (327)>]>"
      ]
     },
     "execution_count": 47,
     "metadata": {},
     "output_type": "execute_result"
    }
   ],
   "source": [
    "Expense.objects.all()"
   ]
  },
  {
   "cell_type": "code",
   "execution_count": null,
   "metadata": {},
   "outputs": [],
   "source": []
  },
  {
   "cell_type": "code",
   "execution_count": 2,
   "metadata": {},
   "outputs": [],
   "source": [
    "from django.shortcuts import render, get_object_or_404, redirect"
   ]
  },
  {
   "cell_type": "code",
   "execution_count": 9,
   "metadata": {},
   "outputs": [
    {
     "data": {
      "text/plain": [
       "<bound method QuerySet.last of <QuerySet [(1, datetime.date(2020, 1, 1), 1, 2020), (2, datetime.date(2020, 1, 2), 1, 2020), (3, datetime.date(2020, 1, 3), 1, 2020), (4, datetime.date(2020, 1, 4), 1, 2020), (5, datetime.date(2020, 1, 5), 1, 2020), (6, datetime.date(2020, 1, 6), 1, 2020), (7, datetime.date(2020, 1, 7), 1, 2020), (8, datetime.date(2020, 1, 8), 1, 2020), (9, datetime.date(2020, 1, 9), 1, 2020), (10, datetime.date(2020, 1, 10), 1, 2020), (11, datetime.date(2020, 1, 11), 1, 2020), (12, datetime.date(2020, 1, 12), 1, 2020), (13, datetime.date(2020, 1, 13), 1, 2020), (14, datetime.date(2020, 1, 14), 1, 2020), (15, datetime.date(2020, 1, 15), 1, 2020), (16, datetime.date(2020, 1, 16), 1, 2020), (17, datetime.date(2020, 1, 17), 1, 2020), (18, datetime.date(2020, 1, 18), 1, 2020), (19, datetime.date(2020, 1, 19), 1, 2020), (20, datetime.date(2020, 1, 20), 1, 2020), '...(remaining elements truncated)...']>>"
      ]
     },
     "execution_count": 9,
     "metadata": {},
     "output_type": "execute_result"
    }
   ],
   "source": [
    "Date.objects.all().values_list().last"
   ]
  },
  {
   "cell_type": "code",
   "execution_count": 14,
   "metadata": {},
   "outputs": [
    {
     "data": {
      "text/plain": [
       "<Date: 01/12/2020>"
      ]
     },
     "execution_count": 14,
     "metadata": {},
     "output_type": "execute_result"
    }
   ],
   "source": [
    "get_object_or_404(Date, date=\"2020-12-01\")"
   ]
  },
  {
   "cell_type": "code",
   "execution_count": 2,
   "metadata": {},
   "outputs": [
    {
     "data": {
      "text/plain": [
       "<QuerySet [{'date__month_year': '1 / 2021'}, {'date__month_year': '2 / 2021'}, {'date__month_year': '3 / 2021'}, {'date__month_year': '4 / 2021'}, {'date__month_year': '5 / 2021'}, {'date__month_year': '6 / 2021'}, {'date__month_year': '7 / 2021'}, {'date__month_year': '8 / 2021'}, {'date__month_year': '9 / 2021'}, {'date__month_year': '10 / 2021'}, {'date__month_year': '11 / 2021'}, {'date__month_year': '12 / 2021'}]>"
      ]
     },
     "execution_count": 2,
     "metadata": {},
     "output_type": "execute_result"
    }
   ],
   "source": [
    "Revenue2.objects.values('date__month_year')"
   ]
  },
  {
   "cell_type": "code",
   "execution_count": 8,
   "metadata": {},
   "outputs": [],
   "source": [
    "rev = Revenue2.objects.filter(date__month_year='1-2021')"
   ]
  },
  {
   "cell_type": "code",
   "execution_count": 10,
   "metadata": {},
   "outputs": [
    {
     "name": "stdout",
     "output_type": "stream",
     "text": [
      "1000.0\n",
      "5000.0\n"
     ]
    }
   ],
   "source": [
    "for i in rev:\n",
    "    print(i.amount)"
   ]
  },
  {
   "cell_type": "code",
   "execution_count": 24,
   "metadata": {},
   "outputs": [],
   "source": [
    "revyear = Revenue2.objects.values('date__year').annotate(counter=Count('date__year'))"
   ]
  },
  {
   "cell_type": "code",
   "execution_count": 25,
   "metadata": {},
   "outputs": [
    {
     "data": {
      "text/plain": [
       "<QuerySet [{'date__year': 2020, 'counter': 2}, {'date__year': 2021, 'counter': 22}]>"
      ]
     },
     "execution_count": 25,
     "metadata": {},
     "output_type": "execute_result"
    }
   ],
   "source": [
    "revyear"
   ]
  },
  {
   "cell_type": "code",
   "execution_count": null,
   "metadata": {},
   "outputs": [],
   "source": []
  }
 ],
 "metadata": {
  "kernelspec": {
   "display_name": "Django Shell-Plus",
   "language": "python",
   "name": "django_extensions"
  },
  "language_info": {
   "codemirror_mode": {
    "name": "ipython",
    "version": 3
   },
   "file_extension": ".py",
   "mimetype": "text/x-python",
   "name": "python",
   "nbconvert_exporter": "python",
   "pygments_lexer": "ipython3",
   "version": "3.8.5"
  }
 },
 "nbformat": 4,
 "nbformat_minor": 4
}

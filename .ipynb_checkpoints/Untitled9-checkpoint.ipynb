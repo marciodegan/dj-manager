{
 "cells": [
  {
   "cell_type": "code",
   "execution_count": 5,
   "metadata": {},
   "outputs": [],
   "source": [
    "list = Expense.objects.last()"
   ]
  },
  {
   "cell_type": "code",
   "execution_count": 19,
   "metadata": {},
   "outputs": [
    {
     "data": {
      "text/plain": [
       "1"
      ]
     },
     "execution_count": 19,
     "metadata": {},
     "output_type": "execute_result"
    }
   ],
   "source": [
    "list.expenseType_id"
   ]
  },
  {
   "cell_type": "code",
   "execution_count": 9,
   "metadata": {},
   "outputs": [],
   "source": [
    "from django.shortcuts import render, get_object_or_404, redirect"
   ]
  },
  {
   "cell_type": "code",
   "execution_count": 12,
   "metadata": {},
   "outputs": [],
   "source": [
    "obj = get_object_or_404(Expense, pk=20)"
   ]
  },
  {
   "cell_type": "code",
   "execution_count": 1,
   "metadata": {},
   "outputs": [],
   "source": [
    "from datetime import datetime, timedelta\n",
    "from django_pivot.pivot import pivot\n",
    "from django.db.models import Sum\n",
    "import pandas as pd"
   ]
  },
  {
   "cell_type": "code",
   "execution_count": 2,
   "metadata": {},
   "outputs": [],
   "source": [
    "now = datetime.now()\n",
    "end_date = now+timedelta(days=365)"
   ]
  },
  {
   "cell_type": "code",
   "execution_count": 33,
   "metadata": {},
   "outputs": [],
   "source": [
    "datas = Expense.date_obj.values('conc').filter(date__range=(now, end_date))\\\n",
    "            .values('expenseType__title', 'amount', 'conc').order_by('conc')"
   ]
  },
  {
   "cell_type": "code",
   "execution_count": 34,
   "metadata": {},
   "outputs": [
    {
     "data": {
      "text/plain": [
       "<QuerySet [{'expenseType__title': 'FUNCIONARIO 1', 'amount': 1000.0, 'conc': '2020 / 10'}, {'expenseType__title': 'FUNCIONARIO 1', 'amount': 10000.0, 'conc': '2020 / 11'}, {'expenseType__title': 'FUNCIONARIO 1', 'amount': 20000.0, 'conc': '2020 / 11'}, {'expenseType__title': 'FUNCIONARIO 1', 'amount': 20000.0, 'conc': '2020 / 12'}, {'expenseType__title': 'FUNCIONARIO 1', 'amount': 20000.0, 'conc': '2021 / 1'}, {'expenseType__title': 'ALUGUEL', 'amount': 6765.0, 'conc': '2021 / 1'}, {'expenseType__title': 'ALUGUEL', 'amount': 6765.0, 'conc': '2021 / 1'}, {'expenseType__title': 'FUNCIONARIO 1', 'amount': 20000.0, 'conc': '2021 / 2'}, {'expenseType__title': 'ALUGUEL', 'amount': 6765.0, 'conc': '2021 / 2'}, {'expenseType__title': 'ALUGUEL', 'amount': 6765.0, 'conc': '2021 / 2'}, {'expenseType__title': 'ALUGUEL', 'amount': 6765.0, 'conc': '2021 / 3'}, {'expenseType__title': 'ALUGUEL', 'amount': 6765.0, 'conc': '2021 / 3'}, {'expenseType__title': 'ALUGUEL', 'amount': 6765.0, 'conc': '2021 / 4'}, {'expenseType__title': 'ALUGUEL', 'amount': 6765.0, 'conc': '2021 / 4'}]>"
      ]
     },
     "execution_count": 34,
     "metadata": {},
     "output_type": "execute_result"
    }
   ],
   "source": [
    "datas"
   ]
  },
  {
   "cell_type": "code",
   "execution_count": 35,
   "metadata": {},
   "outputs": [],
   "source": [
    "pivot = pivot(datas, 'expenseType__title', 'conc', 'amount', aggregation=Sum)"
   ]
  },
  {
   "cell_type": "code",
   "execution_count": 36,
   "metadata": {},
   "outputs": [
    {
     "data": {
      "text/plain": [
       "<QuerySet [{'expenseType__title': 'FUNCIONARIO 1', '2020 / 10': 1000.0, '2020 / 11': None, '2020 / 12': None, '2021 / 1': None, '2021 / 2': None, '2021 / 3': None, '2021 / 4': None}, {'expenseType__title': 'FUNCIONARIO 1', '2020 / 10': None, '2020 / 11': 30000.0, '2020 / 12': None, '2021 / 1': None, '2021 / 2': None, '2021 / 3': None, '2021 / 4': None}, {'expenseType__title': 'FUNCIONARIO 1', '2020 / 10': None, '2020 / 11': None, '2020 / 12': 20000.0, '2021 / 1': None, '2021 / 2': None, '2021 / 3': None, '2021 / 4': None}, {'expenseType__title': 'ALUGUEL', '2020 / 10': None, '2020 / 11': None, '2020 / 12': None, '2021 / 1': 13530.0, '2021 / 2': None, '2021 / 3': None, '2021 / 4': None}, {'expenseType__title': 'FUNCIONARIO 1', '2020 / 10': None, '2020 / 11': None, '2020 / 12': None, '2021 / 1': 20000.0, '2021 / 2': None, '2021 / 3': None, '2021 / 4': None}, {'expenseType__title': 'ALUGUEL', '2020 / 10': None, '2020 / 11': None, '2020 / 12': None, '2021 / 1': None, '2021 / 2': 13530.0, '2021 / 3': None, '2021 / 4': None}, {'expenseType__title': 'FUNCIONARIO 1', '2020 / 10': None, '2020 / 11': None, '2020 / 12': None, '2021 / 1': None, '2021 / 2': 20000.0, '2021 / 3': None, '2021 / 4': None}, {'expenseType__title': 'ALUGUEL', '2020 / 10': None, '2020 / 11': None, '2020 / 12': None, '2021 / 1': None, '2021 / 2': None, '2021 / 3': 13530.0, '2021 / 4': None}, {'expenseType__title': 'ALUGUEL', '2020 / 10': None, '2020 / 11': None, '2020 / 12': None, '2021 / 1': None, '2021 / 2': None, '2021 / 3': None, '2021 / 4': 13530.0}]>"
      ]
     },
     "execution_count": 36,
     "metadata": {},
     "output_type": "execute_result"
    }
   ],
   "source": [
    "pivot"
   ]
  },
  {
   "cell_type": "code",
   "execution_count": 37,
   "metadata": {},
   "outputs": [],
   "source": [
    "df = pd.DataFrame(datas)"
   ]
  },
  {
   "cell_type": "code",
   "execution_count": 38,
   "metadata": {},
   "outputs": [
    {
     "data": {
      "text/html": [
       "<div>\n",
       "<style scoped>\n",
       "    .dataframe tbody tr th:only-of-type {\n",
       "        vertical-align: middle;\n",
       "    }\n",
       "\n",
       "    .dataframe tbody tr th {\n",
       "        vertical-align: top;\n",
       "    }\n",
       "\n",
       "    .dataframe thead th {\n",
       "        text-align: right;\n",
       "    }\n",
       "</style>\n",
       "<table border=\"1\" class=\"dataframe\">\n",
       "  <thead>\n",
       "    <tr style=\"text-align: right;\">\n",
       "      <th></th>\n",
       "      <th>expenseType__title</th>\n",
       "      <th>amount</th>\n",
       "      <th>conc</th>\n",
       "    </tr>\n",
       "  </thead>\n",
       "  <tbody>\n",
       "    <tr>\n",
       "      <th>0</th>\n",
       "      <td>FUNCIONARIO 1</td>\n",
       "      <td>1000.0</td>\n",
       "      <td>2020 / 10</td>\n",
       "    </tr>\n",
       "    <tr>\n",
       "      <th>1</th>\n",
       "      <td>FUNCIONARIO 1</td>\n",
       "      <td>10000.0</td>\n",
       "      <td>2020 / 11</td>\n",
       "    </tr>\n",
       "    <tr>\n",
       "      <th>2</th>\n",
       "      <td>FUNCIONARIO 1</td>\n",
       "      <td>20000.0</td>\n",
       "      <td>2020 / 11</td>\n",
       "    </tr>\n",
       "    <tr>\n",
       "      <th>3</th>\n",
       "      <td>FUNCIONARIO 1</td>\n",
       "      <td>20000.0</td>\n",
       "      <td>2020 / 12</td>\n",
       "    </tr>\n",
       "    <tr>\n",
       "      <th>4</th>\n",
       "      <td>FUNCIONARIO 1</td>\n",
       "      <td>20000.0</td>\n",
       "      <td>2021 / 1</td>\n",
       "    </tr>\n",
       "    <tr>\n",
       "      <th>5</th>\n",
       "      <td>ALUGUEL</td>\n",
       "      <td>6765.0</td>\n",
       "      <td>2021 / 1</td>\n",
       "    </tr>\n",
       "    <tr>\n",
       "      <th>6</th>\n",
       "      <td>ALUGUEL</td>\n",
       "      <td>6765.0</td>\n",
       "      <td>2021 / 1</td>\n",
       "    </tr>\n",
       "    <tr>\n",
       "      <th>7</th>\n",
       "      <td>FUNCIONARIO 1</td>\n",
       "      <td>20000.0</td>\n",
       "      <td>2021 / 2</td>\n",
       "    </tr>\n",
       "    <tr>\n",
       "      <th>8</th>\n",
       "      <td>ALUGUEL</td>\n",
       "      <td>6765.0</td>\n",
       "      <td>2021 / 2</td>\n",
       "    </tr>\n",
       "    <tr>\n",
       "      <th>9</th>\n",
       "      <td>ALUGUEL</td>\n",
       "      <td>6765.0</td>\n",
       "      <td>2021 / 2</td>\n",
       "    </tr>\n",
       "    <tr>\n",
       "      <th>10</th>\n",
       "      <td>ALUGUEL</td>\n",
       "      <td>6765.0</td>\n",
       "      <td>2021 / 3</td>\n",
       "    </tr>\n",
       "    <tr>\n",
       "      <th>11</th>\n",
       "      <td>ALUGUEL</td>\n",
       "      <td>6765.0</td>\n",
       "      <td>2021 / 3</td>\n",
       "    </tr>\n",
       "    <tr>\n",
       "      <th>12</th>\n",
       "      <td>ALUGUEL</td>\n",
       "      <td>6765.0</td>\n",
       "      <td>2021 / 4</td>\n",
       "    </tr>\n",
       "    <tr>\n",
       "      <th>13</th>\n",
       "      <td>ALUGUEL</td>\n",
       "      <td>6765.0</td>\n",
       "      <td>2021 / 4</td>\n",
       "    </tr>\n",
       "  </tbody>\n",
       "</table>\n",
       "</div>"
      ],
      "text/plain": [
       "   expenseType__title   amount       conc\n",
       "0       FUNCIONARIO 1   1000.0  2020 / 10\n",
       "1       FUNCIONARIO 1  10000.0  2020 / 11\n",
       "2       FUNCIONARIO 1  20000.0  2020 / 11\n",
       "3       FUNCIONARIO 1  20000.0  2020 / 12\n",
       "4       FUNCIONARIO 1  20000.0   2021 / 1\n",
       "5             ALUGUEL   6765.0   2021 / 1\n",
       "6             ALUGUEL   6765.0   2021 / 1\n",
       "7       FUNCIONARIO 1  20000.0   2021 / 2\n",
       "8             ALUGUEL   6765.0   2021 / 2\n",
       "9             ALUGUEL   6765.0   2021 / 2\n",
       "10            ALUGUEL   6765.0   2021 / 3\n",
       "11            ALUGUEL   6765.0   2021 / 3\n",
       "12            ALUGUEL   6765.0   2021 / 4\n",
       "13            ALUGUEL   6765.0   2021 / 4"
      ]
     },
     "execution_count": 38,
     "metadata": {},
     "output_type": "execute_result"
    }
   ],
   "source": [
    "df"
   ]
  },
  {
   "cell_type": "code",
   "execution_count": 39,
   "metadata": {},
   "outputs": [
    {
     "data": {
      "text/html": [
       "<div>\n",
       "<style scoped>\n",
       "    .dataframe tbody tr th:only-of-type {\n",
       "        vertical-align: middle;\n",
       "    }\n",
       "\n",
       "    .dataframe tbody tr th {\n",
       "        vertical-align: top;\n",
       "    }\n",
       "\n",
       "    .dataframe thead th {\n",
       "        text-align: right;\n",
       "    }\n",
       "</style>\n",
       "<table border=\"1\" class=\"dataframe\">\n",
       "  <thead>\n",
       "    <tr style=\"text-align: right;\">\n",
       "      <th>conc</th>\n",
       "      <th>2020 / 10</th>\n",
       "      <th>2020 / 11</th>\n",
       "      <th>2020 / 12</th>\n",
       "      <th>2021 / 1</th>\n",
       "      <th>2021 / 2</th>\n",
       "      <th>2021 / 3</th>\n",
       "      <th>2021 / 4</th>\n",
       "    </tr>\n",
       "    <tr>\n",
       "      <th>expenseType__title</th>\n",
       "      <th></th>\n",
       "      <th></th>\n",
       "      <th></th>\n",
       "      <th></th>\n",
       "      <th></th>\n",
       "      <th></th>\n",
       "      <th></th>\n",
       "    </tr>\n",
       "  </thead>\n",
       "  <tbody>\n",
       "    <tr>\n",
       "      <th>ALUGUEL</th>\n",
       "      <td>NaN</td>\n",
       "      <td>NaN</td>\n",
       "      <td>NaN</td>\n",
       "      <td>13530.0</td>\n",
       "      <td>13530.0</td>\n",
       "      <td>13530.0</td>\n",
       "      <td>13530.0</td>\n",
       "    </tr>\n",
       "    <tr>\n",
       "      <th>FUNCIONARIO 1</th>\n",
       "      <td>1000.0</td>\n",
       "      <td>30000.0</td>\n",
       "      <td>20000.0</td>\n",
       "      <td>20000.0</td>\n",
       "      <td>20000.0</td>\n",
       "      <td>NaN</td>\n",
       "      <td>NaN</td>\n",
       "    </tr>\n",
       "  </tbody>\n",
       "</table>\n",
       "</div>"
      ],
      "text/plain": [
       "conc                2020 / 10  2020 / 11  2020 / 12  2021 / 1  2021 / 2  \\\n",
       "expenseType__title                                                        \n",
       "ALUGUEL                   NaN        NaN        NaN   13530.0   13530.0   \n",
       "FUNCIONARIO 1          1000.0    30000.0    20000.0   20000.0   20000.0   \n",
       "\n",
       "conc                2021 / 3  2021 / 4  \n",
       "expenseType__title                      \n",
       "ALUGUEL              13530.0   13530.0  \n",
       "FUNCIONARIO 1            NaN       NaN  "
      ]
     },
     "execution_count": 39,
     "metadata": {},
     "output_type": "execute_result"
    }
   ],
   "source": [
    "pd.pivot_table(df, values='amount', index=['expenseType__title'],\n",
    "                    columns=['conc'], aggfunc=sum)"
   ]
  },
  {
   "cell_type": "code",
   "execution_count": 64,
   "metadata": {},
   "outputs": [],
   "source": [
    "expenses = Expense.objects.all().filter(date__range=(now, end_date))\\\n",
    "            .values('expenseType__title', 'amount', 'date').order_by('date')"
   ]
  },
  {
   "cell_type": "code",
   "execution_count": 65,
   "metadata": {},
   "outputs": [
    {
     "data": {
      "text/plain": [
       "<QuerySet [{'expenseType__title': 'FUNCIONARIO 1', 'amount': 1000.0, 'date': datetime.date(2020, 10, 2)}, {'expenseType__title': 'FUNCIONARIO 1', 'amount': 10000.0, 'date': datetime.date(2020, 11, 1)}, {'expenseType__title': 'FUNCIONARIO 1', 'amount': 20000.0, 'date': datetime.date(2020, 11, 1)}, {'expenseType__title': 'FUNCIONARIO 1', 'amount': 20000.0, 'date': datetime.date(2020, 12, 1)}, {'expenseType__title': 'FUNCIONARIO 1', 'amount': 20000.0, 'date': datetime.date(2021, 1, 1)}, {'expenseType__title': 'ALUGUEL', 'amount': 6765.0, 'date': datetime.date(2021, 1, 1)}, {'expenseType__title': 'ALUGUEL', 'amount': 6765.0, 'date': datetime.date(2021, 1, 1)}, {'expenseType__title': 'FUNCIONARIO 1', 'amount': 20000.0, 'date': datetime.date(2021, 2, 1)}, {'expenseType__title': 'ALUGUEL', 'amount': 6765.0, 'date': datetime.date(2021, 2, 1)}, {'expenseType__title': 'ALUGUEL', 'amount': 6765.0, 'date': datetime.date(2021, 2, 1)}, {'expenseType__title': 'ALUGUEL', 'amount': 6765.0, 'date': datetime.date(2021, 3, 1)}, {'expenseType__title': 'ALUGUEL', 'amount': 6765.0, 'date': datetime.date(2021, 3, 1)}, {'expenseType__title': 'ALUGUEL', 'amount': 6765.0, 'date': datetime.date(2021, 4, 1)}, {'expenseType__title': 'ALUGUEL', 'amount': 6765.0, 'date': datetime.date(2021, 4, 1)}]>"
      ]
     },
     "execution_count": 65,
     "metadata": {},
     "output_type": "execute_result"
    }
   ],
   "source": [
    "expenses"
   ]
  },
  {
   "cell_type": "code",
   "execution_count": null,
   "metadata": {},
   "outputs": [],
   "source": []
  },
  {
   "cell_type": "code",
   "execution_count": null,
   "metadata": {},
   "outputs": [],
   "source": []
  },
  {
   "cell_type": "code",
   "execution_count": null,
   "metadata": {},
   "outputs": [],
   "source": []
  },
  {
   "cell_type": "code",
   "execution_count": null,
   "metadata": {},
   "outputs": [],
   "source": []
  },
  {
   "cell_type": "code",
   "execution_count": null,
   "metadata": {},
   "outputs": [],
   "source": []
  },
  {
   "cell_type": "code",
   "execution_count": null,
   "metadata": {},
   "outputs": [],
   "source": []
  },
  {
   "cell_type": "code",
   "execution_count": 3,
   "metadata": {},
   "outputs": [],
   "source": [
    "now = datetime.now()\n",
    "end_date = now+timedelta(days=365)"
   ]
  },
  {
   "cell_type": "code",
   "execution_count": 9,
   "metadata": {},
   "outputs": [],
   "source": [
    "categories = Expense.objects.filter(expenseType=120)"
   ]
  },
  {
   "cell_type": "raw",
   "metadata": {},
   "source": []
  },
  {
   "cell_type": "code",
   "execution_count": 10,
   "metadata": {},
   "outputs": [
    {
     "data": {
      "text/plain": [
       "<QuerySet []>"
      ]
     },
     "execution_count": 10,
     "metadata": {},
     "output_type": "execute_result"
    }
   ],
   "source": [
    "categories"
   ]
  },
  {
   "cell_type": "code",
   "execution_count": null,
   "metadata": {},
   "outputs": [],
   "source": []
  },
  {
   "cell_type": "code",
   "execution_count": null,
   "metadata": {},
   "outputs": [],
   "source": []
  },
  {
   "cell_type": "code",
   "execution_count": null,
   "metadata": {},
   "outputs": [],
   "source": []
  },
  {
   "cell_type": "code",
   "execution_count": null,
   "metadata": {},
   "outputs": [],
   "source": []
  },
  {
   "cell_type": "code",
   "execution_count": null,
   "metadata": {},
   "outputs": [],
   "source": []
  },
  {
   "cell_type": "code",
   "execution_count": null,
   "metadata": {},
   "outputs": [],
   "source": []
  },
  {
   "cell_type": "code",
   "execution_count": null,
   "metadata": {},
   "outputs": [],
   "source": []
  },
  {
   "cell_type": "code",
   "execution_count": null,
   "metadata": {},
   "outputs": [],
   "source": []
  }
 ],
 "metadata": {
  "kernelspec": {
   "display_name": "Django Shell-Plus",
   "language": "python",
   "name": "django_extensions"
  },
  "language_info": {
   "codemirror_mode": {
    "name": "ipython",
    "version": 3
   },
   "file_extension": ".py",
   "mimetype": "text/x-python",
   "name": "python",
   "nbconvert_exporter": "python",
   "pygments_lexer": "ipython3",
   "version": "3.8.2"
  }
 },
 "nbformat": 4,
 "nbformat_minor": 4
}

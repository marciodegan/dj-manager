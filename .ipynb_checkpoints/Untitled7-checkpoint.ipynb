{
 "cells": [
  {
   "cell_type": "code",
   "execution_count": 36,
   "metadata": {},
   "outputs": [],
   "source": [
    "sales_list = Fat.objects.all()"
   ]
  },
  {
   "cell_type": "code",
   "execution_count": 41,
   "metadata": {},
   "outputs": [],
   "source": [
    "product = [i for i in sales_list if i.amount > 0] # only sum even numbers in the list"
   ]
  },
  {
   "cell_type": "code",
   "execution_count": null,
   "metadata": {},
   "outputs": [],
   "source": []
  },
  {
   "cell_type": "code",
   "execution_count": 42,
   "metadata": {},
   "outputs": [
    {
     "data": {
      "text/plain": [
       "[<Fat: Fat object (53)>,\n",
       " <Fat: Fat object (54)>,\n",
       " <Fat: Fat object (55)>,\n",
       " <Fat: Fat object (56)>,\n",
       " <Fat: Fat object (57)>,\n",
       " <Fat: Fat object (58)>,\n",
       " <Fat: Fat object (59)>,\n",
       " <Fat: Fat object (60)>,\n",
       " <Fat: Fat object (61)>,\n",
       " <Fat: Fat object (62)>]"
      ]
     },
     "execution_count": 42,
     "metadata": {},
     "output_type": "execute_result"
    }
   ],
   "source": [
    "def fat():\n",
    "    sales_list = Fat.objects.all()"
   ]
  },
  {
   "cell_type": "code",
   "execution_count": 44,
   "metadata": {},
   "outputs": [
    {
     "name": "stdout",
     "output_type": "stream",
     "text": [
      "Function2 :  Hello\n",
      "Function1 :  World\n"
     ]
    }
   ],
   "source": [
    "class Main: \n",
    "  \n",
    "    # constructor of Main class \n",
    "    def __init__(self): \n",
    "        # Initialization of the Strings \n",
    "        self.String1 =\"Hello\"\n",
    "        self.String2 =\"World\"\n",
    "  \n",
    "    def Function1(self): \n",
    "        # calling Function2 Method \n",
    "        self.Function2() \n",
    "        print(\"Function1 : \", self.String2) \n",
    "        return \n",
    "  \n",
    "    def Function2(self): \n",
    "        print(\"Function2 : \", self.String1) \n",
    "        return\n",
    "  \n",
    "# Instance of Class Main \n",
    "Object = Main() \n",
    "  \n",
    "# Calling Function1 \n",
    "Object.Function1() "
   ]
  },
  {
   "cell_type": "code",
   "execution_count": 125,
   "metadata": {},
   "outputs": [],
   "source": [
    "from django.db.models.functions import TruncMonth\n",
    "from django.db.models import Count, Sum\n",
    "\n",
    "   "
   ]
  },
  {
   "cell_type": "code",
   "execution_count": 126,
   "metadata": {},
   "outputs": [
    {
     "ename": "NameError",
     "evalue": "name 'Fat' is not defined",
     "output_type": "error",
     "traceback": [
      "\u001b[0;31m--------------------------------------------\u001b[0m",
      "\u001b[0;31mNameError\u001b[0m  Traceback (most recent call last)",
      "\u001b[0;32m<ipython-input-126-41356c0fa228>\u001b[0m in \u001b[0;36m<module>\u001b[0;34m\u001b[0m\n\u001b[0;32m----> 1\u001b[0;31m \u001b[0mFat\u001b[0m\u001b[0;34m.\u001b[0m\u001b[0mobjects\u001b[0m\u001b[0;34m.\u001b[0m\u001b[0mannotate\u001b[0m\u001b[0;34m(\u001b[0m\u001b[0mmonth\u001b[0m\u001b[0;34m=\u001b[0m\u001b[0mTruncMonth\u001b[0m\u001b[0;34m(\u001b[0m\u001b[0;34m'date'\u001b[0m\u001b[0;34m)\u001b[0m\u001b[0;34m)\u001b[0m\u001b[0;34m.\u001b[0m\u001b[0mvalues\u001b[0m\u001b[0;34m(\u001b[0m\u001b[0;34m'month'\u001b[0m\u001b[0;34m)\u001b[0m\u001b[0;34m.\u001b[0m\u001b[0maggregate\u001b[0m\u001b[0;34m(\u001b[0m\u001b[0msum\u001b[0m\u001b[0;34m=\u001b[0m\u001b[0mSum\u001b[0m\u001b[0;34m(\u001b[0m\u001b[0;34m'amount'\u001b[0m\u001b[0;34m)\u001b[0m\u001b[0;34m)\u001b[0m\u001b[0;34m\u001b[0m\u001b[0;34m\u001b[0m\u001b[0m\n\u001b[0m",
      "\u001b[0;31mNameError\u001b[0m: name 'Fat' is not defined"
     ]
    }
   ],
   "source": [
    "Fat.objects.annotate(month=TruncMonth('date')).values('month').aggregate(sum=Sum('amount'))"
   ]
  },
  {
   "cell_type": "code",
   "execution_count": 127,
   "metadata": {},
   "outputs": [],
   "source": [
    "from django.db.models.functions import ExtractMonth, ExtractYear\n",
    "from django_pivot.pivot import pivot"
   ]
  },
  {
   "cell_type": "code",
   "execution_count": 574,
   "metadata": {},
   "outputs": [],
   "source": [
    "check = Expense.objects.annotate(month=ExtractMonth('date'), year=ExtractYear('date')).values('month', 'year').annotate(count=Sum('amount')).values('month', 'count', 'year') "
   ]
  },
  {
   "cell_type": "code",
   "execution_count": 575,
   "metadata": {},
   "outputs": [
    {
     "name": "stdout",
     "output_type": "stream",
     "text": [
      "{'month': 4, 'year': 2019, 'count': 100000.0}\n",
      "{'month': 4, 'year': 2020, 'count': 100.0}\n",
      "{'month': 5, 'year': 2020, 'count': 500.0}\n",
      "{'month': 6, 'year': 2020, 'count': 500.0}\n",
      "{'month': 7, 'year': 2020, 'count': 500.0}\n",
      "{'month': 8, 'year': 2020, 'count': 300.0}\n",
      "{'month': 9, 'year': 2020, 'count': 200.0}\n",
      "{'month': 10, 'year': 2020, 'count': 1000.0}\n"
     ]
    }
   ],
   "source": [
    "for i in check:\n",
    "    print(i)"
   ]
  },
  {
   "cell_type": "code",
   "execution_count": 576,
   "metadata": {},
   "outputs": [],
   "source": [
    "checks = Expense.objects.annotate(month=ExtractMonth('date'), year=ExtractYear('date')).values('month', 'year').annotate(count=Sum('amount')).values('expenseType__category__category') "
   ]
  },
  {
   "cell_type": "code",
   "execution_count": 578,
   "metadata": {},
   "outputs": [
    {
     "name": "stdout",
     "output_type": "stream",
     "text": [
      "{'month': 10, 'year': 2020, 'count': 1000.0}\n",
      "{'month': 10, 'year': 2020, 'count': 1000.0}\n",
      "{'month': 10, 'year': 2020, 'count': 1000.0}\n",
      "{'month': 10, 'year': 2020, 'count': 1000.0}\n",
      "{'month': 10, 'year': 2020, 'count': 1000.0}\n",
      "{'month': 10, 'year': 2020, 'count': 1000.0}\n",
      "{'month': 10, 'year': 2020, 'count': 1000.0}\n",
      "{'month': 10, 'year': 2020, 'count': 1000.0}\n",
      "{'month': 10, 'year': 2020, 'count': 1000.0}\n",
      "{'month': 10, 'year': 2020, 'count': 1000.0}\n",
      "{'month': 10, 'year': 2020, 'count': 1000.0}\n"
     ]
    }
   ],
   "source": [
    "for item in checks:\n",
    "    print(i)"
   ]
  },
  {
   "cell_type": "code",
   "execution_count": 579,
   "metadata": {},
   "outputs": [],
   "source": [
    "check2 = Expense.objects.annotate(month=ExtractMonth('date'), year=ExtractYear('date')).values('month', 'year').annotate(sum=Sum('amount')).values('expenseType__category__category').order_by('year', 'month')"
   ]
  },
  {
   "cell_type": "code",
   "execution_count": 580,
   "metadata": {},
   "outputs": [
    {
     "name": "stdout",
     "output_type": "stream",
     "text": [
      "FIXOS\n",
      "SALARIOS\n",
      "FIXOS\n",
      "SALARIOS\n",
      "FIXOS\n",
      "SALARIOS\n",
      "FIXOS\n",
      "SALARIOS\n",
      "SALARIOS\n",
      "SALARIOS\n",
      "SALARIOS\n"
     ]
    }
   ],
   "source": [
    "for i in checks:\n",
    "    print(i['expenseType__category__category'])"
   ]
  },
  {
   "cell_type": "code",
   "execution_count": 581,
   "metadata": {},
   "outputs": [],
   "source": [
    "check2 = Expense.objects.values('expenseType__category__category').annotate(month=ExtractMonth('date'), year=ExtractYear('date')).annotate(sum=Sum('amount')).order_by('year', 'month')"
   ]
  },
  {
   "cell_type": "code",
   "execution_count": 582,
   "metadata": {},
   "outputs": [
    {
     "name": "stdout",
     "output_type": "stream",
     "text": [
      "{'expenseType__category__category': 'FIXOS', 'month': 4, 'year': 2019, 'sum': 100000.0}\n",
      "{'expenseType__category__category': 'SALARIOS', 'month': 4, 'year': 2020, 'sum': 100.0}\n",
      "{'expenseType__category__category': 'FIXOS', 'month': 5, 'year': 2020, 'sum': 200.0}\n",
      "{'expenseType__category__category': 'SALARIOS', 'month': 5, 'year': 2020, 'sum': 300.0}\n",
      "{'expenseType__category__category': 'FIXOS', 'month': 6, 'year': 2020, 'sum': 200.0}\n",
      "{'expenseType__category__category': 'SALARIOS', 'month': 6, 'year': 2020, 'sum': 300.0}\n",
      "{'expenseType__category__category': 'FIXOS', 'month': 7, 'year': 2020, 'sum': 200.0}\n",
      "{'expenseType__category__category': 'SALARIOS', 'month': 7, 'year': 2020, 'sum': 300.0}\n",
      "{'expenseType__category__category': 'SALARIOS', 'month': 8, 'year': 2020, 'sum': 300.0}\n",
      "{'expenseType__category__category': 'SALARIOS', 'month': 9, 'year': 2020, 'sum': 200.0}\n",
      "{'expenseType__category__category': 'SALARIOS', 'month': 10, 'year': 2020, 'sum': 1000.0}\n"
     ]
    }
   ],
   "source": [
    "for i in check2:\n",
    "    print(i)"
   ]
  },
  {
   "cell_type": "code",
   "execution_count": 583,
   "metadata": {},
   "outputs": [],
   "source": [
    "data = Expense.objects.all().annotate(month=ExtractMonth('date'), year=ExtractYear('date')).values_list('year', 'month')"
   ]
  },
  {
   "cell_type": "code",
   "execution_count": 584,
   "metadata": {},
   "outputs": [],
   "source": [
    "from django.db.models import Sum"
   ]
  },
  {
   "cell_type": "code",
   "execution_count": 585,
   "metadata": {},
   "outputs": [],
   "source": [
    "pivot_table = pivot(data, 'expenseType__category__category','date','amount', aggregation=Sum)"
   ]
  },
  {
   "cell_type": "code",
   "execution_count": 586,
   "metadata": {},
   "outputs": [
    {
     "data": {
      "text/plain": [
       "<QuerySet [{'expenseType__category__category': 'FIXOS', '2019-04-01': 100000.0, '2020-04-01': None, '2020-05-01': 200.0, '2020-06-01': 200.0, '2020-07-01': 200.0, '2020-08-01': None, '2020-09-01': None, '2020-10-10': None}, {'expenseType__category__category': 'SALARIOS', '2019-04-01': None, '2020-04-01': 100.0, '2020-05-01': 300.0, '2020-06-01': 300.0, '2020-07-01': 300.0, '2020-08-01': 300.0, '2020-09-01': 200.0, '2020-10-10': 1000.0}]>"
      ]
     },
     "execution_count": 586,
     "metadata": {},
     "output_type": "execute_result"
    }
   ],
   "source": [
    "pivot_table"
   ]
  },
  {
   "cell_type": "code",
   "execution_count": 452,
   "metadata": {},
   "outputs": [
    {
     "ename": "SyntaxError",
     "evalue": "invalid syntax (<ipython-input-452-66e45f2953fc>, line 1)",
     "output_type": "error",
     "traceback": [
      "\u001b[0;36m  File \u001b[0;32m\"<ipython-input-452-66e45f2953fc>\"\u001b[0;36m, line \u001b[0;32m1\u001b[0m\n\u001b[0;31m    [{'label': item['expenseType__category__category'], 'value':item['value']}item for item in pivot_table]\u001b[0m\n\u001b[0m                                                                              ^\u001b[0m\n\u001b[0;31mSyntaxError\u001b[0m\u001b[0;31m:\u001b[0m invalid syntax\n"
     ]
    }
   ],
   "source": [
    "[{'label': item['expenseType__category__category'], 'value':item['value']}item for item in pivot_table]"
   ]
  },
  {
   "cell_type": "code",
   "execution_count": null,
   "metadata": {},
   "outputs": [],
   "source": []
  },
  {
   "cell_type": "code",
   "execution_count": 228,
   "metadata": {},
   "outputs": [],
   "source": [
    "def monthyear():\n",
    "    Expense.objects.annotate(year=ExtractYear('date'))\n",
    "    return (year)"
   ]
  },
  {
   "cell_type": "code",
   "execution_count": 229,
   "metadata": {},
   "outputs": [
    {
     "ename": "NameError",
     "evalue": "name 'year' is not defined",
     "output_type": "error",
     "traceback": [
      "\u001b[0;31m--------------------------------------------\u001b[0m",
      "\u001b[0;31mNameError\u001b[0m  Traceback (most recent call last)",
      "\u001b[0;32m<ipython-input-229-6eafb1ca2caa>\u001b[0m in \u001b[0;36m<module>\u001b[0;34m\u001b[0m\n\u001b[0;32m----> 1\u001b[0;31m \u001b[0mmonthyear\u001b[0m\u001b[0;34m(\u001b[0m\u001b[0;34m)\u001b[0m\u001b[0;34m\u001b[0m\u001b[0;34m\u001b[0m\u001b[0m\n\u001b[0m",
      "\u001b[0;32m<ipython-input-228-45ddea4f6a69>\u001b[0m in \u001b[0;36mmonthyear\u001b[0;34m()\u001b[0m\n\u001b[1;32m      1\u001b[0m \u001b[0;32mdef\u001b[0m \u001b[0mmonthyear\u001b[0m\u001b[0;34m(\u001b[0m\u001b[0;34m)\u001b[0m\u001b[0;34m:\u001b[0m\u001b[0;34m\u001b[0m\u001b[0;34m\u001b[0m\u001b[0m\n\u001b[1;32m      2\u001b[0m     \u001b[0mExpense\u001b[0m\u001b[0;34m.\u001b[0m\u001b[0mobjects\u001b[0m\u001b[0;34m.\u001b[0m\u001b[0mannotate\u001b[0m\u001b[0;34m(\u001b[0m\u001b[0myear\u001b[0m\u001b[0;34m=\u001b[0m\u001b[0mExtractYear\u001b[0m\u001b[0;34m(\u001b[0m\u001b[0;34m'date'\u001b[0m\u001b[0;34m)\u001b[0m\u001b[0;34m)\u001b[0m\u001b[0;34m\u001b[0m\u001b[0;34m\u001b[0m\u001b[0m\n\u001b[0;32m----> 3\u001b[0;31m     \u001b[0;32mreturn\u001b[0m \u001b[0;34m(\u001b[0m\u001b[0myear\u001b[0m\u001b[0;34m)\u001b[0m\u001b[0;34m\u001b[0m\u001b[0;34m\u001b[0m\u001b[0m\n\u001b[0m",
      "\u001b[0;31mNameError\u001b[0m: name 'year' is not defined"
     ]
    }
   ],
   "source": [
    "monthyear()"
   ]
  },
  {
   "cell_type": "code",
   "execution_count": 329,
   "metadata": {},
   "outputs": [],
   "source": [
    "checks3 = Expense.objects.values_list('expenseType__category__category').annotate(count=Sum('amount')).annotate(month=ExtractMonth('date'), year=ExtractYear('date')).values('month', 'year').values('month', 'year', 'expenseType__category__category') \n"
   ]
  },
  {
   "cell_type": "code",
   "execution_count": 330,
   "metadata": {},
   "outputs": [
    {
     "data": {
      "text/plain": [
       "'SELECT \"tasks_category\".\"category\", django_date_extract(\\'month\\', \"budgets_expense\".\"date\") AS \"month\", django_date_extract(\\'year\\', \"budgets_expense\".\"date\") AS \"year\" FROM \"budgets_expense\" INNER JOIN \"tasks_expensetype\" ON (\"budgets_expense\".\"expenseType_id\" = \"tasks_expensetype\".\"id\") INNER JOIN \"tasks_category\" ON (\"tasks_expensetype\".\"category_id\" = \"tasks_category\".\"id\") GROUP BY \"tasks_category\".\"category\", django_date_extract(\\'month\\', \"budgets_expense\".\"date\"), django_date_extract(\\'year\\', \"budgets_expense\".\"date\")'"
      ]
     },
     "execution_count": 330,
     "metadata": {},
     "output_type": "execute_result"
    }
   ],
   "source": [
    "str(checks3.query)"
   ]
  },
  {
   "cell_type": "code",
   "execution_count": 331,
   "metadata": {},
   "outputs": [
    {
     "data": {
      "text/plain": [
       "<QuerySet [{'expenseType__category__category': 'FIXOS', 'month': 4, 'year': 2019}, {'expenseType__category__category': 'FIXOS', 'month': 5, 'year': 2020}, {'expenseType__category__category': 'FIXOS', 'month': 6, 'year': 2020}, {'expenseType__category__category': 'FIXOS', 'month': 7, 'year': 2020}, {'expenseType__category__category': 'SALARIOS', 'month': 4, 'year': 2020}, {'expenseType__category__category': 'SALARIOS', 'month': 5, 'year': 2020}, {'expenseType__category__category': 'SALARIOS', 'month': 6, 'year': 2020}, {'expenseType__category__category': 'SALARIOS', 'month': 7, 'year': 2020}, {'expenseType__category__category': 'SALARIOS', 'month': 8, 'year': 2020}, {'expenseType__category__category': 'SALARIOS', 'month': 9, 'year': 2020}, {'expenseType__category__category': 'SALARIOS', 'month': 10, 'year': 2020}]>"
      ]
     },
     "execution_count": 331,
     "metadata": {},
     "output_type": "execute_result"
    }
   ],
   "source": [
    "checks3"
   ]
  },
  {
   "cell_type": "code",
   "execution_count": 476,
   "metadata": {},
   "outputs": [],
   "source": [
    "categories = Expense.objects.values('expenseType__category__category')\\\n",
    "    .aggregate(count)\n",
    "    .annotate(count=Count('expenseType__category__category'), month=ExtractMonth('date'))\\\n",
    "    .annotate(countmonth=Count('month'))\\\n",
    "    .values('expenseType__category__category', 'countmonth')"
   ]
  },
  {
   "cell_type": "code",
   "execution_count": 477,
   "metadata": {},
   "outputs": [
    {
     "data": {
      "text/plain": [
       "['total']"
      ]
     },
     "execution_count": 477,
     "metadata": {},
     "output_type": "execute_result"
    }
   ],
   "source": [
    "[item for item in categories]"
   ]
  },
  {
   "cell_type": "code",
   "execution_count": 460,
   "metadata": {},
   "outputs": [
    {
     "data": {
      "text/plain": [
       "[{'label': 'FIXOS', 'value': 4},\n",
       " {'label': 'FIXOS', 'value': 5},\n",
       " {'label': 'FIXOS', 'value': 6},\n",
       " {'label': 'FIXOS', 'value': 7},\n",
       " {'label': 'SALARIOS', 'value': 4},\n",
       " {'label': 'SALARIOS', 'value': 5},\n",
       " {'label': 'SALARIOS', 'value': 6},\n",
       " {'label': 'SALARIOS', 'value': 7},\n",
       " {'label': 'SALARIOS', 'value': 8},\n",
       " {'label': 'SALARIOS', 'value': 9},\n",
       " {'label': 'SALARIOS', 'value': 10}]"
      ]
     },
     "execution_count": 460,
     "metadata": {},
     "output_type": "execute_result"
    }
   ],
   "source": [
    "[{'label': item['expenseType__category__category'], 'value':item['month']} for item in categories]"
   ]
  },
  {
   "cell_type": "code",
   "execution_count": 478,
   "metadata": {},
   "outputs": [],
   "source": [
    "def categories(request):\n",
    "    categories = Lancamento.objects\\\n",
    "        .values('lancamento__category__category')\\\n",
    "        .annotate(value=Sum('amount')+Sum('amount2')+Sum('amount3'))\\\n",
    "        .order_by('lancamento__category__category')\n",
    "    data = {\n",
    "        'data': [\n",
    "            {\n",
    "                'label': item['lancamento__category__category'],\n",
    "                'value': item['value']\n",
    "            }\n",
    "            for item in categories\n",
    "        ]\n",
    "    }\n",
    "    return JsonResponse(data)"
   ]
  },
  {
   "cell_type": "code",
   "execution_count": 484,
   "metadata": {},
   "outputs": [],
   "source": [
    "from collections import defaultdict\n",
    "summary = defaultdict( int )\n",
    "for item in Expense.objects.all():\n",
    "    summary[item.expenseType, item.amount] += 1"
   ]
  },
  {
   "cell_type": "code",
   "execution_count": 485,
   "metadata": {},
   "outputs": [
    {
     "data": {
      "text/plain": [
       "defaultdict(int,\n",
       "            {(<ExpenseType: aluguel>, 100.0): 6,\n",
       "             (<ExpenseType: funcionario>, 100.0): 5,\n",
       "             (<ExpenseType: funcionario>, 1000.0): 1,\n",
       "             (<ExpenseType: aluguel>, 100000.0): 1,\n",
       "             (<ExpenseType: funcionario>, 200.0): 5})"
      ]
     },
     "execution_count": 485,
     "metadata": {},
     "output_type": "execute_result"
    }
   ],
   "source": [
    "summary"
   ]
  },
  {
   "cell_type": "markdown",
   "metadata": {},
   "source": [
    "table = []\n",
    "expenses = Expense.objects.all()\n",
    "for i in expenses:\n",
    "    i.\n",
    "    "
   ]
  },
  {
   "cell_type": "code",
   "execution_count": 545,
   "metadata": {},
   "outputs": [],
   "source": [
    "from django.db.models.functions import ExtractMonth, ExtractYear"
   ]
  },
  {
   "cell_type": "code",
   "execution_count": 839,
   "metadata": {},
   "outputs": [],
   "source": [
    "expenses = Expense.objects.all().values('expenseType__category__category')\\\n",
    "    .annotate(month=ExtractMonth('date'))\\\n",
    "    .annotate(total=Count('month'))\\\n",
    "    .annotate(cat=Count('expenseType__category__category')).values('cat','month')"
   ]
  },
  {
   "cell_type": "code",
   "execution_count": 840,
   "metadata": {},
   "outputs": [
    {
     "name": "stdout",
     "output_type": "stream",
     "text": [
      "1\n",
      "1\n",
      "1\n",
      "2\n",
      "2\n",
      "2\n",
      "2\n",
      "2\n",
      "1\n",
      "1\n"
     ]
    }
   ],
   "source": [
    "for i in expenses:\n",
    "    print(i['cat'])"
   ]
  },
  {
   "cell_type": "code",
   "execution_count": 643,
   "metadata": {},
   "outputs": [
    {
     "name": "stdout",
     "output_type": "stream",
     "text": [
      "{'id': 1, 'category': 'MKT & PROPAGANDA', 'created_at': datetime.datetime(2020, 9, 18, 13, 56, 18, 526888, tzinfo=<UTC>), 'updated_at': datetime.datetime(2020, 9, 21, 20, 56, 10, 701877, tzinfo=<UTC>)}\n",
      "{'id': 2, 'category': 'SALARIOS', 'created_at': datetime.datetime(2020, 9, 18, 13, 56, 46, 717240, tzinfo=<UTC>), 'updated_at': datetime.datetime(2020, 9, 21, 20, 55, 35, 171261, tzinfo=<UTC>)}\n",
      "{'id': 3, 'category': 'FIXOS', 'created_at': datetime.datetime(2020, 9, 21, 20, 56, 19, 802824, tzinfo=<UTC>), 'updated_at': datetime.datetime(2020, 9, 21, 20, 56, 19, 802907, tzinfo=<UTC>)}\n",
      "{'id': 4, 'category': 'INVESTIMENTOS', 'created_at': datetime.datetime(2020, 9, 21, 20, 56, 55, 643907, tzinfo=<UTC>), 'updated_at': datetime.datetime(2020, 9, 21, 20, 56, 55, 643990, tzinfo=<UTC>)}\n",
      "{'id': 5, 'category': 'SEGUROS', 'created_at': datetime.datetime(2020, 9, 21, 20, 57, 58, 151943, tzinfo=<UTC>), 'updated_at': datetime.datetime(2020, 9, 21, 20, 57, 58, 152021, tzinfo=<UTC>)}\n",
      "{'id': 6, 'category': 'JUROS/TXs BANCARIAS', 'created_at': datetime.datetime(2020, 9, 21, 20, 59, 8, 992723, tzinfo=<UTC>), 'updated_at': datetime.datetime(2020, 9, 21, 20, 59, 53, 988640, tzinfo=<UTC>)}\n",
      "{'id': 7, 'category': 'FINANCIAMENTOS', 'created_at': datetime.datetime(2020, 9, 21, 22, 53, 48, 674589, tzinfo=<UTC>), 'updated_at': datetime.datetime(2020, 9, 21, 22, 53, 48, 674669, tzinfo=<UTC>)}\n",
      "{'id': 8, 'category': 'PROLABORE', 'created_at': datetime.datetime(2020, 9, 22, 14, 58, 38, 716054, tzinfo=<UTC>), 'updated_at': datetime.datetime(2020, 9, 22, 14, 58, 38, 716121, tzinfo=<UTC>)}\n"
     ]
    }
   ],
   "source": [
    "expense = Category.objects.all().values()\n",
    "for i in expense:\n",
    "    print(i)"
   ]
  },
  {
   "cell_type": "code",
   "execution_count": 624,
   "metadata": {},
   "outputs": [],
   "source": [
    "list = []\n",
    "for i in expenses:\n",
    "    list.append(i['expenseType__category__category'])\n",
    "    list.append(i['month'])"
   ]
  },
  {
   "cell_type": "code",
   "execution_count": 625,
   "metadata": {},
   "outputs": [
    {
     "data": {
      "text/plain": [
       "['FIXOS',\n",
       " 4,\n",
       " 'FIXOS',\n",
       " 5,\n",
       " 'FIXOS',\n",
       " 6,\n",
       " 'FIXOS',\n",
       " 7,\n",
       " 'SALARIOS',\n",
       " 4,\n",
       " 'SALARIOS',\n",
       " 5,\n",
       " 'SALARIOS',\n",
       " 6,\n",
       " 'SALARIOS',\n",
       " 7,\n",
       " 'SALARIOS',\n",
       " 8,\n",
       " 'SALARIOS',\n",
       " 9,\n",
       " 'SALARIOS',\n",
       " 10]"
      ]
     },
     "execution_count": 625,
     "metadata": {},
     "output_type": "execute_result"
    }
   ],
   "source": [
    "list"
   ]
  },
  {
   "cell_type": "code",
   "execution_count": 589,
   "metadata": {},
   "outputs": [],
   "source": [
    "from collections import defaultdict\n",
    "summary = defaultdict( int )\n",
    "for issue in Expense.objects.all():\n",
    "    summary[issue.expenseType, issue.amount] += 1"
   ]
  },
  {
   "cell_type": "code",
   "execution_count": 590,
   "metadata": {},
   "outputs": [
    {
     "data": {
      "text/plain": [
       "defaultdict(int,\n",
       "            {(<ExpenseType: aluguel>, 100.0): 6,\n",
       "             (<ExpenseType: funcionario>, 100.0): 5,\n",
       "             (<ExpenseType: funcionario>, 1000.0): 1,\n",
       "             (<ExpenseType: aluguel>, 100000.0): 1,\n",
       "             (<ExpenseType: funcionario>, 200.0): 5})"
      ]
     },
     "execution_count": 590,
     "metadata": {},
     "output_type": "execute_result"
    }
   ],
   "source": [
    "summary"
   ]
  },
  {
   "cell_type": "code",
   "execution_count": 609,
   "metadata": {},
   "outputs": [
    {
     "ename": "TypeError",
     "evalue": "'<' not supported between instances of 'ExpenseType' and 'ExpenseType'",
     "output_type": "error",
     "traceback": [
      "\u001b[0;31m--------------------------------------------\u001b[0m",
      "\u001b[0;31mTypeError\u001b[0m  Traceback (most recent call last)",
      "\u001b[0;32m<ipython-input-609-af46b0a710da>\u001b[0m in \u001b[0;36m<module>\u001b[0;34m\u001b[0m\n\u001b[1;32m      1\u001b[0m \u001b[0mtable\u001b[0m \u001b[0;34m=\u001b[0m \u001b[0;34m[\u001b[0m\u001b[0;34m]\u001b[0m\u001b[0;34m\u001b[0m\u001b[0;34m\u001b[0m\u001b[0m\n\u001b[1;32m      2\u001b[0m \u001b[0mqueues\u001b[0m \u001b[0;34m=\u001b[0m \u001b[0mlist\u001b[0m\u001b[0;34m(\u001b[0m \u001b[0mq\u001b[0m \u001b[0;32mfor\u001b[0m \u001b[0mq\u001b[0m\u001b[0;34m,\u001b[0m\u001b[0m_\u001b[0m \u001b[0;32min\u001b[0m \u001b[0msummary\u001b[0m\u001b[0;34m.\u001b[0m\u001b[0mkeys\u001b[0m\u001b[0;34m(\u001b[0m\u001b[0;34m)\u001b[0m \u001b[0;34m)\u001b[0m\u001b[0;34m\u001b[0m\u001b[0;34m\u001b[0m\u001b[0m\n\u001b[0;32m----> 3\u001b[0;31m \u001b[0;32mfor\u001b[0m \u001b[0mq\u001b[0m \u001b[0;32min\u001b[0m \u001b[0msorted\u001b[0m\u001b[0;34m(\u001b[0m \u001b[0mqueues\u001b[0m \u001b[0;34m)\u001b[0m\u001b[0;34m:\u001b[0m\u001b[0;34m\u001b[0m\u001b[0;34m\u001b[0m\u001b[0m\n\u001b[0m\u001b[1;32m      4\u001b[0m     \u001b[0mtable\u001b[0m\u001b[0;34m.\u001b[0m\u001b[0mappend\u001b[0m\u001b[0;34m(\u001b[0m \u001b[0msummary\u001b[0m\u001b[0;34m.\u001b[0m\u001b[0mcount\u001b[0m\u001b[0;34m(\u001b[0m\u001b[0mq\u001b[0m\u001b[0;34m,\u001b[0m\u001b[0;34m'expenseType'\u001b[0m\u001b[0;34m)\u001b[0m\u001b[0;34m,\u001b[0m \u001b[0msummary\u001b[0m\u001b[0;34m.\u001b[0m\u001b[0mcount\u001b[0m\u001b[0;34m(\u001b[0m\u001b[0mq\u001b[0m\u001b[0;34m,\u001b[0m\u001b[0;34m'amount'\u001b[0m\u001b[0;34m)\u001b[0m \u001b[0;34m)\u001b[0m\u001b[0;34m\u001b[0m\u001b[0;34m\u001b[0m\u001b[0m\n",
      "\u001b[0;31mTypeError\u001b[0m: '<' not supported between instances of 'ExpenseType' and 'ExpenseType'"
     ]
    }
   ],
   "source": [
    "table = []\n",
    "queues = list( q for q,_ in summary.keys() )\n",
    "for q in sorted( queues ):\n",
    "    table.append( summary.count(q,'expenseType'), summary.count(q,'amount') )"
   ]
  },
  {
   "cell_type": "code",
   "execution_count": 634,
   "metadata": {},
   "outputs": [
    {
     "ename": "SyntaxError",
     "evalue": "invalid syntax (<ipython-input-634-53336a710641>, line 1)",
     "output_type": "error",
     "traceback": [
      "\u001b[0;36m  File \u001b[0;32m\"<ipython-input-634-53336a710641>\"\u001b[0;36m, line \u001b[0;32m1\u001b[0m\n\u001b[0;31m    Pivoting Data from without using pivot function\u001b[0m\n\u001b[0m             ^\u001b[0m\n\u001b[0;31mSyntaxError\u001b[0m\u001b[0;31m:\u001b[0m invalid syntax\n"
     ]
    }
   ],
   "source": []
  },
  {
   "cell_type": "markdown",
   "metadata": {},
   "source": []
  },
  {
   "cell_type": "code",
   "execution_count": 841,
   "metadata": {},
   "outputs": [
    {
     "name": "stdout",
     "output_type": "stream",
     "text": [
      "{'id': 32, 'expenseType_id': 1, 'amount': 100.0, 'date': datetime.date(2020, 5, 1), 'repetir': None}\n",
      "{'id': 33, 'expenseType_id': 1, 'amount': 100.0, 'date': datetime.date(2020, 6, 1), 'repetir': None}\n",
      "{'id': 34, 'expenseType_id': 1, 'amount': 100.0, 'date': datetime.date(2020, 7, 1), 'repetir': None}\n",
      "{'id': 35, 'expenseType_id': 1, 'amount': 100.0, 'date': datetime.date(2020, 8, 1), 'repetir': None}\n",
      "{'id': 36, 'expenseType_id': 1, 'amount': 100.0, 'date': datetime.date(2020, 9, 1), 'repetir': None}\n",
      "{'id': 237, 'expenseType_id': 1, 'amount': 100.0, 'date': datetime.date(2020, 2, 1), 'repetir': None}\n",
      "{'id': 238, 'expenseType_id': 1, 'amount': 100.0, 'date': datetime.date(2020, 3, 1), 'repetir': None}\n",
      "{'id': 239, 'expenseType_id': 1, 'amount': 100.0, 'date': datetime.date(2020, 4, 1), 'repetir': None}\n",
      "{'id': 240, 'expenseType_id': 1, 'amount': 100.0, 'date': datetime.date(2020, 5, 1), 'repetir': None}\n",
      "{'id': 241, 'expenseType_id': 1, 'amount': 100.0, 'date': datetime.date(2020, 6, 1), 'repetir': None}\n",
      "{'id': 242, 'expenseType_id': 1, 'amount': 100.0, 'date': datetime.date(2020, 7, 1), 'repetir': None}\n",
      "{'id': 243, 'expenseType_id': 1, 'amount': 100.0, 'date': datetime.date(2020, 8, 1), 'repetir': None}\n",
      "{'id': 244, 'expenseType_id': 1, 'amount': 100.0, 'date': datetime.date(2020, 9, 1), 'repetir': None}\n",
      "{'id': 245, 'expenseType_id': 1, 'amount': 100.0, 'date': datetime.date(2020, 10, 1), 'repetir': None}\n",
      "{'id': 246, 'expenseType_id': 1, 'amount': 100.0, 'date': datetime.date(2020, 11, 1), 'repetir': None}\n"
     ]
    }
   ],
   "source": [
    "expenses = Expense.objects.values()\n",
    "for i in expenses:\n",
    "    print(i)"
   ]
  },
  {
   "cell_type": "code",
   "execution_count": 674,
   "metadata": {},
   "outputs": [],
   "source": [
    "check = Expense.objects.annotate(month=ExtractMonth('date'), year=ExtractYear('date')).values('month', 'year').annotate(sum=Sum('amount')).values('month', 'sum', 'year').order_by('year', 'month')\n"
   ]
  },
  {
   "cell_type": "code",
   "execution_count": 665,
   "metadata": {},
   "outputs": [
    {
     "data": {
      "text/plain": [
       "<QuerySet [{'month': 4, 'year': 2019, 'sum': 100000.0}, {'month': 4, 'year': 2020, 'sum': 100.0}, {'month': 5, 'year': 2020, 'sum': 500.0}, {'month': 6, 'year': 2020, 'sum': 500.0}, {'month': 7, 'year': 2020, 'sum': 500.0}, {'month': 8, 'year': 2020, 'sum': 300.0}, {'month': 9, 'year': 2020, 'sum': 200.0}, {'month': 10, 'year': 2020, 'sum': 1000.0}]>"
      ]
     },
     "execution_count": 665,
     "metadata": {},
     "output_type": "execute_result"
    }
   ],
   "source": [
    "check"
   ]
  },
  {
   "cell_type": "code",
   "execution_count": 666,
   "metadata": {},
   "outputs": [
    {
     "name": "stdout",
     "output_type": "stream",
     "text": [
      "{'month': 4, 'year': 2019, 'sum': 100000.0}\n",
      "{'month': 4, 'year': 2020, 'sum': 100.0}\n",
      "{'month': 5, 'year': 2020, 'sum': 500.0}\n",
      "{'month': 6, 'year': 2020, 'sum': 500.0}\n",
      "{'month': 7, 'year': 2020, 'sum': 500.0}\n",
      "{'month': 8, 'year': 2020, 'sum': 300.0}\n",
      "{'month': 9, 'year': 2020, 'sum': 200.0}\n",
      "{'month': 10, 'year': 2020, 'sum': 1000.0}\n"
     ]
    }
   ],
   "source": [
    "for i in check:\n",
    "    print(i)"
   ]
  },
  {
   "cell_type": "code",
   "execution_count": 770,
   "metadata": {},
   "outputs": [],
   "source": [
    "dat = Expense.objects.annotate(data=Count('date'), total=Sum('amount'), count=Count('expenseType__category__category')).values('total').values('expenseType__category__category')"
   ]
  },
  {
   "cell_type": "code",
   "execution_count": 771,
   "metadata": {},
   "outputs": [
    {
     "name": "stdout",
     "output_type": "stream",
     "text": [
      "{'expenseType__category__category': 'FIXOS'}\n",
      "{'expenseType__category__category': 'FIXOS'}\n",
      "{'expenseType__category__category': 'FIXOS'}\n",
      "{'expenseType__category__category': 'FIXOS'}\n",
      "{'expenseType__category__category': 'FIXOS'}\n",
      "{'expenseType__category__category': 'FIXOS'}\n",
      "{'expenseType__category__category': 'FIXOS'}\n",
      "{'expenseType__category__category': 'SALARIOS'}\n",
      "{'expenseType__category__category': 'SALARIOS'}\n",
      "{'expenseType__category__category': 'SALARIOS'}\n",
      "{'expenseType__category__category': 'SALARIOS'}\n",
      "{'expenseType__category__category': 'SALARIOS'}\n",
      "{'expenseType__category__category': 'SALARIOS'}\n",
      "{'expenseType__category__category': 'SALARIOS'}\n",
      "{'expenseType__category__category': 'SALARIOS'}\n",
      "{'expenseType__category__category': 'SALARIOS'}\n",
      "{'expenseType__category__category': 'SALARIOS'}\n",
      "{'expenseType__category__category': 'SALARIOS'}\n"
     ]
    }
   ],
   "source": [
    "for i in dat:\n",
    "    print(i)"
   ]
  },
  {
   "cell_type": "code",
   "execution_count": 758,
   "metadata": {},
   "outputs": [],
   "source": [
    "pivot_table = pivot(dat,['m', 'y'], 'expenseType__category__category','amount', aggregation=Sum)"
   ]
  },
  {
   "cell_type": "code",
   "execution_count": 759,
   "metadata": {},
   "outputs": [
    {
     "name": "stdout",
     "output_type": "stream",
     "text": [
      "{'m': 18, 'y': 18, 'FIXOS': 100600.0, 'SALARIOS': 2500.0}\n"
     ]
    }
   ],
   "source": [
    "for i in pivot_table:\n",
    "    print(i)"
   ]
  },
  {
   "cell_type": "code",
   "execution_count": 39,
   "metadata": {},
   "outputs": [],
   "source": [
    "from django.db.models.functions import TruncMonth\n",
    "from django.db.models.functions import ExtractMonth, ExtractYear\n",
    "from django_pivot.pivot import pivot"
   ]
  },
  {
   "cell_type": "code",
   "execution_count": 71,
   "metadata": {},
   "outputs": [],
   "source": [
    "exp = Expense.objects.values('expenseType__category__category')\\\n",
    ".annotate(month=ExtractMonth('date'), year=ExtractYear('date'))\\\n",
    ".values('expenseType__category__category', 'month', 'year')"
   ]
  },
  {
   "cell_type": "code",
   "execution_count": 72,
   "metadata": {},
   "outputs": [
    {
     "name": "stdout",
     "output_type": "stream",
     "text": [
      "{'expenseType__category__category': 'FIXOS', 'month': 5, 'year': 2020}\n",
      "{'expenseType__category__category': 'FIXOS', 'month': 6, 'year': 2020}\n",
      "{'expenseType__category__category': 'FIXOS', 'month': 7, 'year': 2020}\n",
      "{'expenseType__category__category': 'FIXOS', 'month': 8, 'year': 2020}\n",
      "{'expenseType__category__category': 'FIXOS', 'month': 9, 'year': 2020}\n",
      "{'expenseType__category__category': 'FIXOS', 'month': 2, 'year': 2020}\n",
      "{'expenseType__category__category': 'FIXOS', 'month': 3, 'year': 2020}\n",
      "{'expenseType__category__category': 'FIXOS', 'month': 4, 'year': 2020}\n",
      "{'expenseType__category__category': 'FIXOS', 'month': 5, 'year': 2020}\n",
      "{'expenseType__category__category': 'FIXOS', 'month': 6, 'year': 2020}\n",
      "{'expenseType__category__category': 'FIXOS', 'month': 7, 'year': 2020}\n",
      "{'expenseType__category__category': 'FIXOS', 'month': 8, 'year': 2020}\n",
      "{'expenseType__category__category': 'FIXOS', 'month': 9, 'year': 2020}\n",
      "{'expenseType__category__category': 'FIXOS', 'month': 10, 'year': 2020}\n",
      "{'expenseType__category__category': 'FIXOS', 'month': 11, 'year': 2020}\n",
      "{'expenseType__category__category': 'SALARIOS', 'month': 5, 'year': 2020}\n",
      "{'expenseType__category__category': 'SALARIOS', 'month': 5, 'year': 2020}\n",
      "{'expenseType__category__category': 'SALARIOS', 'month': 5, 'year': 2020}\n"
     ]
    }
   ],
   "source": [
    "for i in exp:\n",
    "    print(i)"
   ]
  },
  {
   "cell_type": "code",
   "execution_count": 75,
   "metadata": {},
   "outputs": [],
   "source": [
    "pivot_table = pivot(exp, ['year', 'month'], 'expenseType__category__category', 'amount')"
   ]
  },
  {
   "cell_type": "code",
   "execution_count": 76,
   "metadata": {},
   "outputs": [
    {
     "data": {
      "text/plain": [
       "<QuerySet [{'month': 2, 'year': 2020, 'FIXOS': 100.0, 'SALARIOS': None}, {'month': 3, 'year': 2020, 'FIXOS': 100.0, 'SALARIOS': None}, {'month': 4, 'year': 2020, 'FIXOS': 100.0, 'SALARIOS': None}, {'month': 5, 'year': 2020, 'FIXOS': 200.0, 'SALARIOS': 88.0}, {'month': 6, 'year': 2020, 'FIXOS': 200.0, 'SALARIOS': None}, {'month': 7, 'year': 2020, 'FIXOS': 200.0, 'SALARIOS': None}, {'month': 8, 'year': 2020, 'FIXOS': 200.0, 'SALARIOS': None}, {'month': 9, 'year': 2020, 'FIXOS': 200.0, 'SALARIOS': None}, {'month': 10, 'year': 2020, 'FIXOS': 100.0, 'SALARIOS': None}, {'month': 11, 'year': 2020, 'FIXOS': 100.0, 'SALARIOS': None}]>"
      ]
     },
     "execution_count": 76,
     "metadata": {},
     "output_type": "execute_result"
    }
   ],
   "source": [
    "pivot_table"
   ]
  },
  {
   "cell_type": "code",
   "execution_count": 103,
   "metadata": {},
   "outputs": [
    {
     "name": "stdout",
     "output_type": "stream",
     "text": [
      "{'month': 2, 'year': 2020, 'FIXOS': 100.0, 'SALARIOS': None}\n",
      "{'month': 3, 'year': 2020, 'FIXOS': 100.0, 'SALARIOS': None}\n",
      "{'month': 4, 'year': 2020, 'FIXOS': 100.0, 'SALARIOS': None}\n",
      "{'month': 5, 'year': 2020, 'FIXOS': 200.0, 'SALARIOS': 88.0}\n",
      "{'month': 6, 'year': 2020, 'FIXOS': 200.0, 'SALARIOS': None}\n",
      "{'month': 7, 'year': 2020, 'FIXOS': 200.0, 'SALARIOS': None}\n",
      "{'month': 8, 'year': 2020, 'FIXOS': 200.0, 'SALARIOS': None}\n",
      "{'month': 9, 'year': 2020, 'FIXOS': 200.0, 'SALARIOS': None}\n",
      "{'month': 10, 'year': 2020, 'FIXOS': 100.0, 'SALARIOS': None}\n",
      "{'month': 11, 'year': 2020, 'FIXOS': 100.0, 'SALARIOS': None}\n"
     ]
    }
   ],
   "source": [
    "for i in pivot_table:\n",
    "    print(i)"
   ]
  },
  {
   "cell_type": "code",
   "execution_count": 97,
   "metadata": {},
   "outputs": [
    {
     "data": {
      "text/plain": [
       "[2,\n",
       " 2020,\n",
       " 3,\n",
       " 2020,\n",
       " 4,\n",
       " 2020,\n",
       " 5,\n",
       " 2020,\n",
       " 6,\n",
       " 2020,\n",
       " 7,\n",
       " 2020,\n",
       " 8,\n",
       " 2020,\n",
       " 9,\n",
       " 2020,\n",
       " 10,\n",
       " 2020,\n",
       " 11,\n",
       " 2020]"
      ]
     },
     "execution_count": 97,
     "metadata": {},
     "output_type": "execute_result"
    }
   ],
   "source": [
    "list"
   ]
  },
  {
   "cell_type": "code",
   "execution_count": 890,
   "metadata": {},
   "outputs": [],
   "source": [
    "def naturalNumbers(n):\n",
    "    results = []\n",
    "    i = 2\n",
    "    while i <= n:\n",
    "        results.append(i)\n",
    "        \n",
    "    return results"
   ]
  },
  {
   "cell_type": "code",
   "execution_count": 188,
   "metadata": {},
   "outputs": [],
   "source": [
    "import pandas as pd\n",
    "from IPython.display import HTML\n"
   ]
  },
  {
   "cell_type": "code",
   "execution_count": 189,
   "metadata": {},
   "outputs": [],
   "source": [
    "exp = Expense.objects.all().values('expenseType__category__category','amount', 'date')"
   ]
  },
  {
   "cell_type": "code",
   "execution_count": 190,
   "metadata": {},
   "outputs": [],
   "source": [
    "revenue = Revenue.objects.all().values('Revenue_origin__origem', 'amount', 'date')"
   ]
  },
  {
   "cell_type": "code",
   "execution_count": 191,
   "metadata": {},
   "outputs": [],
   "source": [
    "rev = pd.DataFrame(revenue)"
   ]
  },
  {
   "cell_type": "code",
   "execution_count": 192,
   "metadata": {},
   "outputs": [],
   "source": [
    "rev['Período'] = pd.to_datetime(rev['date']).dt.to_period('M')"
   ]
  },
  {
   "cell_type": "code",
   "execution_count": 193,
   "metadata": {},
   "outputs": [
    {
     "data": {
      "text/html": [
       "<div>\n",
       "<style scoped>\n",
       "    .dataframe tbody tr th:only-of-type {\n",
       "        vertical-align: middle;\n",
       "    }\n",
       "\n",
       "    .dataframe tbody tr th {\n",
       "        vertical-align: top;\n",
       "    }\n",
       "\n",
       "    .dataframe thead th {\n",
       "        text-align: right;\n",
       "    }\n",
       "</style>\n",
       "<table border=\"1\" class=\"dataframe\">\n",
       "  <thead>\n",
       "    <tr style=\"text-align: right;\">\n",
       "      <th></th>\n",
       "      <th>Revenue_origin__origem</th>\n",
       "      <th>amount</th>\n",
       "      <th>date</th>\n",
       "      <th>Período</th>\n",
       "    </tr>\n",
       "  </thead>\n",
       "  <tbody>\n",
       "    <tr>\n",
       "      <th>0</th>\n",
       "      <td>- VENDA LOCAL</td>\n",
       "      <td>222.0</td>\n",
       "      <td>2020-04-01</td>\n",
       "      <td>2020-04</td>\n",
       "    </tr>\n",
       "    <tr>\n",
       "      <th>1</th>\n",
       "      <td>- VENDA LOCAL</td>\n",
       "      <td>222.0</td>\n",
       "      <td>2020-04-01</td>\n",
       "      <td>2020-04</td>\n",
       "    </tr>\n",
       "  </tbody>\n",
       "</table>\n",
       "</div>"
      ],
      "text/plain": [
       "  Revenue_origin__origem  amount        date  Período\n",
       "0          - VENDA LOCAL   222.0  2020-04-01  2020-04\n",
       "1          - VENDA LOCAL   222.0  2020-04-01  2020-04"
      ]
     },
     "execution_count": 193,
     "metadata": {},
     "output_type": "execute_result"
    }
   ],
   "source": [
    "rev"
   ]
  },
  {
   "cell_type": "raw",
   "metadata": {},
   "source": [
    "df = pd.DataFrame(exp)"
   ]
  },
  {
   "cell_type": "code",
   "execution_count": 194,
   "metadata": {},
   "outputs": [],
   "source": [
    "df['Período'] = pd.to_datetime(df['date']).dt.to_period('M')"
   ]
  },
  {
   "cell_type": "code",
   "execution_count": 195,
   "metadata": {},
   "outputs": [
    {
     "data": {
      "text/html": [
       "<div>\n",
       "<style scoped>\n",
       "    .dataframe tbody tr th:only-of-type {\n",
       "        vertical-align: middle;\n",
       "    }\n",
       "\n",
       "    .dataframe tbody tr th {\n",
       "        vertical-align: top;\n",
       "    }\n",
       "\n",
       "    .dataframe thead th {\n",
       "        text-align: right;\n",
       "    }\n",
       "</style>\n",
       "<table border=\"1\" class=\"dataframe\">\n",
       "  <thead>\n",
       "    <tr style=\"text-align: right;\">\n",
       "      <th></th>\n",
       "      <th>Categoria</th>\n",
       "      <th>Valor</th>\n",
       "      <th>date</th>\n",
       "      <th>Período</th>\n",
       "      <th>Lançamento</th>\n",
       "      <th>%</th>\n",
       "      <th>row_total</th>\n",
       "    </tr>\n",
       "  </thead>\n",
       "  <tbody>\n",
       "    <tr>\n",
       "      <th>0</th>\n",
       "      <td>- VENDA LOCAL</td>\n",
       "      <td>222.0</td>\n",
       "      <td>2020-04-01</td>\n",
       "      <td>2020-04</td>\n",
       "      <td>NaN</td>\n",
       "      <td>6.0</td>\n",
       "      <td>NaN</td>\n",
       "    </tr>\n",
       "    <tr>\n",
       "      <th>1</th>\n",
       "      <td>- VENDA LOCAL</td>\n",
       "      <td>222.0</td>\n",
       "      <td>2020-04-01</td>\n",
       "      <td>2020-04</td>\n",
       "      <td>NaN</td>\n",
       "      <td>6.0</td>\n",
       "      <td>NaN</td>\n",
       "    </tr>\n",
       "    <tr>\n",
       "      <th>0</th>\n",
       "      <td>- VENDA LOCAL</td>\n",
       "      <td>222.0</td>\n",
       "      <td>2020-04-01</td>\n",
       "      <td>2020-04</td>\n",
       "      <td>NaN</td>\n",
       "      <td>6.0</td>\n",
       "      <td>NaN</td>\n",
       "    </tr>\n",
       "    <tr>\n",
       "      <th>1</th>\n",
       "      <td>- VENDA LOCAL</td>\n",
       "      <td>222.0</td>\n",
       "      <td>2020-04-01</td>\n",
       "      <td>2020-04</td>\n",
       "      <td>NaN</td>\n",
       "      <td>6.0</td>\n",
       "      <td>NaN</td>\n",
       "    </tr>\n",
       "    <tr>\n",
       "      <th>0</th>\n",
       "      <td>- VENDA LOCAL</td>\n",
       "      <td>222.0</td>\n",
       "      <td>2020-04-01</td>\n",
       "      <td>2020-04</td>\n",
       "      <td>NaN</td>\n",
       "      <td>6.0</td>\n",
       "      <td>NaN</td>\n",
       "    </tr>\n",
       "    <tr>\n",
       "      <th>1</th>\n",
       "      <td>- VENDA LOCAL</td>\n",
       "      <td>222.0</td>\n",
       "      <td>2020-04-01</td>\n",
       "      <td>2020-04</td>\n",
       "      <td>NaN</td>\n",
       "      <td>6.0</td>\n",
       "      <td>NaN</td>\n",
       "    </tr>\n",
       "    <tr>\n",
       "      <th>0</th>\n",
       "      <td>Venda Local</td>\n",
       "      <td>222.0</td>\n",
       "      <td>2020-04-01</td>\n",
       "      <td>2020-04</td>\n",
       "      <td>NaN</td>\n",
       "      <td>6.0</td>\n",
       "      <td>NaN</td>\n",
       "    </tr>\n",
       "    <tr>\n",
       "      <th>1</th>\n",
       "      <td>Venda Local</td>\n",
       "      <td>222.0</td>\n",
       "      <td>2020-04-01</td>\n",
       "      <td>2020-04</td>\n",
       "      <td>NaN</td>\n",
       "      <td>6.0</td>\n",
       "      <td>NaN</td>\n",
       "    </tr>\n",
       "    <tr>\n",
       "      <th>0</th>\n",
       "      <td>FIXOS</td>\n",
       "      <td>100.0</td>\n",
       "      <td>2020-05-01</td>\n",
       "      <td>2020-05</td>\n",
       "      <td>aluguel</td>\n",
       "      <td>35.0</td>\n",
       "      <td>NaN</td>\n",
       "    </tr>\n",
       "    <tr>\n",
       "      <th>1</th>\n",
       "      <td>FIXOS</td>\n",
       "      <td>100.0</td>\n",
       "      <td>2020-06-01</td>\n",
       "      <td>2020-06</td>\n",
       "      <td>aluguel</td>\n",
       "      <td>50.0</td>\n",
       "      <td>NaN</td>\n",
       "    </tr>\n",
       "    <tr>\n",
       "      <th>2</th>\n",
       "      <td>FIXOS</td>\n",
       "      <td>100.0</td>\n",
       "      <td>2020-07-01</td>\n",
       "      <td>2020-07</td>\n",
       "      <td>aluguel</td>\n",
       "      <td>5.0</td>\n",
       "      <td>NaN</td>\n",
       "    </tr>\n",
       "    <tr>\n",
       "      <th>3</th>\n",
       "      <td>FIXOS</td>\n",
       "      <td>100.0</td>\n",
       "      <td>2020-08-01</td>\n",
       "      <td>2020-08</td>\n",
       "      <td>aluguel</td>\n",
       "      <td>50.0</td>\n",
       "      <td>NaN</td>\n",
       "    </tr>\n",
       "    <tr>\n",
       "      <th>4</th>\n",
       "      <td>FIXOS</td>\n",
       "      <td>100.0</td>\n",
       "      <td>2020-09-01</td>\n",
       "      <td>2020-09</td>\n",
       "      <td>aluguel</td>\n",
       "      <td>50.0</td>\n",
       "      <td>NaN</td>\n",
       "    </tr>\n",
       "    <tr>\n",
       "      <th>5</th>\n",
       "      <td>FIXOS</td>\n",
       "      <td>100.0</td>\n",
       "      <td>2020-02-01</td>\n",
       "      <td>2020-02</td>\n",
       "      <td>aluguel</td>\n",
       "      <td>100.0</td>\n",
       "      <td>NaN</td>\n",
       "    </tr>\n",
       "    <tr>\n",
       "      <th>6</th>\n",
       "      <td>FIXOS</td>\n",
       "      <td>100.0</td>\n",
       "      <td>2020-03-01</td>\n",
       "      <td>2020-03</td>\n",
       "      <td>aluguel</td>\n",
       "      <td>100.0</td>\n",
       "      <td>NaN</td>\n",
       "    </tr>\n",
       "    <tr>\n",
       "      <th>7</th>\n",
       "      <td>FIXOS</td>\n",
       "      <td>100.0</td>\n",
       "      <td>2020-04-01</td>\n",
       "      <td>2020-04</td>\n",
       "      <td>aluguel</td>\n",
       "      <td>3.0</td>\n",
       "      <td>NaN</td>\n",
       "    </tr>\n",
       "    <tr>\n",
       "      <th>8</th>\n",
       "      <td>FIXOS</td>\n",
       "      <td>100.0</td>\n",
       "      <td>2020-05-01</td>\n",
       "      <td>2020-05</td>\n",
       "      <td>aluguel</td>\n",
       "      <td>35.0</td>\n",
       "      <td>NaN</td>\n",
       "    </tr>\n",
       "    <tr>\n",
       "      <th>9</th>\n",
       "      <td>FIXOS</td>\n",
       "      <td>100.0</td>\n",
       "      <td>2020-06-01</td>\n",
       "      <td>2020-06</td>\n",
       "      <td>aluguel</td>\n",
       "      <td>50.0</td>\n",
       "      <td>NaN</td>\n",
       "    </tr>\n",
       "    <tr>\n",
       "      <th>10</th>\n",
       "      <td>FIXOS</td>\n",
       "      <td>100.0</td>\n",
       "      <td>2020-07-01</td>\n",
       "      <td>2020-07</td>\n",
       "      <td>aluguel</td>\n",
       "      <td>5.0</td>\n",
       "      <td>NaN</td>\n",
       "    </tr>\n",
       "    <tr>\n",
       "      <th>11</th>\n",
       "      <td>FIXOS</td>\n",
       "      <td>100.0</td>\n",
       "      <td>2020-08-01</td>\n",
       "      <td>2020-08</td>\n",
       "      <td>aluguel</td>\n",
       "      <td>50.0</td>\n",
       "      <td>NaN</td>\n",
       "    </tr>\n",
       "    <tr>\n",
       "      <th>12</th>\n",
       "      <td>FIXOS</td>\n",
       "      <td>100.0</td>\n",
       "      <td>2020-09-01</td>\n",
       "      <td>2020-09</td>\n",
       "      <td>aluguel</td>\n",
       "      <td>50.0</td>\n",
       "      <td>NaN</td>\n",
       "    </tr>\n",
       "    <tr>\n",
       "      <th>13</th>\n",
       "      <td>FIXOS</td>\n",
       "      <td>100.0</td>\n",
       "      <td>2020-10-01</td>\n",
       "      <td>2020-10</td>\n",
       "      <td>aluguel</td>\n",
       "      <td>100.0</td>\n",
       "      <td>NaN</td>\n",
       "    </tr>\n",
       "    <tr>\n",
       "      <th>14</th>\n",
       "      <td>FIXOS</td>\n",
       "      <td>100.0</td>\n",
       "      <td>2020-11-01</td>\n",
       "      <td>2020-11</td>\n",
       "      <td>aluguel</td>\n",
       "      <td>100.0</td>\n",
       "      <td>NaN</td>\n",
       "    </tr>\n",
       "    <tr>\n",
       "      <th>15</th>\n",
       "      <td>SALARIOS</td>\n",
       "      <td>33.0</td>\n",
       "      <td>2020-05-01</td>\n",
       "      <td>2020-05</td>\n",
       "      <td>funcionario</td>\n",
       "      <td>11.0</td>\n",
       "      <td>NaN</td>\n",
       "    </tr>\n",
       "    <tr>\n",
       "      <th>16</th>\n",
       "      <td>SALARIOS</td>\n",
       "      <td>33.0</td>\n",
       "      <td>2020-05-01</td>\n",
       "      <td>2020-05</td>\n",
       "      <td>funcionario</td>\n",
       "      <td>11.0</td>\n",
       "      <td>NaN</td>\n",
       "    </tr>\n",
       "    <tr>\n",
       "      <th>17</th>\n",
       "      <td>SALARIOS</td>\n",
       "      <td>22.0</td>\n",
       "      <td>2020-05-01</td>\n",
       "      <td>2020-05</td>\n",
       "      <td>funcionario</td>\n",
       "      <td>8.0</td>\n",
       "      <td>NaN</td>\n",
       "    </tr>\n",
       "    <tr>\n",
       "      <th>18</th>\n",
       "      <td>SALARIOS</td>\n",
       "      <td>200.0</td>\n",
       "      <td>2019-04-01</td>\n",
       "      <td>2019-04</td>\n",
       "      <td>funcionario 2</td>\n",
       "      <td>100.0</td>\n",
       "      <td>NaN</td>\n",
       "    </tr>\n",
       "    <tr>\n",
       "      <th>19</th>\n",
       "      <td>SALARIOS</td>\n",
       "      <td>200.0</td>\n",
       "      <td>2019-05-01</td>\n",
       "      <td>2019-05</td>\n",
       "      <td>funcionario 2</td>\n",
       "      <td>100.0</td>\n",
       "      <td>NaN</td>\n",
       "    </tr>\n",
       "    <tr>\n",
       "      <th>20</th>\n",
       "      <td>SALARIOS</td>\n",
       "      <td>200.0</td>\n",
       "      <td>2019-06-01</td>\n",
       "      <td>2019-06</td>\n",
       "      <td>funcionario 2</td>\n",
       "      <td>100.0</td>\n",
       "      <td>NaN</td>\n",
       "    </tr>\n",
       "    <tr>\n",
       "      <th>21</th>\n",
       "      <td>SALARIOS</td>\n",
       "      <td>200.0</td>\n",
       "      <td>2019-07-01</td>\n",
       "      <td>2019-07</td>\n",
       "      <td>funcionario 2</td>\n",
       "      <td>100.0</td>\n",
       "      <td>NaN</td>\n",
       "    </tr>\n",
       "    <tr>\n",
       "      <th>22</th>\n",
       "      <td>SALARIOS</td>\n",
       "      <td>200.0</td>\n",
       "      <td>2019-08-01</td>\n",
       "      <td>2019-08</td>\n",
       "      <td>funcionario 2</td>\n",
       "      <td>100.0</td>\n",
       "      <td>NaN</td>\n",
       "    </tr>\n",
       "    <tr>\n",
       "      <th>23</th>\n",
       "      <td>SALARIOS</td>\n",
       "      <td>200.0</td>\n",
       "      <td>2019-09-01</td>\n",
       "      <td>2019-09</td>\n",
       "      <td>funcionario 2</td>\n",
       "      <td>100.0</td>\n",
       "      <td>NaN</td>\n",
       "    </tr>\n",
       "    <tr>\n",
       "      <th>24</th>\n",
       "      <td>SALARIOS</td>\n",
       "      <td>200.0</td>\n",
       "      <td>2019-10-01</td>\n",
       "      <td>2019-10</td>\n",
       "      <td>funcionario 2</td>\n",
       "      <td>100.0</td>\n",
       "      <td>NaN</td>\n",
       "    </tr>\n",
       "    <tr>\n",
       "      <th>25</th>\n",
       "      <td>SALARIOS</td>\n",
       "      <td>200.0</td>\n",
       "      <td>2019-11-01</td>\n",
       "      <td>2019-11</td>\n",
       "      <td>funcionario 2</td>\n",
       "      <td>100.0</td>\n",
       "      <td>NaN</td>\n",
       "    </tr>\n",
       "    <tr>\n",
       "      <th>26</th>\n",
       "      <td>SALARIOS</td>\n",
       "      <td>200.0</td>\n",
       "      <td>2019-12-01</td>\n",
       "      <td>2019-12</td>\n",
       "      <td>funcionario 2</td>\n",
       "      <td>100.0</td>\n",
       "      <td>NaN</td>\n",
       "    </tr>\n",
       "    <tr>\n",
       "      <th>27</th>\n",
       "      <td>SALARIOS</td>\n",
       "      <td>200.0</td>\n",
       "      <td>2020-01-01</td>\n",
       "      <td>2020-01</td>\n",
       "      <td>funcionario 2</td>\n",
       "      <td>100.0</td>\n",
       "      <td>NaN</td>\n",
       "    </tr>\n",
       "    <tr>\n",
       "      <th>28</th>\n",
       "      <td>SALARIOS</td>\n",
       "      <td>2000.0</td>\n",
       "      <td>2020-07-10</td>\n",
       "      <td>2020-07</td>\n",
       "      <td>funcionario 2</td>\n",
       "      <td>91.0</td>\n",
       "      <td>NaN</td>\n",
       "    </tr>\n",
       "    <tr>\n",
       "      <th>29</th>\n",
       "      <td>SEGUROS</td>\n",
       "      <td>2000.0</td>\n",
       "      <td>2020-04-01</td>\n",
       "      <td>2020-04</td>\n",
       "      <td>VEICULO</td>\n",
       "      <td>52.0</td>\n",
       "      <td>NaN</td>\n",
       "    </tr>\n",
       "  </tbody>\n",
       "</table>\n",
       "</div>"
      ],
      "text/plain": [
       "        Categoria   Valor        date  Período     Lançamento      % row_total\n",
       "0   - VENDA LOCAL   222.0  2020-04-01  2020-04            NaN    6.0       NaN\n",
       "1   - VENDA LOCAL   222.0  2020-04-01  2020-04            NaN    6.0       NaN\n",
       "0   - VENDA LOCAL   222.0  2020-04-01  2020-04            NaN    6.0       NaN\n",
       "1   - VENDA LOCAL   222.0  2020-04-01  2020-04            NaN    6.0       NaN\n",
       "0   - VENDA LOCAL   222.0  2020-04-01  2020-04            NaN    6.0       NaN\n",
       "1   - VENDA LOCAL   222.0  2020-04-01  2020-04            NaN    6.0       NaN\n",
       "0     Venda Local   222.0  2020-04-01  2020-04            NaN    6.0       NaN\n",
       "1     Venda Local   222.0  2020-04-01  2020-04            NaN    6.0       NaN\n",
       "0           FIXOS   100.0  2020-05-01  2020-05        aluguel   35.0       NaN\n",
       "1           FIXOS   100.0  2020-06-01  2020-06        aluguel   50.0       NaN\n",
       "2           FIXOS   100.0  2020-07-01  2020-07        aluguel    5.0       NaN\n",
       "3           FIXOS   100.0  2020-08-01  2020-08        aluguel   50.0       NaN\n",
       "4           FIXOS   100.0  2020-09-01  2020-09        aluguel   50.0       NaN\n",
       "5           FIXOS   100.0  2020-02-01  2020-02        aluguel  100.0       NaN\n",
       "6           FIXOS   100.0  2020-03-01  2020-03        aluguel  100.0       NaN\n",
       "7           FIXOS   100.0  2020-04-01  2020-04        aluguel    3.0       NaN\n",
       "8           FIXOS   100.0  2020-05-01  2020-05        aluguel   35.0       NaN\n",
       "9           FIXOS   100.0  2020-06-01  2020-06        aluguel   50.0       NaN\n",
       "10          FIXOS   100.0  2020-07-01  2020-07        aluguel    5.0       NaN\n",
       "11          FIXOS   100.0  2020-08-01  2020-08        aluguel   50.0       NaN\n",
       "12          FIXOS   100.0  2020-09-01  2020-09        aluguel   50.0       NaN\n",
       "13          FIXOS   100.0  2020-10-01  2020-10        aluguel  100.0       NaN\n",
       "14          FIXOS   100.0  2020-11-01  2020-11        aluguel  100.0       NaN\n",
       "15       SALARIOS    33.0  2020-05-01  2020-05    funcionario   11.0       NaN\n",
       "16       SALARIOS    33.0  2020-05-01  2020-05    funcionario   11.0       NaN\n",
       "17       SALARIOS    22.0  2020-05-01  2020-05    funcionario    8.0       NaN\n",
       "18       SALARIOS   200.0  2019-04-01  2019-04  funcionario 2  100.0       NaN\n",
       "19       SALARIOS   200.0  2019-05-01  2019-05  funcionario 2  100.0       NaN\n",
       "20       SALARIOS   200.0  2019-06-01  2019-06  funcionario 2  100.0       NaN\n",
       "21       SALARIOS   200.0  2019-07-01  2019-07  funcionario 2  100.0       NaN\n",
       "22       SALARIOS   200.0  2019-08-01  2019-08  funcionario 2  100.0       NaN\n",
       "23       SALARIOS   200.0  2019-09-01  2019-09  funcionario 2  100.0       NaN\n",
       "24       SALARIOS   200.0  2019-10-01  2019-10  funcionario 2  100.0       NaN\n",
       "25       SALARIOS   200.0  2019-11-01  2019-11  funcionario 2  100.0       NaN\n",
       "26       SALARIOS   200.0  2019-12-01  2019-12  funcionario 2  100.0       NaN\n",
       "27       SALARIOS   200.0  2020-01-01  2020-01  funcionario 2  100.0       NaN\n",
       "28       SALARIOS  2000.0  2020-07-10  2020-07  funcionario 2   91.0       NaN\n",
       "29        SEGUROS  2000.0  2020-04-01  2020-04        VEICULO   52.0       NaN"
      ]
     },
     "execution_count": 195,
     "metadata": {},
     "output_type": "execute_result"
    }
   ],
   "source": [
    "df"
   ]
  },
  {
   "cell_type": "code",
   "execution_count": 177,
   "metadata": {},
   "outputs": [],
   "source": [
    "df = df.rename(columns={\"amount\": \"Valor\", \"expenseType__category__category\": \"Categoria\"})"
   ]
  },
  {
   "cell_type": "code",
   "execution_count": 178,
   "metadata": {},
   "outputs": [],
   "source": [
    "rev = rev.rename(columns={\"amount\": \"Valor\", \"Revenue_origin__origem\": \"Categoria\"})"
   ]
  },
  {
   "cell_type": "code",
   "execution_count": 179,
   "metadata": {},
   "outputs": [
    {
     "ename": "ValueError",
     "evalue": "cannot reindex from a duplicate axis",
     "output_type": "error",
     "traceback": [
      "\u001b[0;31m---------------------------------------------------------------------------\u001b[0m",
      "\u001b[0;31mValueError\u001b[0m                                Traceback (most recent call last)",
      "\u001b[0;32m<ipython-input-179-b2aff6ca27ea>\u001b[0m in \u001b[0;36m<module>\u001b[0;34m\u001b[0m\n\u001b[0;32m----> 1\u001b[0;31m \u001b[0mdf\u001b[0m\u001b[0;34m[\u001b[0m\u001b[0;34m'%'\u001b[0m\u001b[0;34m]\u001b[0m \u001b[0;34m=\u001b[0m \u001b[0mround\u001b[0m\u001b[0;34m(\u001b[0m\u001b[0mdf\u001b[0m\u001b[0;34m[\u001b[0m\u001b[0;34m'Valor'\u001b[0m\u001b[0;34m]\u001b[0m\u001b[0;34m/\u001b[0m\u001b[0mrev\u001b[0m\u001b[0;34m.\u001b[0m\u001b[0mgroupby\u001b[0m\u001b[0;34m(\u001b[0m\u001b[0;34m[\u001b[0m\u001b[0;34m'Período'\u001b[0m\u001b[0;34m]\u001b[0m\u001b[0;34m)\u001b[0m\u001b[0;34m[\u001b[0m\u001b[0;34m'Valor'\u001b[0m\u001b[0;34m]\u001b[0m\u001b[0;34m.\u001b[0m\u001b[0mtransform\u001b[0m\u001b[0;34m(\u001b[0m\u001b[0;34m'sum'\u001b[0m\u001b[0;34m)\u001b[0m\u001b[0;34m*\u001b[0m\u001b[0;36m100\u001b[0m\u001b[0;34m)\u001b[0m\u001b[0;34m\u001b[0m\u001b[0;34m\u001b[0m\u001b[0m\n\u001b[0m",
      "\u001b[0;32m~/dev/dj-management/projeto_todo/venv/lib/python3.8/site-packages/pandas/core/frame.py\u001b[0m in \u001b[0;36m__setitem__\u001b[0;34m(self, key, value)\u001b[0m\n\u001b[1;32m   3038\u001b[0m         \u001b[0;32melse\u001b[0m\u001b[0;34m:\u001b[0m\u001b[0;34m\u001b[0m\u001b[0;34m\u001b[0m\u001b[0m\n\u001b[1;32m   3039\u001b[0m             \u001b[0;31m# set column\u001b[0m\u001b[0;34m\u001b[0m\u001b[0;34m\u001b[0m\u001b[0;34m\u001b[0m\u001b[0m\n\u001b[0;32m-> 3040\u001b[0;31m             \u001b[0mself\u001b[0m\u001b[0;34m.\u001b[0m\u001b[0m_set_item\u001b[0m\u001b[0;34m(\u001b[0m\u001b[0mkey\u001b[0m\u001b[0;34m,\u001b[0m \u001b[0mvalue\u001b[0m\u001b[0;34m)\u001b[0m\u001b[0;34m\u001b[0m\u001b[0;34m\u001b[0m\u001b[0m\n\u001b[0m\u001b[1;32m   3041\u001b[0m \u001b[0;34m\u001b[0m\u001b[0m\n\u001b[1;32m   3042\u001b[0m     \u001b[0;32mdef\u001b[0m \u001b[0m_setitem_slice\u001b[0m\u001b[0;34m(\u001b[0m\u001b[0mself\u001b[0m\u001b[0;34m,\u001b[0m \u001b[0mkey\u001b[0m\u001b[0;34m:\u001b[0m \u001b[0mslice\u001b[0m\u001b[0;34m,\u001b[0m \u001b[0mvalue\u001b[0m\u001b[0;34m)\u001b[0m\u001b[0;34m:\u001b[0m\u001b[0;34m\u001b[0m\u001b[0;34m\u001b[0m\u001b[0m\n",
      "\u001b[0;32m~/dev/dj-management/projeto_todo/venv/lib/python3.8/site-packages/pandas/core/frame.py\u001b[0m in \u001b[0;36m_set_item\u001b[0;34m(self, key, value)\u001b[0m\n\u001b[1;32m   3114\u001b[0m         \"\"\"\n\u001b[1;32m   3115\u001b[0m         \u001b[0mself\u001b[0m\u001b[0;34m.\u001b[0m\u001b[0m_ensure_valid_index\u001b[0m\u001b[0;34m(\u001b[0m\u001b[0mvalue\u001b[0m\u001b[0;34m)\u001b[0m\u001b[0;34m\u001b[0m\u001b[0;34m\u001b[0m\u001b[0m\n\u001b[0;32m-> 3116\u001b[0;31m         \u001b[0mvalue\u001b[0m \u001b[0;34m=\u001b[0m \u001b[0mself\u001b[0m\u001b[0;34m.\u001b[0m\u001b[0m_sanitize_column\u001b[0m\u001b[0;34m(\u001b[0m\u001b[0mkey\u001b[0m\u001b[0;34m,\u001b[0m \u001b[0mvalue\u001b[0m\u001b[0;34m)\u001b[0m\u001b[0;34m\u001b[0m\u001b[0;34m\u001b[0m\u001b[0m\n\u001b[0m\u001b[1;32m   3117\u001b[0m         \u001b[0mNDFrame\u001b[0m\u001b[0;34m.\u001b[0m\u001b[0m_set_item\u001b[0m\u001b[0;34m(\u001b[0m\u001b[0mself\u001b[0m\u001b[0;34m,\u001b[0m \u001b[0mkey\u001b[0m\u001b[0;34m,\u001b[0m \u001b[0mvalue\u001b[0m\u001b[0;34m)\u001b[0m\u001b[0;34m\u001b[0m\u001b[0;34m\u001b[0m\u001b[0m\n\u001b[1;32m   3118\u001b[0m \u001b[0;34m\u001b[0m\u001b[0m\n",
      "\u001b[0;32m~/dev/dj-management/projeto_todo/venv/lib/python3.8/site-packages/pandas/core/frame.py\u001b[0m in \u001b[0;36m_sanitize_column\u001b[0;34m(self, key, value, broadcast)\u001b[0m\n\u001b[1;32m   3736\u001b[0m \u001b[0;34m\u001b[0m\u001b[0m\n\u001b[1;32m   3737\u001b[0m         \u001b[0;32mif\u001b[0m \u001b[0misinstance\u001b[0m\u001b[0;34m(\u001b[0m\u001b[0mvalue\u001b[0m\u001b[0;34m,\u001b[0m \u001b[0mSeries\u001b[0m\u001b[0;34m)\u001b[0m\u001b[0;34m:\u001b[0m\u001b[0;34m\u001b[0m\u001b[0;34m\u001b[0m\u001b[0m\n\u001b[0;32m-> 3738\u001b[0;31m             \u001b[0mvalue\u001b[0m \u001b[0;34m=\u001b[0m \u001b[0mreindexer\u001b[0m\u001b[0;34m(\u001b[0m\u001b[0mvalue\u001b[0m\u001b[0;34m)\u001b[0m\u001b[0;34m\u001b[0m\u001b[0;34m\u001b[0m\u001b[0m\n\u001b[0m\u001b[1;32m   3739\u001b[0m \u001b[0;34m\u001b[0m\u001b[0m\n\u001b[1;32m   3740\u001b[0m         \u001b[0;32melif\u001b[0m \u001b[0misinstance\u001b[0m\u001b[0;34m(\u001b[0m\u001b[0mvalue\u001b[0m\u001b[0;34m,\u001b[0m \u001b[0mDataFrame\u001b[0m\u001b[0;34m)\u001b[0m\u001b[0;34m:\u001b[0m\u001b[0;34m\u001b[0m\u001b[0;34m\u001b[0m\u001b[0m\n",
      "\u001b[0;32m~/dev/dj-management/projeto_todo/venv/lib/python3.8/site-packages/pandas/core/frame.py\u001b[0m in \u001b[0;36mreindexer\u001b[0;34m(value)\u001b[0m\n\u001b[1;32m   3727\u001b[0m                     \u001b[0;32mif\u001b[0m \u001b[0;32mnot\u001b[0m \u001b[0mvalue\u001b[0m\u001b[0;34m.\u001b[0m\u001b[0mindex\u001b[0m\u001b[0;34m.\u001b[0m\u001b[0mis_unique\u001b[0m\u001b[0;34m:\u001b[0m\u001b[0;34m\u001b[0m\u001b[0;34m\u001b[0m\u001b[0m\n\u001b[1;32m   3728\u001b[0m                         \u001b[0;31m# duplicate axis\u001b[0m\u001b[0;34m\u001b[0m\u001b[0;34m\u001b[0m\u001b[0;34m\u001b[0m\u001b[0m\n\u001b[0;32m-> 3729\u001b[0;31m                         \u001b[0;32mraise\u001b[0m \u001b[0merr\u001b[0m\u001b[0;34m\u001b[0m\u001b[0;34m\u001b[0m\u001b[0m\n\u001b[0m\u001b[1;32m   3730\u001b[0m \u001b[0;34m\u001b[0m\u001b[0m\n\u001b[1;32m   3731\u001b[0m                     \u001b[0;31m# other\u001b[0m\u001b[0;34m\u001b[0m\u001b[0;34m\u001b[0m\u001b[0;34m\u001b[0m\u001b[0m\n",
      "\u001b[0;32m~/dev/dj-management/projeto_todo/venv/lib/python3.8/site-packages/pandas/core/frame.py\u001b[0m in \u001b[0;36mreindexer\u001b[0;34m(value)\u001b[0m\n\u001b[1;32m   3722\u001b[0m                 \u001b[0;31m# GH 4107\u001b[0m\u001b[0;34m\u001b[0m\u001b[0;34m\u001b[0m\u001b[0;34m\u001b[0m\u001b[0m\n\u001b[1;32m   3723\u001b[0m                 \u001b[0;32mtry\u001b[0m\u001b[0;34m:\u001b[0m\u001b[0;34m\u001b[0m\u001b[0;34m\u001b[0m\u001b[0m\n\u001b[0;32m-> 3724\u001b[0;31m                     \u001b[0mvalue\u001b[0m \u001b[0;34m=\u001b[0m \u001b[0mvalue\u001b[0m\u001b[0;34m.\u001b[0m\u001b[0mreindex\u001b[0m\u001b[0;34m(\u001b[0m\u001b[0mself\u001b[0m\u001b[0;34m.\u001b[0m\u001b[0mindex\u001b[0m\u001b[0;34m)\u001b[0m\u001b[0;34m.\u001b[0m\u001b[0m_values\u001b[0m\u001b[0;34m\u001b[0m\u001b[0;34m\u001b[0m\u001b[0m\n\u001b[0m\u001b[1;32m   3725\u001b[0m                 \u001b[0;32mexcept\u001b[0m \u001b[0mValueError\u001b[0m \u001b[0;32mas\u001b[0m \u001b[0merr\u001b[0m\u001b[0;34m:\u001b[0m\u001b[0;34m\u001b[0m\u001b[0;34m\u001b[0m\u001b[0m\n\u001b[1;32m   3726\u001b[0m                     \u001b[0;31m# raised in MultiIndex.from_tuples, see test_insert_error_msmgs\u001b[0m\u001b[0;34m\u001b[0m\u001b[0;34m\u001b[0m\u001b[0;34m\u001b[0m\u001b[0m\n",
      "\u001b[0;32m~/dev/dj-management/projeto_todo/venv/lib/python3.8/site-packages/pandas/core/series.py\u001b[0m in \u001b[0;36mreindex\u001b[0;34m(self, index, **kwargs)\u001b[0m\n\u001b[1;32m   4397\u001b[0m     )\n\u001b[1;32m   4398\u001b[0m     \u001b[0;32mdef\u001b[0m \u001b[0mreindex\u001b[0m\u001b[0;34m(\u001b[0m\u001b[0mself\u001b[0m\u001b[0;34m,\u001b[0m \u001b[0mindex\u001b[0m\u001b[0;34m=\u001b[0m\u001b[0;32mNone\u001b[0m\u001b[0;34m,\u001b[0m \u001b[0;34m**\u001b[0m\u001b[0mkwargs\u001b[0m\u001b[0;34m)\u001b[0m\u001b[0;34m:\u001b[0m\u001b[0;34m\u001b[0m\u001b[0;34m\u001b[0m\u001b[0m\n\u001b[0;32m-> 4399\u001b[0;31m         \u001b[0;32mreturn\u001b[0m \u001b[0msuper\u001b[0m\u001b[0;34m(\u001b[0m\u001b[0;34m)\u001b[0m\u001b[0;34m.\u001b[0m\u001b[0mreindex\u001b[0m\u001b[0;34m(\u001b[0m\u001b[0mindex\u001b[0m\u001b[0;34m=\u001b[0m\u001b[0mindex\u001b[0m\u001b[0;34m,\u001b[0m \u001b[0;34m**\u001b[0m\u001b[0mkwargs\u001b[0m\u001b[0;34m)\u001b[0m\u001b[0;34m\u001b[0m\u001b[0;34m\u001b[0m\u001b[0m\n\u001b[0m\u001b[1;32m   4400\u001b[0m \u001b[0;34m\u001b[0m\u001b[0m\n\u001b[1;32m   4401\u001b[0m     def drop(\n",
      "\u001b[0;32m~/dev/dj-management/projeto_todo/venv/lib/python3.8/site-packages/pandas/core/generic.py\u001b[0m in \u001b[0;36mreindex\u001b[0;34m(self, *args, **kwargs)\u001b[0m\n\u001b[1;32m   4450\u001b[0m \u001b[0;34m\u001b[0m\u001b[0m\n\u001b[1;32m   4451\u001b[0m         \u001b[0;31m# perform the reindex on the axes\u001b[0m\u001b[0;34m\u001b[0m\u001b[0;34m\u001b[0m\u001b[0;34m\u001b[0m\u001b[0m\n\u001b[0;32m-> 4452\u001b[0;31m         return self._reindex_axes(\n\u001b[0m\u001b[1;32m   4453\u001b[0m             \u001b[0maxes\u001b[0m\u001b[0;34m,\u001b[0m \u001b[0mlevel\u001b[0m\u001b[0;34m,\u001b[0m \u001b[0mlimit\u001b[0m\u001b[0;34m,\u001b[0m \u001b[0mtolerance\u001b[0m\u001b[0;34m,\u001b[0m \u001b[0mmethod\u001b[0m\u001b[0;34m,\u001b[0m \u001b[0mfill_value\u001b[0m\u001b[0;34m,\u001b[0m \u001b[0mcopy\u001b[0m\u001b[0;34m\u001b[0m\u001b[0;34m\u001b[0m\u001b[0m\n\u001b[1;32m   4454\u001b[0m         ).__finalize__(self, method=\"reindex\")\n",
      "\u001b[0;32m~/dev/dj-management/projeto_todo/venv/lib/python3.8/site-packages/pandas/core/generic.py\u001b[0m in \u001b[0;36m_reindex_axes\u001b[0;34m(self, axes, level, limit, tolerance, method, fill_value, copy)\u001b[0m\n\u001b[1;32m   4470\u001b[0m \u001b[0;34m\u001b[0m\u001b[0m\n\u001b[1;32m   4471\u001b[0m             \u001b[0maxis\u001b[0m \u001b[0;34m=\u001b[0m \u001b[0mself\u001b[0m\u001b[0;34m.\u001b[0m\u001b[0m_get_axis_number\u001b[0m\u001b[0;34m(\u001b[0m\u001b[0ma\u001b[0m\u001b[0;34m)\u001b[0m\u001b[0;34m\u001b[0m\u001b[0;34m\u001b[0m\u001b[0m\n\u001b[0;32m-> 4472\u001b[0;31m             obj = obj._reindex_with_indexers(\n\u001b[0m\u001b[1;32m   4473\u001b[0m                 \u001b[0;34m{\u001b[0m\u001b[0maxis\u001b[0m\u001b[0;34m:\u001b[0m \u001b[0;34m[\u001b[0m\u001b[0mnew_index\u001b[0m\u001b[0;34m,\u001b[0m \u001b[0mindexer\u001b[0m\u001b[0;34m]\u001b[0m\u001b[0;34m}\u001b[0m\u001b[0;34m,\u001b[0m\u001b[0;34m\u001b[0m\u001b[0;34m\u001b[0m\u001b[0m\n\u001b[1;32m   4474\u001b[0m                 \u001b[0mfill_value\u001b[0m\u001b[0;34m=\u001b[0m\u001b[0mfill_value\u001b[0m\u001b[0;34m,\u001b[0m\u001b[0;34m\u001b[0m\u001b[0;34m\u001b[0m\u001b[0m\n",
      "\u001b[0;32m~/dev/dj-management/projeto_todo/venv/lib/python3.8/site-packages/pandas/core/generic.py\u001b[0m in \u001b[0;36m_reindex_with_indexers\u001b[0;34m(self, reindexers, fill_value, copy, allow_dups)\u001b[0m\n\u001b[1;32m   4513\u001b[0m \u001b[0;34m\u001b[0m\u001b[0m\n\u001b[1;32m   4514\u001b[0m             \u001b[0;31m# TODO: speed up on homogeneous DataFrame objects\u001b[0m\u001b[0;34m\u001b[0m\u001b[0;34m\u001b[0m\u001b[0;34m\u001b[0m\u001b[0m\n\u001b[0;32m-> 4515\u001b[0;31m             new_data = new_data.reindex_indexer(\n\u001b[0m\u001b[1;32m   4516\u001b[0m                 \u001b[0mindex\u001b[0m\u001b[0;34m,\u001b[0m\u001b[0;34m\u001b[0m\u001b[0;34m\u001b[0m\u001b[0m\n\u001b[1;32m   4517\u001b[0m                 \u001b[0mindexer\u001b[0m\u001b[0;34m,\u001b[0m\u001b[0;34m\u001b[0m\u001b[0;34m\u001b[0m\u001b[0m\n",
      "\u001b[0;32m~/dev/dj-management/projeto_todo/venv/lib/python3.8/site-packages/pandas/core/internals/managers.py\u001b[0m in \u001b[0;36mreindex_indexer\u001b[0;34m(self, new_axis, indexer, axis, fill_value, allow_dups, copy, consolidate)\u001b[0m\n\u001b[1;32m   1274\u001b[0m         \u001b[0;31m# some axes don't allow reindexing with dups\u001b[0m\u001b[0;34m\u001b[0m\u001b[0;34m\u001b[0m\u001b[0;34m\u001b[0m\u001b[0m\n\u001b[1;32m   1275\u001b[0m         \u001b[0;32mif\u001b[0m \u001b[0;32mnot\u001b[0m \u001b[0mallow_dups\u001b[0m\u001b[0;34m:\u001b[0m\u001b[0;34m\u001b[0m\u001b[0;34m\u001b[0m\u001b[0m\n\u001b[0;32m-> 1276\u001b[0;31m             \u001b[0mself\u001b[0m\u001b[0;34m.\u001b[0m\u001b[0maxes\u001b[0m\u001b[0;34m[\u001b[0m\u001b[0maxis\u001b[0m\u001b[0;34m]\u001b[0m\u001b[0;34m.\u001b[0m\u001b[0m_can_reindex\u001b[0m\u001b[0;34m(\u001b[0m\u001b[0mindexer\u001b[0m\u001b[0;34m)\u001b[0m\u001b[0;34m\u001b[0m\u001b[0;34m\u001b[0m\u001b[0m\n\u001b[0m\u001b[1;32m   1277\u001b[0m \u001b[0;34m\u001b[0m\u001b[0m\n\u001b[1;32m   1278\u001b[0m         \u001b[0;32mif\u001b[0m \u001b[0maxis\u001b[0m \u001b[0;34m>=\u001b[0m \u001b[0mself\u001b[0m\u001b[0;34m.\u001b[0m\u001b[0mndim\u001b[0m\u001b[0;34m:\u001b[0m\u001b[0;34m\u001b[0m\u001b[0;34m\u001b[0m\u001b[0m\n",
      "\u001b[0;32m~/dev/dj-management/projeto_todo/venv/lib/python3.8/site-packages/pandas/core/indexes/base.py\u001b[0m in \u001b[0;36m_can_reindex\u001b[0;34m(self, indexer)\u001b[0m\n\u001b[1;32m   3281\u001b[0m         \u001b[0;31m# trying to reindex on an axis with duplicates\u001b[0m\u001b[0;34m\u001b[0m\u001b[0;34m\u001b[0m\u001b[0;34m\u001b[0m\u001b[0m\n\u001b[1;32m   3282\u001b[0m         \u001b[0;32mif\u001b[0m \u001b[0;32mnot\u001b[0m \u001b[0mself\u001b[0m\u001b[0;34m.\u001b[0m\u001b[0mis_unique\u001b[0m \u001b[0;32mand\u001b[0m \u001b[0mlen\u001b[0m\u001b[0;34m(\u001b[0m\u001b[0mindexer\u001b[0m\u001b[0;34m)\u001b[0m\u001b[0;34m:\u001b[0m\u001b[0;34m\u001b[0m\u001b[0;34m\u001b[0m\u001b[0m\n\u001b[0;32m-> 3283\u001b[0;31m             \u001b[0;32mraise\u001b[0m \u001b[0mValueError\u001b[0m\u001b[0;34m(\u001b[0m\u001b[0;34m\"cannot reindex from a duplicate axis\"\u001b[0m\u001b[0;34m)\u001b[0m\u001b[0;34m\u001b[0m\u001b[0;34m\u001b[0m\u001b[0m\n\u001b[0m\u001b[1;32m   3284\u001b[0m \u001b[0;34m\u001b[0m\u001b[0m\n\u001b[1;32m   3285\u001b[0m     \u001b[0;32mdef\u001b[0m \u001b[0mreindex\u001b[0m\u001b[0;34m(\u001b[0m\u001b[0mself\u001b[0m\u001b[0;34m,\u001b[0m \u001b[0mtarget\u001b[0m\u001b[0;34m,\u001b[0m \u001b[0mmethod\u001b[0m\u001b[0;34m=\u001b[0m\u001b[0;32mNone\u001b[0m\u001b[0;34m,\u001b[0m \u001b[0mlevel\u001b[0m\u001b[0;34m=\u001b[0m\u001b[0;32mNone\u001b[0m\u001b[0;34m,\u001b[0m \u001b[0mlimit\u001b[0m\u001b[0;34m=\u001b[0m\u001b[0;32mNone\u001b[0m\u001b[0;34m,\u001b[0m \u001b[0mtolerance\u001b[0m\u001b[0;34m=\u001b[0m\u001b[0;32mNone\u001b[0m\u001b[0;34m)\u001b[0m\u001b[0;34m:\u001b[0m\u001b[0;34m\u001b[0m\u001b[0;34m\u001b[0m\u001b[0m\n",
      "\u001b[0;31mValueError\u001b[0m: cannot reindex from a duplicate axis"
     ]
    }
   ],
   "source": [
    "df['%'] = round(df['Valor']/rev.groupby(['Período'])['Valor'].transform('sum')*100)\n"
   ]
  },
  {
   "cell_type": "code",
   "execution_count": null,
   "metadata": {},
   "outputs": [],
   "source": []
  },
  {
   "cell_type": "code",
   "execution_count": 166,
   "metadata": {},
   "outputs": [],
   "source": [
    "dfnew = pd.concat([rev,df])"
   ]
  },
  {
   "cell_type": "code",
   "execution_count": 167,
   "metadata": {},
   "outputs": [],
   "source": [
    "dfnew['Período'] = pd.to_datetime(dfnew['date']).dt.to_period('M')"
   ]
  },
  {
   "cell_type": "code",
   "execution_count": 168,
   "metadata": {},
   "outputs": [],
   "source": [
    "dfnew = dfnew.rename(columns={\"amount\": \"Valor\", \"expenseType__category__category\": \"Categoria\", \"expenseType__title\": \"Despesa\"})"
   ]
  },
  {
   "cell_type": "code",
   "execution_count": 170,
   "metadata": {},
   "outputs": [
    {
     "ename": "ValueError",
     "evalue": "cannot reindex from a duplicate axis",
     "output_type": "error",
     "traceback": [
      "\u001b[0;31m---------------------------------------------------------------------------\u001b[0m",
      "\u001b[0;31mValueError\u001b[0m                                Traceback (most recent call last)",
      "\u001b[0;32m<ipython-input-170-d4a06ce0f484>\u001b[0m in \u001b[0;36m<module>\u001b[0;34m\u001b[0m\n\u001b[0;32m----> 1\u001b[0;31m \u001b[0mdfnew\u001b[0m\u001b[0;34m[\u001b[0m\u001b[0;34m'%'\u001b[0m\u001b[0;34m]\u001b[0m \u001b[0;34m=\u001b[0m \u001b[0mround\u001b[0m\u001b[0;34m(\u001b[0m\u001b[0mdf\u001b[0m\u001b[0;34m[\u001b[0m\u001b[0;34m'Valor'\u001b[0m\u001b[0;34m]\u001b[0m\u001b[0;34m/\u001b[0m\u001b[0mrev\u001b[0m\u001b[0;34m.\u001b[0m\u001b[0mgroupby\u001b[0m\u001b[0;34m(\u001b[0m\u001b[0;34m[\u001b[0m\u001b[0;34m'Período'\u001b[0m\u001b[0;34m]\u001b[0m\u001b[0;34m)\u001b[0m\u001b[0;34m[\u001b[0m\u001b[0;34m'Valor'\u001b[0m\u001b[0;34m]\u001b[0m\u001b[0;34m.\u001b[0m\u001b[0mtransform\u001b[0m\u001b[0;34m(\u001b[0m\u001b[0;34m'sum'\u001b[0m\u001b[0;34m)\u001b[0m\u001b[0;34m*\u001b[0m\u001b[0;36m100\u001b[0m\u001b[0;34m)\u001b[0m\u001b[0;34m\u001b[0m\u001b[0;34m\u001b[0m\u001b[0m\n\u001b[0m",
      "\u001b[0;32m~/dev/dj-management/projeto_todo/venv/lib/python3.8/site-packages/pandas/core/frame.py\u001b[0m in \u001b[0;36m__setitem__\u001b[0;34m(self, key, value)\u001b[0m\n\u001b[1;32m   3038\u001b[0m         \u001b[0;32melse\u001b[0m\u001b[0;34m:\u001b[0m\u001b[0;34m\u001b[0m\u001b[0;34m\u001b[0m\u001b[0m\n\u001b[1;32m   3039\u001b[0m             \u001b[0;31m# set column\u001b[0m\u001b[0;34m\u001b[0m\u001b[0;34m\u001b[0m\u001b[0;34m\u001b[0m\u001b[0m\n\u001b[0;32m-> 3040\u001b[0;31m             \u001b[0mself\u001b[0m\u001b[0;34m.\u001b[0m\u001b[0m_set_item\u001b[0m\u001b[0;34m(\u001b[0m\u001b[0mkey\u001b[0m\u001b[0;34m,\u001b[0m \u001b[0mvalue\u001b[0m\u001b[0;34m)\u001b[0m\u001b[0;34m\u001b[0m\u001b[0;34m\u001b[0m\u001b[0m\n\u001b[0m\u001b[1;32m   3041\u001b[0m \u001b[0;34m\u001b[0m\u001b[0m\n\u001b[1;32m   3042\u001b[0m     \u001b[0;32mdef\u001b[0m \u001b[0m_setitem_slice\u001b[0m\u001b[0;34m(\u001b[0m\u001b[0mself\u001b[0m\u001b[0;34m,\u001b[0m \u001b[0mkey\u001b[0m\u001b[0;34m:\u001b[0m \u001b[0mslice\u001b[0m\u001b[0;34m,\u001b[0m \u001b[0mvalue\u001b[0m\u001b[0;34m)\u001b[0m\u001b[0;34m:\u001b[0m\u001b[0;34m\u001b[0m\u001b[0;34m\u001b[0m\u001b[0m\n",
      "\u001b[0;32m~/dev/dj-management/projeto_todo/venv/lib/python3.8/site-packages/pandas/core/frame.py\u001b[0m in \u001b[0;36m_set_item\u001b[0;34m(self, key, value)\u001b[0m\n\u001b[1;32m   3114\u001b[0m         \"\"\"\n\u001b[1;32m   3115\u001b[0m         \u001b[0mself\u001b[0m\u001b[0;34m.\u001b[0m\u001b[0m_ensure_valid_index\u001b[0m\u001b[0;34m(\u001b[0m\u001b[0mvalue\u001b[0m\u001b[0;34m)\u001b[0m\u001b[0;34m\u001b[0m\u001b[0;34m\u001b[0m\u001b[0m\n\u001b[0;32m-> 3116\u001b[0;31m         \u001b[0mvalue\u001b[0m \u001b[0;34m=\u001b[0m \u001b[0mself\u001b[0m\u001b[0;34m.\u001b[0m\u001b[0m_sanitize_column\u001b[0m\u001b[0;34m(\u001b[0m\u001b[0mkey\u001b[0m\u001b[0;34m,\u001b[0m \u001b[0mvalue\u001b[0m\u001b[0;34m)\u001b[0m\u001b[0;34m\u001b[0m\u001b[0;34m\u001b[0m\u001b[0m\n\u001b[0m\u001b[1;32m   3117\u001b[0m         \u001b[0mNDFrame\u001b[0m\u001b[0;34m.\u001b[0m\u001b[0m_set_item\u001b[0m\u001b[0;34m(\u001b[0m\u001b[0mself\u001b[0m\u001b[0;34m,\u001b[0m \u001b[0mkey\u001b[0m\u001b[0;34m,\u001b[0m \u001b[0mvalue\u001b[0m\u001b[0;34m)\u001b[0m\u001b[0;34m\u001b[0m\u001b[0;34m\u001b[0m\u001b[0m\n\u001b[1;32m   3118\u001b[0m \u001b[0;34m\u001b[0m\u001b[0m\n",
      "\u001b[0;32m~/dev/dj-management/projeto_todo/venv/lib/python3.8/site-packages/pandas/core/frame.py\u001b[0m in \u001b[0;36m_sanitize_column\u001b[0;34m(self, key, value, broadcast)\u001b[0m\n\u001b[1;32m   3736\u001b[0m \u001b[0;34m\u001b[0m\u001b[0m\n\u001b[1;32m   3737\u001b[0m         \u001b[0;32mif\u001b[0m \u001b[0misinstance\u001b[0m\u001b[0;34m(\u001b[0m\u001b[0mvalue\u001b[0m\u001b[0;34m,\u001b[0m \u001b[0mSeries\u001b[0m\u001b[0;34m)\u001b[0m\u001b[0;34m:\u001b[0m\u001b[0;34m\u001b[0m\u001b[0;34m\u001b[0m\u001b[0m\n\u001b[0;32m-> 3738\u001b[0;31m             \u001b[0mvalue\u001b[0m \u001b[0;34m=\u001b[0m \u001b[0mreindexer\u001b[0m\u001b[0;34m(\u001b[0m\u001b[0mvalue\u001b[0m\u001b[0;34m)\u001b[0m\u001b[0;34m\u001b[0m\u001b[0;34m\u001b[0m\u001b[0m\n\u001b[0m\u001b[1;32m   3739\u001b[0m \u001b[0;34m\u001b[0m\u001b[0m\n\u001b[1;32m   3740\u001b[0m         \u001b[0;32melif\u001b[0m \u001b[0misinstance\u001b[0m\u001b[0;34m(\u001b[0m\u001b[0mvalue\u001b[0m\u001b[0;34m,\u001b[0m \u001b[0mDataFrame\u001b[0m\u001b[0;34m)\u001b[0m\u001b[0;34m:\u001b[0m\u001b[0;34m\u001b[0m\u001b[0;34m\u001b[0m\u001b[0m\n",
      "\u001b[0;32m~/dev/dj-management/projeto_todo/venv/lib/python3.8/site-packages/pandas/core/frame.py\u001b[0m in \u001b[0;36mreindexer\u001b[0;34m(value)\u001b[0m\n\u001b[1;32m   3727\u001b[0m                     \u001b[0;32mif\u001b[0m \u001b[0;32mnot\u001b[0m \u001b[0mvalue\u001b[0m\u001b[0;34m.\u001b[0m\u001b[0mindex\u001b[0m\u001b[0;34m.\u001b[0m\u001b[0mis_unique\u001b[0m\u001b[0;34m:\u001b[0m\u001b[0;34m\u001b[0m\u001b[0;34m\u001b[0m\u001b[0m\n\u001b[1;32m   3728\u001b[0m                         \u001b[0;31m# duplicate axis\u001b[0m\u001b[0;34m\u001b[0m\u001b[0;34m\u001b[0m\u001b[0;34m\u001b[0m\u001b[0m\n\u001b[0;32m-> 3729\u001b[0;31m                         \u001b[0;32mraise\u001b[0m \u001b[0merr\u001b[0m\u001b[0;34m\u001b[0m\u001b[0;34m\u001b[0m\u001b[0m\n\u001b[0m\u001b[1;32m   3730\u001b[0m \u001b[0;34m\u001b[0m\u001b[0m\n\u001b[1;32m   3731\u001b[0m                     \u001b[0;31m# other\u001b[0m\u001b[0;34m\u001b[0m\u001b[0;34m\u001b[0m\u001b[0;34m\u001b[0m\u001b[0m\n",
      "\u001b[0;32m~/dev/dj-management/projeto_todo/venv/lib/python3.8/site-packages/pandas/core/frame.py\u001b[0m in \u001b[0;36mreindexer\u001b[0;34m(value)\u001b[0m\n\u001b[1;32m   3722\u001b[0m                 \u001b[0;31m# GH 4107\u001b[0m\u001b[0;34m\u001b[0m\u001b[0;34m\u001b[0m\u001b[0;34m\u001b[0m\u001b[0m\n\u001b[1;32m   3723\u001b[0m                 \u001b[0;32mtry\u001b[0m\u001b[0;34m:\u001b[0m\u001b[0;34m\u001b[0m\u001b[0;34m\u001b[0m\u001b[0m\n\u001b[0;32m-> 3724\u001b[0;31m                     \u001b[0mvalue\u001b[0m \u001b[0;34m=\u001b[0m \u001b[0mvalue\u001b[0m\u001b[0;34m.\u001b[0m\u001b[0mreindex\u001b[0m\u001b[0;34m(\u001b[0m\u001b[0mself\u001b[0m\u001b[0;34m.\u001b[0m\u001b[0mindex\u001b[0m\u001b[0;34m)\u001b[0m\u001b[0;34m.\u001b[0m\u001b[0m_values\u001b[0m\u001b[0;34m\u001b[0m\u001b[0;34m\u001b[0m\u001b[0m\n\u001b[0m\u001b[1;32m   3725\u001b[0m                 \u001b[0;32mexcept\u001b[0m \u001b[0mValueError\u001b[0m \u001b[0;32mas\u001b[0m \u001b[0merr\u001b[0m\u001b[0;34m:\u001b[0m\u001b[0;34m\u001b[0m\u001b[0;34m\u001b[0m\u001b[0m\n\u001b[1;32m   3726\u001b[0m                     \u001b[0;31m# raised in MultiIndex.from_tuples, see test_insert_error_msmgs\u001b[0m\u001b[0;34m\u001b[0m\u001b[0;34m\u001b[0m\u001b[0;34m\u001b[0m\u001b[0m\n",
      "\u001b[0;32m~/dev/dj-management/projeto_todo/venv/lib/python3.8/site-packages/pandas/core/series.py\u001b[0m in \u001b[0;36mreindex\u001b[0;34m(self, index, **kwargs)\u001b[0m\n\u001b[1;32m   4397\u001b[0m     )\n\u001b[1;32m   4398\u001b[0m     \u001b[0;32mdef\u001b[0m \u001b[0mreindex\u001b[0m\u001b[0;34m(\u001b[0m\u001b[0mself\u001b[0m\u001b[0;34m,\u001b[0m \u001b[0mindex\u001b[0m\u001b[0;34m=\u001b[0m\u001b[0;32mNone\u001b[0m\u001b[0;34m,\u001b[0m \u001b[0;34m**\u001b[0m\u001b[0mkwargs\u001b[0m\u001b[0;34m)\u001b[0m\u001b[0;34m:\u001b[0m\u001b[0;34m\u001b[0m\u001b[0;34m\u001b[0m\u001b[0m\n\u001b[0;32m-> 4399\u001b[0;31m         \u001b[0;32mreturn\u001b[0m \u001b[0msuper\u001b[0m\u001b[0;34m(\u001b[0m\u001b[0;34m)\u001b[0m\u001b[0;34m.\u001b[0m\u001b[0mreindex\u001b[0m\u001b[0;34m(\u001b[0m\u001b[0mindex\u001b[0m\u001b[0;34m=\u001b[0m\u001b[0mindex\u001b[0m\u001b[0;34m,\u001b[0m \u001b[0;34m**\u001b[0m\u001b[0mkwargs\u001b[0m\u001b[0;34m)\u001b[0m\u001b[0;34m\u001b[0m\u001b[0;34m\u001b[0m\u001b[0m\n\u001b[0m\u001b[1;32m   4400\u001b[0m \u001b[0;34m\u001b[0m\u001b[0m\n\u001b[1;32m   4401\u001b[0m     def drop(\n",
      "\u001b[0;32m~/dev/dj-management/projeto_todo/venv/lib/python3.8/site-packages/pandas/core/generic.py\u001b[0m in \u001b[0;36mreindex\u001b[0;34m(self, *args, **kwargs)\u001b[0m\n\u001b[1;32m   4450\u001b[0m \u001b[0;34m\u001b[0m\u001b[0m\n\u001b[1;32m   4451\u001b[0m         \u001b[0;31m# perform the reindex on the axes\u001b[0m\u001b[0;34m\u001b[0m\u001b[0;34m\u001b[0m\u001b[0;34m\u001b[0m\u001b[0m\n\u001b[0;32m-> 4452\u001b[0;31m         return self._reindex_axes(\n\u001b[0m\u001b[1;32m   4453\u001b[0m             \u001b[0maxes\u001b[0m\u001b[0;34m,\u001b[0m \u001b[0mlevel\u001b[0m\u001b[0;34m,\u001b[0m \u001b[0mlimit\u001b[0m\u001b[0;34m,\u001b[0m \u001b[0mtolerance\u001b[0m\u001b[0;34m,\u001b[0m \u001b[0mmethod\u001b[0m\u001b[0;34m,\u001b[0m \u001b[0mfill_value\u001b[0m\u001b[0;34m,\u001b[0m \u001b[0mcopy\u001b[0m\u001b[0;34m\u001b[0m\u001b[0;34m\u001b[0m\u001b[0m\n\u001b[1;32m   4454\u001b[0m         ).__finalize__(self, method=\"reindex\")\n",
      "\u001b[0;32m~/dev/dj-management/projeto_todo/venv/lib/python3.8/site-packages/pandas/core/generic.py\u001b[0m in \u001b[0;36m_reindex_axes\u001b[0;34m(self, axes, level, limit, tolerance, method, fill_value, copy)\u001b[0m\n\u001b[1;32m   4470\u001b[0m \u001b[0;34m\u001b[0m\u001b[0m\n\u001b[1;32m   4471\u001b[0m             \u001b[0maxis\u001b[0m \u001b[0;34m=\u001b[0m \u001b[0mself\u001b[0m\u001b[0;34m.\u001b[0m\u001b[0m_get_axis_number\u001b[0m\u001b[0;34m(\u001b[0m\u001b[0ma\u001b[0m\u001b[0;34m)\u001b[0m\u001b[0;34m\u001b[0m\u001b[0;34m\u001b[0m\u001b[0m\n\u001b[0;32m-> 4472\u001b[0;31m             obj = obj._reindex_with_indexers(\n\u001b[0m\u001b[1;32m   4473\u001b[0m                 \u001b[0;34m{\u001b[0m\u001b[0maxis\u001b[0m\u001b[0;34m:\u001b[0m \u001b[0;34m[\u001b[0m\u001b[0mnew_index\u001b[0m\u001b[0;34m,\u001b[0m \u001b[0mindexer\u001b[0m\u001b[0;34m]\u001b[0m\u001b[0;34m}\u001b[0m\u001b[0;34m,\u001b[0m\u001b[0;34m\u001b[0m\u001b[0;34m\u001b[0m\u001b[0m\n\u001b[1;32m   4474\u001b[0m                 \u001b[0mfill_value\u001b[0m\u001b[0;34m=\u001b[0m\u001b[0mfill_value\u001b[0m\u001b[0;34m,\u001b[0m\u001b[0;34m\u001b[0m\u001b[0;34m\u001b[0m\u001b[0m\n",
      "\u001b[0;32m~/dev/dj-management/projeto_todo/venv/lib/python3.8/site-packages/pandas/core/generic.py\u001b[0m in \u001b[0;36m_reindex_with_indexers\u001b[0;34m(self, reindexers, fill_value, copy, allow_dups)\u001b[0m\n\u001b[1;32m   4513\u001b[0m \u001b[0;34m\u001b[0m\u001b[0m\n\u001b[1;32m   4514\u001b[0m             \u001b[0;31m# TODO: speed up on homogeneous DataFrame objects\u001b[0m\u001b[0;34m\u001b[0m\u001b[0;34m\u001b[0m\u001b[0;34m\u001b[0m\u001b[0m\n\u001b[0;32m-> 4515\u001b[0;31m             new_data = new_data.reindex_indexer(\n\u001b[0m\u001b[1;32m   4516\u001b[0m                 \u001b[0mindex\u001b[0m\u001b[0;34m,\u001b[0m\u001b[0;34m\u001b[0m\u001b[0;34m\u001b[0m\u001b[0m\n\u001b[1;32m   4517\u001b[0m                 \u001b[0mindexer\u001b[0m\u001b[0;34m,\u001b[0m\u001b[0;34m\u001b[0m\u001b[0;34m\u001b[0m\u001b[0m\n",
      "\u001b[0;32m~/dev/dj-management/projeto_todo/venv/lib/python3.8/site-packages/pandas/core/internals/managers.py\u001b[0m in \u001b[0;36mreindex_indexer\u001b[0;34m(self, new_axis, indexer, axis, fill_value, allow_dups, copy, consolidate)\u001b[0m\n\u001b[1;32m   1274\u001b[0m         \u001b[0;31m# some axes don't allow reindexing with dups\u001b[0m\u001b[0;34m\u001b[0m\u001b[0;34m\u001b[0m\u001b[0;34m\u001b[0m\u001b[0m\n\u001b[1;32m   1275\u001b[0m         \u001b[0;32mif\u001b[0m \u001b[0;32mnot\u001b[0m \u001b[0mallow_dups\u001b[0m\u001b[0;34m:\u001b[0m\u001b[0;34m\u001b[0m\u001b[0;34m\u001b[0m\u001b[0m\n\u001b[0;32m-> 1276\u001b[0;31m             \u001b[0mself\u001b[0m\u001b[0;34m.\u001b[0m\u001b[0maxes\u001b[0m\u001b[0;34m[\u001b[0m\u001b[0maxis\u001b[0m\u001b[0;34m]\u001b[0m\u001b[0;34m.\u001b[0m\u001b[0m_can_reindex\u001b[0m\u001b[0;34m(\u001b[0m\u001b[0mindexer\u001b[0m\u001b[0;34m)\u001b[0m\u001b[0;34m\u001b[0m\u001b[0;34m\u001b[0m\u001b[0m\n\u001b[0m\u001b[1;32m   1277\u001b[0m \u001b[0;34m\u001b[0m\u001b[0m\n\u001b[1;32m   1278\u001b[0m         \u001b[0;32mif\u001b[0m \u001b[0maxis\u001b[0m \u001b[0;34m>=\u001b[0m \u001b[0mself\u001b[0m\u001b[0;34m.\u001b[0m\u001b[0mndim\u001b[0m\u001b[0;34m:\u001b[0m\u001b[0;34m\u001b[0m\u001b[0;34m\u001b[0m\u001b[0m\n",
      "\u001b[0;32m~/dev/dj-management/projeto_todo/venv/lib/python3.8/site-packages/pandas/core/indexes/base.py\u001b[0m in \u001b[0;36m_can_reindex\u001b[0;34m(self, indexer)\u001b[0m\n\u001b[1;32m   3281\u001b[0m         \u001b[0;31m# trying to reindex on an axis with duplicates\u001b[0m\u001b[0;34m\u001b[0m\u001b[0;34m\u001b[0m\u001b[0;34m\u001b[0m\u001b[0m\n\u001b[1;32m   3282\u001b[0m         \u001b[0;32mif\u001b[0m \u001b[0;32mnot\u001b[0m \u001b[0mself\u001b[0m\u001b[0;34m.\u001b[0m\u001b[0mis_unique\u001b[0m \u001b[0;32mand\u001b[0m \u001b[0mlen\u001b[0m\u001b[0;34m(\u001b[0m\u001b[0mindexer\u001b[0m\u001b[0;34m)\u001b[0m\u001b[0;34m:\u001b[0m\u001b[0;34m\u001b[0m\u001b[0;34m\u001b[0m\u001b[0m\n\u001b[0;32m-> 3283\u001b[0;31m             \u001b[0;32mraise\u001b[0m \u001b[0mValueError\u001b[0m\u001b[0;34m(\u001b[0m\u001b[0;34m\"cannot reindex from a duplicate axis\"\u001b[0m\u001b[0;34m)\u001b[0m\u001b[0;34m\u001b[0m\u001b[0;34m\u001b[0m\u001b[0m\n\u001b[0m\u001b[1;32m   3284\u001b[0m \u001b[0;34m\u001b[0m\u001b[0m\n\u001b[1;32m   3285\u001b[0m     \u001b[0;32mdef\u001b[0m \u001b[0mreindex\u001b[0m\u001b[0;34m(\u001b[0m\u001b[0mself\u001b[0m\u001b[0;34m,\u001b[0m \u001b[0mtarget\u001b[0m\u001b[0;34m,\u001b[0m \u001b[0mmethod\u001b[0m\u001b[0;34m=\u001b[0m\u001b[0;32mNone\u001b[0m\u001b[0;34m,\u001b[0m \u001b[0mlevel\u001b[0m\u001b[0;34m=\u001b[0m\u001b[0;32mNone\u001b[0m\u001b[0;34m,\u001b[0m \u001b[0mlimit\u001b[0m\u001b[0;34m=\u001b[0m\u001b[0;32mNone\u001b[0m\u001b[0;34m,\u001b[0m \u001b[0mtolerance\u001b[0m\u001b[0;34m=\u001b[0m\u001b[0;32mNone\u001b[0m\u001b[0;34m)\u001b[0m\u001b[0;34m:\u001b[0m\u001b[0;34m\u001b[0m\u001b[0;34m\u001b[0m\u001b[0m\n",
      "\u001b[0;31mValueError\u001b[0m: cannot reindex from a duplicate axis"
     ]
    }
   ],
   "source": [
    "dfnew['%'] = round(df['Valor']/rev.groupby(['Período'])['Valor'].transform('sum')*100)"
   ]
  },
  {
   "cell_type": "code",
   "execution_count": 152,
   "metadata": {},
   "outputs": [],
   "source": [
    "df['%'] = round(df['Valor']/df.groupby(['Período'])['Valor'].transform('sum')*100)"
   ]
  },
  {
   "cell_type": "code",
   "execution_count": 86,
   "metadata": {},
   "outputs": [],
   "source": [
    "df.loc[:,'row_total'] = df.sum(axis=0)"
   ]
  },
  {
   "cell_type": "code",
   "execution_count": null,
   "metadata": {},
   "outputs": [],
   "source": []
  },
  {
   "cell_type": "code",
   "execution_count": 88,
   "metadata": {},
   "outputs": [
    {
     "data": {
      "text/html": [
       "<div>\n",
       "<style scoped>\n",
       "    .dataframe tbody tr th:only-of-type {\n",
       "        vertical-align: middle;\n",
       "    }\n",
       "\n",
       "    .dataframe tbody tr th {\n",
       "        vertical-align: top;\n",
       "    }\n",
       "\n",
       "    .dataframe thead th {\n",
       "        text-align: right;\n",
       "    }\n",
       "</style>\n",
       "<table border=\"1\" class=\"dataframe\">\n",
       "  <thead>\n",
       "    <tr style=\"text-align: right;\">\n",
       "      <th></th>\n",
       "      <th>Categoria</th>\n",
       "      <th>Valor</th>\n",
       "      <th>date</th>\n",
       "      <th>Lançamento</th>\n",
       "      <th>Período</th>\n",
       "      <th>%</th>\n",
       "      <th>row_total</th>\n",
       "    </tr>\n",
       "  </thead>\n",
       "  <tbody>\n",
       "    <tr>\n",
       "      <th>18</th>\n",
       "      <td>SALARIOS</td>\n",
       "      <td>200.0</td>\n",
       "      <td>2019-04-01</td>\n",
       "      <td>funcionario 2</td>\n",
       "      <td>2019-04</td>\n",
       "      <td>100.0</td>\n",
       "      <td>NaN</td>\n",
       "    </tr>\n",
       "    <tr>\n",
       "      <th>19</th>\n",
       "      <td>SALARIOS</td>\n",
       "      <td>200.0</td>\n",
       "      <td>2019-05-01</td>\n",
       "      <td>funcionario 2</td>\n",
       "      <td>2019-05</td>\n",
       "      <td>100.0</td>\n",
       "      <td>NaN</td>\n",
       "    </tr>\n",
       "    <tr>\n",
       "      <th>20</th>\n",
       "      <td>SALARIOS</td>\n",
       "      <td>200.0</td>\n",
       "      <td>2019-06-01</td>\n",
       "      <td>funcionario 2</td>\n",
       "      <td>2019-06</td>\n",
       "      <td>100.0</td>\n",
       "      <td>NaN</td>\n",
       "    </tr>\n",
       "    <tr>\n",
       "      <th>21</th>\n",
       "      <td>SALARIOS</td>\n",
       "      <td>200.0</td>\n",
       "      <td>2019-07-01</td>\n",
       "      <td>funcionario 2</td>\n",
       "      <td>2019-07</td>\n",
       "      <td>100.0</td>\n",
       "      <td>NaN</td>\n",
       "    </tr>\n",
       "    <tr>\n",
       "      <th>22</th>\n",
       "      <td>SALARIOS</td>\n",
       "      <td>200.0</td>\n",
       "      <td>2019-08-01</td>\n",
       "      <td>funcionario 2</td>\n",
       "      <td>2019-08</td>\n",
       "      <td>100.0</td>\n",
       "      <td>NaN</td>\n",
       "    </tr>\n",
       "    <tr>\n",
       "      <th>23</th>\n",
       "      <td>SALARIOS</td>\n",
       "      <td>200.0</td>\n",
       "      <td>2019-09-01</td>\n",
       "      <td>funcionario 2</td>\n",
       "      <td>2019-09</td>\n",
       "      <td>100.0</td>\n",
       "      <td>NaN</td>\n",
       "    </tr>\n",
       "    <tr>\n",
       "      <th>24</th>\n",
       "      <td>SALARIOS</td>\n",
       "      <td>200.0</td>\n",
       "      <td>2019-10-01</td>\n",
       "      <td>funcionario 2</td>\n",
       "      <td>2019-10</td>\n",
       "      <td>100.0</td>\n",
       "      <td>NaN</td>\n",
       "    </tr>\n",
       "    <tr>\n",
       "      <th>25</th>\n",
       "      <td>SALARIOS</td>\n",
       "      <td>200.0</td>\n",
       "      <td>2019-11-01</td>\n",
       "      <td>funcionario 2</td>\n",
       "      <td>2019-11</td>\n",
       "      <td>100.0</td>\n",
       "      <td>NaN</td>\n",
       "    </tr>\n",
       "    <tr>\n",
       "      <th>26</th>\n",
       "      <td>SALARIOS</td>\n",
       "      <td>200.0</td>\n",
       "      <td>2019-12-01</td>\n",
       "      <td>funcionario 2</td>\n",
       "      <td>2019-12</td>\n",
       "      <td>100.0</td>\n",
       "      <td>NaN</td>\n",
       "    </tr>\n",
       "    <tr>\n",
       "      <th>27</th>\n",
       "      <td>SALARIOS</td>\n",
       "      <td>200.0</td>\n",
       "      <td>2020-01-01</td>\n",
       "      <td>funcionario 2</td>\n",
       "      <td>2020-01</td>\n",
       "      <td>100.0</td>\n",
       "      <td>NaN</td>\n",
       "    </tr>\n",
       "    <tr>\n",
       "      <th>5</th>\n",
       "      <td>FIXOS</td>\n",
       "      <td>100.0</td>\n",
       "      <td>2020-02-01</td>\n",
       "      <td>aluguel</td>\n",
       "      <td>2020-02</td>\n",
       "      <td>100.0</td>\n",
       "      <td>NaN</td>\n",
       "    </tr>\n",
       "    <tr>\n",
       "      <th>6</th>\n",
       "      <td>FIXOS</td>\n",
       "      <td>100.0</td>\n",
       "      <td>2020-03-01</td>\n",
       "      <td>aluguel</td>\n",
       "      <td>2020-03</td>\n",
       "      <td>100.0</td>\n",
       "      <td>NaN</td>\n",
       "    </tr>\n",
       "    <tr>\n",
       "      <th>0</th>\n",
       "      <td>- VENDA LOCAL</td>\n",
       "      <td>222.0</td>\n",
       "      <td>2020-04-01</td>\n",
       "      <td>NaN</td>\n",
       "      <td>2020-04</td>\n",
       "      <td>7.0</td>\n",
       "      <td>NaN</td>\n",
       "    </tr>\n",
       "    <tr>\n",
       "      <th>29</th>\n",
       "      <td>SEGUROS</td>\n",
       "      <td>2000.0</td>\n",
       "      <td>2020-04-01</td>\n",
       "      <td>VEICULO</td>\n",
       "      <td>2020-04</td>\n",
       "      <td>67.0</td>\n",
       "      <td>NaN</td>\n",
       "    </tr>\n",
       "    <tr>\n",
       "      <th>7</th>\n",
       "      <td>FIXOS</td>\n",
       "      <td>100.0</td>\n",
       "      <td>2020-04-01</td>\n",
       "      <td>aluguel</td>\n",
       "      <td>2020-04</td>\n",
       "      <td>3.0</td>\n",
       "      <td>NaN</td>\n",
       "    </tr>\n",
       "    <tr>\n",
       "      <th>1</th>\n",
       "      <td>- VENDA LOCAL</td>\n",
       "      <td>222.0</td>\n",
       "      <td>2020-04-01</td>\n",
       "      <td>NaN</td>\n",
       "      <td>2020-04</td>\n",
       "      <td>7.0</td>\n",
       "      <td>NaN</td>\n",
       "    </tr>\n",
       "    <tr>\n",
       "      <th>0</th>\n",
       "      <td>Venda Local</td>\n",
       "      <td>222.0</td>\n",
       "      <td>2020-04-01</td>\n",
       "      <td>NaN</td>\n",
       "      <td>2020-04</td>\n",
       "      <td>7.0</td>\n",
       "      <td>NaN</td>\n",
       "    </tr>\n",
       "    <tr>\n",
       "      <th>1</th>\n",
       "      <td>Venda Local</td>\n",
       "      <td>222.0</td>\n",
       "      <td>2020-04-01</td>\n",
       "      <td>NaN</td>\n",
       "      <td>2020-04</td>\n",
       "      <td>7.0</td>\n",
       "      <td>NaN</td>\n",
       "    </tr>\n",
       "    <tr>\n",
       "      <th>0</th>\n",
       "      <td>FIXOS</td>\n",
       "      <td>100.0</td>\n",
       "      <td>2020-05-01</td>\n",
       "      <td>aluguel</td>\n",
       "      <td>2020-05</td>\n",
       "      <td>35.0</td>\n",
       "      <td>NaN</td>\n",
       "    </tr>\n",
       "    <tr>\n",
       "      <th>15</th>\n",
       "      <td>SALARIOS</td>\n",
       "      <td>33.0</td>\n",
       "      <td>2020-05-01</td>\n",
       "      <td>funcionario</td>\n",
       "      <td>2020-05</td>\n",
       "      <td>11.0</td>\n",
       "      <td>NaN</td>\n",
       "    </tr>\n",
       "    <tr>\n",
       "      <th>16</th>\n",
       "      <td>SALARIOS</td>\n",
       "      <td>33.0</td>\n",
       "      <td>2020-05-01</td>\n",
       "      <td>funcionario</td>\n",
       "      <td>2020-05</td>\n",
       "      <td>11.0</td>\n",
       "      <td>NaN</td>\n",
       "    </tr>\n",
       "    <tr>\n",
       "      <th>17</th>\n",
       "      <td>SALARIOS</td>\n",
       "      <td>22.0</td>\n",
       "      <td>2020-05-01</td>\n",
       "      <td>funcionario</td>\n",
       "      <td>2020-05</td>\n",
       "      <td>8.0</td>\n",
       "      <td>NaN</td>\n",
       "    </tr>\n",
       "    <tr>\n",
       "      <th>8</th>\n",
       "      <td>FIXOS</td>\n",
       "      <td>100.0</td>\n",
       "      <td>2020-05-01</td>\n",
       "      <td>aluguel</td>\n",
       "      <td>2020-05</td>\n",
       "      <td>35.0</td>\n",
       "      <td>NaN</td>\n",
       "    </tr>\n",
       "    <tr>\n",
       "      <th>9</th>\n",
       "      <td>FIXOS</td>\n",
       "      <td>100.0</td>\n",
       "      <td>2020-06-01</td>\n",
       "      <td>aluguel</td>\n",
       "      <td>2020-06</td>\n",
       "      <td>50.0</td>\n",
       "      <td>NaN</td>\n",
       "    </tr>\n",
       "    <tr>\n",
       "      <th>1</th>\n",
       "      <td>FIXOS</td>\n",
       "      <td>100.0</td>\n",
       "      <td>2020-06-01</td>\n",
       "      <td>aluguel</td>\n",
       "      <td>2020-06</td>\n",
       "      <td>50.0</td>\n",
       "      <td>NaN</td>\n",
       "    </tr>\n",
       "    <tr>\n",
       "      <th>2</th>\n",
       "      <td>FIXOS</td>\n",
       "      <td>100.0</td>\n",
       "      <td>2020-07-01</td>\n",
       "      <td>aluguel</td>\n",
       "      <td>2020-07</td>\n",
       "      <td>5.0</td>\n",
       "      <td>NaN</td>\n",
       "    </tr>\n",
       "    <tr>\n",
       "      <th>10</th>\n",
       "      <td>FIXOS</td>\n",
       "      <td>100.0</td>\n",
       "      <td>2020-07-01</td>\n",
       "      <td>aluguel</td>\n",
       "      <td>2020-07</td>\n",
       "      <td>5.0</td>\n",
       "      <td>NaN</td>\n",
       "    </tr>\n",
       "    <tr>\n",
       "      <th>28</th>\n",
       "      <td>SALARIOS</td>\n",
       "      <td>2000.0</td>\n",
       "      <td>2020-07-10</td>\n",
       "      <td>funcionario 2</td>\n",
       "      <td>2020-07</td>\n",
       "      <td>91.0</td>\n",
       "      <td>NaN</td>\n",
       "    </tr>\n",
       "    <tr>\n",
       "      <th>11</th>\n",
       "      <td>FIXOS</td>\n",
       "      <td>100.0</td>\n",
       "      <td>2020-08-01</td>\n",
       "      <td>aluguel</td>\n",
       "      <td>2020-08</td>\n",
       "      <td>50.0</td>\n",
       "      <td>NaN</td>\n",
       "    </tr>\n",
       "    <tr>\n",
       "      <th>3</th>\n",
       "      <td>FIXOS</td>\n",
       "      <td>100.0</td>\n",
       "      <td>2020-08-01</td>\n",
       "      <td>aluguel</td>\n",
       "      <td>2020-08</td>\n",
       "      <td>50.0</td>\n",
       "      <td>NaN</td>\n",
       "    </tr>\n",
       "    <tr>\n",
       "      <th>4</th>\n",
       "      <td>FIXOS</td>\n",
       "      <td>100.0</td>\n",
       "      <td>2020-09-01</td>\n",
       "      <td>aluguel</td>\n",
       "      <td>2020-09</td>\n",
       "      <td>50.0</td>\n",
       "      <td>NaN</td>\n",
       "    </tr>\n",
       "    <tr>\n",
       "      <th>12</th>\n",
       "      <td>FIXOS</td>\n",
       "      <td>100.0</td>\n",
       "      <td>2020-09-01</td>\n",
       "      <td>aluguel</td>\n",
       "      <td>2020-09</td>\n",
       "      <td>50.0</td>\n",
       "      <td>NaN</td>\n",
       "    </tr>\n",
       "    <tr>\n",
       "      <th>13</th>\n",
       "      <td>FIXOS</td>\n",
       "      <td>100.0</td>\n",
       "      <td>2020-10-01</td>\n",
       "      <td>aluguel</td>\n",
       "      <td>2020-10</td>\n",
       "      <td>100.0</td>\n",
       "      <td>NaN</td>\n",
       "    </tr>\n",
       "    <tr>\n",
       "      <th>14</th>\n",
       "      <td>FIXOS</td>\n",
       "      <td>100.0</td>\n",
       "      <td>2020-11-01</td>\n",
       "      <td>aluguel</td>\n",
       "      <td>2020-11</td>\n",
       "      <td>100.0</td>\n",
       "      <td>NaN</td>\n",
       "    </tr>\n",
       "  </tbody>\n",
       "</table>\n",
       "</div>"
      ],
      "text/plain": [
       "        Categoria   Valor        date     Lançamento  Período      % row_total\n",
       "18       SALARIOS   200.0  2019-04-01  funcionario 2  2019-04  100.0       NaN\n",
       "19       SALARIOS   200.0  2019-05-01  funcionario 2  2019-05  100.0       NaN\n",
       "20       SALARIOS   200.0  2019-06-01  funcionario 2  2019-06  100.0       NaN\n",
       "21       SALARIOS   200.0  2019-07-01  funcionario 2  2019-07  100.0       NaN\n",
       "22       SALARIOS   200.0  2019-08-01  funcionario 2  2019-08  100.0       NaN\n",
       "23       SALARIOS   200.0  2019-09-01  funcionario 2  2019-09  100.0       NaN\n",
       "24       SALARIOS   200.0  2019-10-01  funcionario 2  2019-10  100.0       NaN\n",
       "25       SALARIOS   200.0  2019-11-01  funcionario 2  2019-11  100.0       NaN\n",
       "26       SALARIOS   200.0  2019-12-01  funcionario 2  2019-12  100.0       NaN\n",
       "27       SALARIOS   200.0  2020-01-01  funcionario 2  2020-01  100.0       NaN\n",
       "5           FIXOS   100.0  2020-02-01        aluguel  2020-02  100.0       NaN\n",
       "6           FIXOS   100.0  2020-03-01        aluguel  2020-03  100.0       NaN\n",
       "0   - VENDA LOCAL   222.0  2020-04-01            NaN  2020-04    7.0       NaN\n",
       "29        SEGUROS  2000.0  2020-04-01        VEICULO  2020-04   67.0       NaN\n",
       "7           FIXOS   100.0  2020-04-01        aluguel  2020-04    3.0       NaN\n",
       "1   - VENDA LOCAL   222.0  2020-04-01            NaN  2020-04    7.0       NaN\n",
       "0     Venda Local   222.0  2020-04-01            NaN  2020-04    7.0       NaN\n",
       "1     Venda Local   222.0  2020-04-01            NaN  2020-04    7.0       NaN\n",
       "0           FIXOS   100.0  2020-05-01        aluguel  2020-05   35.0       NaN\n",
       "15       SALARIOS    33.0  2020-05-01    funcionario  2020-05   11.0       NaN\n",
       "16       SALARIOS    33.0  2020-05-01    funcionario  2020-05   11.0       NaN\n",
       "17       SALARIOS    22.0  2020-05-01    funcionario  2020-05    8.0       NaN\n",
       "8           FIXOS   100.0  2020-05-01        aluguel  2020-05   35.0       NaN\n",
       "9           FIXOS   100.0  2020-06-01        aluguel  2020-06   50.0       NaN\n",
       "1           FIXOS   100.0  2020-06-01        aluguel  2020-06   50.0       NaN\n",
       "2           FIXOS   100.0  2020-07-01        aluguel  2020-07    5.0       NaN\n",
       "10          FIXOS   100.0  2020-07-01        aluguel  2020-07    5.0       NaN\n",
       "28       SALARIOS  2000.0  2020-07-10  funcionario 2  2020-07   91.0       NaN\n",
       "11          FIXOS   100.0  2020-08-01        aluguel  2020-08   50.0       NaN\n",
       "3           FIXOS   100.0  2020-08-01        aluguel  2020-08   50.0       NaN\n",
       "4           FIXOS   100.0  2020-09-01        aluguel  2020-09   50.0       NaN\n",
       "12          FIXOS   100.0  2020-09-01        aluguel  2020-09   50.0       NaN\n",
       "13          FIXOS   100.0  2020-10-01        aluguel  2020-10  100.0       NaN\n",
       "14          FIXOS   100.0  2020-11-01        aluguel  2020-11  100.0       NaN"
      ]
     },
     "execution_count": 88,
     "metadata": {},
     "output_type": "execute_result"
    }
   ],
   "source": [
    "df.sort_values(by=['Período'])"
   ]
  },
  {
   "cell_type": "code",
   "execution_count": 101,
   "metadata": {},
   "outputs": [],
   "source": [
    "table = pd.pivot_table(df, values=['Valor','%'], index=['Categoria'],\n",
    "                    columns=['Período'], aggfunc=sum, fill_value=0)"
   ]
  },
  {
   "cell_type": "code",
   "execution_count": 102,
   "metadata": {},
   "outputs": [
    {
     "name": "stdout",
     "output_type": "stream",
     "text": [
      "<class 'pandas.core.frame.DataFrame'>\n",
      "Index: 5 entries, - VENDA LOCAL to Venda Local\n",
      "Data columns (total 40 columns):\n",
      " #   Column            Non-Null Count  Dtype\n",
      "---  ------            --------------  -----\n",
      " 0   (%, 2019-04)      5 non-null      int64\n",
      " 1   (%, 2019-05)      5 non-null      int64\n",
      " 2   (%, 2019-06)      5 non-null      int64\n",
      " 3   (%, 2019-07)      5 non-null      int64\n",
      " 4   (%, 2019-08)      5 non-null      int64\n",
      " 5   (%, 2019-09)      5 non-null      int64\n",
      " 6   (%, 2019-10)      5 non-null      int64\n",
      " 7   (%, 2019-11)      5 non-null      int64\n",
      " 8   (%, 2019-12)      5 non-null      int64\n",
      " 9   (%, 2020-01)      5 non-null      int64\n",
      " 10  (%, 2020-02)      5 non-null      int64\n",
      " 11  (%, 2020-03)      5 non-null      int64\n",
      " 12  (%, 2020-04)      5 non-null      int64\n",
      " 13  (%, 2020-05)      5 non-null      int64\n",
      " 14  (%, 2020-06)      5 non-null      int64\n",
      " 15  (%, 2020-07)      5 non-null      int64\n",
      " 16  (%, 2020-08)      5 non-null      int64\n",
      " 17  (%, 2020-09)      5 non-null      int64\n",
      " 18  (%, 2020-10)      5 non-null      int64\n",
      " 19  (%, 2020-11)      5 non-null      int64\n",
      " 20  (Valor, 2019-04)  5 non-null      int64\n",
      " 21  (Valor, 2019-05)  5 non-null      int64\n",
      " 22  (Valor, 2019-06)  5 non-null      int64\n",
      " 23  (Valor, 2019-07)  5 non-null      int64\n",
      " 24  (Valor, 2019-08)  5 non-null      int64\n",
      " 25  (Valor, 2019-09)  5 non-null      int64\n",
      " 26  (Valor, 2019-10)  5 non-null      int64\n",
      " 27  (Valor, 2019-11)  5 non-null      int64\n",
      " 28  (Valor, 2019-12)  5 non-null      int64\n",
      " 29  (Valor, 2020-01)  5 non-null      int64\n",
      " 30  (Valor, 2020-02)  5 non-null      int64\n",
      " 31  (Valor, 2020-03)  5 non-null      int64\n",
      " 32  (Valor, 2020-04)  5 non-null      int64\n",
      " 33  (Valor, 2020-05)  5 non-null      int64\n",
      " 34  (Valor, 2020-06)  5 non-null      int64\n",
      " 35  (Valor, 2020-07)  5 non-null      int64\n",
      " 36  (Valor, 2020-08)  5 non-null      int64\n",
      " 37  (Valor, 2020-09)  5 non-null      int64\n",
      " 38  (Valor, 2020-10)  5 non-null      int64\n",
      " 39  (Valor, 2020-11)  5 non-null      int64\n",
      "dtypes: int64(40)\n",
      "memory usage: 1.6+ KB\n"
     ]
    }
   ],
   "source": [
    "table.info()"
   ]
  },
  {
   "cell_type": "code",
   "execution_count": 103,
   "metadata": {},
   "outputs": [],
   "source": [
    "table.columns = table.columns.swaplevel(0, 1).swaplevel(1, 0)"
   ]
  },
  {
   "cell_type": "code",
   "execution_count": 104,
   "metadata": {},
   "outputs": [],
   "source": [
    "table = table.reindex(sorted(table.columns), axis=1)"
   ]
  },
  {
   "cell_type": "code",
   "execution_count": 105,
   "metadata": {},
   "outputs": [
    {
     "ename": "KeyError",
     "evalue": "\"None of [Index(['column_total', ''], dtype='object', name='Categoria')] are in the [index]\"",
     "output_type": "error",
     "traceback": [
      "\u001b[0;31m---------------------------------------------------------------------------\u001b[0m",
      "\u001b[0;31mKeyError\u001b[0m                                  Traceback (most recent call last)",
      "\u001b[0;32m<ipython-input-105-0f8baaa248e0>\u001b[0m in \u001b[0;36m<module>\u001b[0;34m\u001b[0m\n\u001b[0;32m----> 1\u001b[0;31m \u001b[0mtable\u001b[0m\u001b[0;34m.\u001b[0m\u001b[0mloc\u001b[0m\u001b[0;34m[\u001b[0m\u001b[0;34m(\u001b[0m\u001b[0;34m'column_total'\u001b[0m\u001b[0;34m,\u001b[0m \u001b[0;34m''\u001b[0m\u001b[0;34m)\u001b[0m\u001b[0;34m,\u001b[0m \u001b[0;34m:\u001b[0m\u001b[0;34m]\u001b[0m \u001b[0;34m=\u001b[0m \u001b[0mtable\u001b[0m\u001b[0;34m.\u001b[0m\u001b[0msum\u001b[0m\u001b[0;34m(\u001b[0m\u001b[0maxis\u001b[0m\u001b[0;34m=\u001b[0m\u001b[0;36m0\u001b[0m\u001b[0;34m)\u001b[0m\u001b[0;34m\u001b[0m\u001b[0;34m\u001b[0m\u001b[0m\n\u001b[0m",
      "\u001b[0;32m~/dev/dj-management/projeto_todo/venv/lib/python3.8/site-packages/pandas/core/indexing.py\u001b[0m in \u001b[0;36m__setitem__\u001b[0;34m(self, key, value)\u001b[0m\n\u001b[1;32m    664\u001b[0m         \u001b[0;32melse\u001b[0m\u001b[0;34m:\u001b[0m\u001b[0;34m\u001b[0m\u001b[0;34m\u001b[0m\u001b[0m\n\u001b[1;32m    665\u001b[0m             \u001b[0mkey\u001b[0m \u001b[0;34m=\u001b[0m \u001b[0mcom\u001b[0m\u001b[0;34m.\u001b[0m\u001b[0mapply_if_callable\u001b[0m\u001b[0;34m(\u001b[0m\u001b[0mkey\u001b[0m\u001b[0;34m,\u001b[0m \u001b[0mself\u001b[0m\u001b[0;34m.\u001b[0m\u001b[0mobj\u001b[0m\u001b[0;34m)\u001b[0m\u001b[0;34m\u001b[0m\u001b[0;34m\u001b[0m\u001b[0m\n\u001b[0;32m--> 666\u001b[0;31m         \u001b[0mindexer\u001b[0m \u001b[0;34m=\u001b[0m \u001b[0mself\u001b[0m\u001b[0;34m.\u001b[0m\u001b[0m_get_setitem_indexer\u001b[0m\u001b[0;34m(\u001b[0m\u001b[0mkey\u001b[0m\u001b[0;34m)\u001b[0m\u001b[0;34m\u001b[0m\u001b[0;34m\u001b[0m\u001b[0m\n\u001b[0m\u001b[1;32m    667\u001b[0m         \u001b[0mself\u001b[0m\u001b[0;34m.\u001b[0m\u001b[0m_has_valid_setitem_indexer\u001b[0m\u001b[0;34m(\u001b[0m\u001b[0mkey\u001b[0m\u001b[0;34m)\u001b[0m\u001b[0;34m\u001b[0m\u001b[0;34m\u001b[0m\u001b[0m\n\u001b[1;32m    668\u001b[0m \u001b[0;34m\u001b[0m\u001b[0m\n",
      "\u001b[0;32m~/dev/dj-management/projeto_todo/venv/lib/python3.8/site-packages/pandas/core/indexing.py\u001b[0m in \u001b[0;36m_get_setitem_indexer\u001b[0;34m(self, key)\u001b[0m\n\u001b[1;32m    607\u001b[0m         \u001b[0;32mif\u001b[0m \u001b[0misinstance\u001b[0m\u001b[0;34m(\u001b[0m\u001b[0mkey\u001b[0m\u001b[0;34m,\u001b[0m \u001b[0mtuple\u001b[0m\u001b[0;34m)\u001b[0m\u001b[0;34m:\u001b[0m\u001b[0;34m\u001b[0m\u001b[0;34m\u001b[0m\u001b[0m\n\u001b[1;32m    608\u001b[0m             \u001b[0;32mtry\u001b[0m\u001b[0;34m:\u001b[0m\u001b[0;34m\u001b[0m\u001b[0;34m\u001b[0m\u001b[0m\n\u001b[0;32m--> 609\u001b[0;31m                 \u001b[0;32mreturn\u001b[0m \u001b[0mself\u001b[0m\u001b[0;34m.\u001b[0m\u001b[0m_convert_tuple\u001b[0m\u001b[0;34m(\u001b[0m\u001b[0mkey\u001b[0m\u001b[0;34m,\u001b[0m \u001b[0mis_setter\u001b[0m\u001b[0;34m=\u001b[0m\u001b[0;32mTrue\u001b[0m\u001b[0;34m)\u001b[0m\u001b[0;34m\u001b[0m\u001b[0;34m\u001b[0m\u001b[0m\n\u001b[0m\u001b[1;32m    610\u001b[0m             \u001b[0;32mexcept\u001b[0m \u001b[0mIndexingError\u001b[0m\u001b[0;34m:\u001b[0m\u001b[0;34m\u001b[0m\u001b[0;34m\u001b[0m\u001b[0m\n\u001b[1;32m    611\u001b[0m                 \u001b[0;32mpass\u001b[0m\u001b[0;34m\u001b[0m\u001b[0;34m\u001b[0m\u001b[0m\n",
      "\u001b[0;32m~/dev/dj-management/projeto_todo/venv/lib/python3.8/site-packages/pandas/core/indexing.py\u001b[0m in \u001b[0;36m_convert_tuple\u001b[0;34m(self, key, is_setter)\u001b[0m\n\u001b[1;32m    732\u001b[0m                 \u001b[0;32mif\u001b[0m \u001b[0mi\u001b[0m \u001b[0;34m>=\u001b[0m \u001b[0mself\u001b[0m\u001b[0;34m.\u001b[0m\u001b[0mndim\u001b[0m\u001b[0;34m:\u001b[0m\u001b[0;34m\u001b[0m\u001b[0;34m\u001b[0m\u001b[0m\n\u001b[1;32m    733\u001b[0m                     \u001b[0;32mraise\u001b[0m \u001b[0mIndexingError\u001b[0m\u001b[0;34m(\u001b[0m\u001b[0;34m\"Too many indexers\"\u001b[0m\u001b[0;34m)\u001b[0m\u001b[0;34m\u001b[0m\u001b[0;34m\u001b[0m\u001b[0m\n\u001b[0;32m--> 734\u001b[0;31m                 \u001b[0midx\u001b[0m \u001b[0;34m=\u001b[0m \u001b[0mself\u001b[0m\u001b[0;34m.\u001b[0m\u001b[0m_convert_to_indexer\u001b[0m\u001b[0;34m(\u001b[0m\u001b[0mk\u001b[0m\u001b[0;34m,\u001b[0m \u001b[0maxis\u001b[0m\u001b[0;34m=\u001b[0m\u001b[0mi\u001b[0m\u001b[0;34m,\u001b[0m \u001b[0mis_setter\u001b[0m\u001b[0;34m=\u001b[0m\u001b[0mis_setter\u001b[0m\u001b[0;34m)\u001b[0m\u001b[0;34m\u001b[0m\u001b[0;34m\u001b[0m\u001b[0m\n\u001b[0m\u001b[1;32m    735\u001b[0m                 \u001b[0mkeyidx\u001b[0m\u001b[0;34m.\u001b[0m\u001b[0mappend\u001b[0m\u001b[0;34m(\u001b[0m\u001b[0midx\u001b[0m\u001b[0;34m)\u001b[0m\u001b[0;34m\u001b[0m\u001b[0;34m\u001b[0m\u001b[0m\n\u001b[1;32m    736\u001b[0m         \u001b[0;32mreturn\u001b[0m \u001b[0mtuple\u001b[0m\u001b[0;34m(\u001b[0m\u001b[0mkeyidx\u001b[0m\u001b[0;34m)\u001b[0m\u001b[0;34m\u001b[0m\u001b[0;34m\u001b[0m\u001b[0m\n",
      "\u001b[0;32m~/dev/dj-management/projeto_todo/venv/lib/python3.8/site-packages/pandas/core/indexing.py\u001b[0m in \u001b[0;36m_convert_to_indexer\u001b[0;34m(self, key, axis, is_setter)\u001b[0m\n\u001b[1;32m   1196\u001b[0m             \u001b[0;32melse\u001b[0m\u001b[0;34m:\u001b[0m\u001b[0;34m\u001b[0m\u001b[0;34m\u001b[0m\u001b[0m\n\u001b[1;32m   1197\u001b[0m                 \u001b[0;31m# When setting, missing keys are not allowed, even with .loc:\u001b[0m\u001b[0;34m\u001b[0m\u001b[0;34m\u001b[0m\u001b[0;34m\u001b[0m\u001b[0m\n\u001b[0;32m-> 1198\u001b[0;31m                 \u001b[0;32mreturn\u001b[0m \u001b[0mself\u001b[0m\u001b[0;34m.\u001b[0m\u001b[0m_get_listlike_indexer\u001b[0m\u001b[0;34m(\u001b[0m\u001b[0mkey\u001b[0m\u001b[0;34m,\u001b[0m \u001b[0maxis\u001b[0m\u001b[0;34m,\u001b[0m \u001b[0mraise_missing\u001b[0m\u001b[0;34m=\u001b[0m\u001b[0;32mTrue\u001b[0m\u001b[0;34m)\u001b[0m\u001b[0;34m[\u001b[0m\u001b[0;36m1\u001b[0m\u001b[0;34m]\u001b[0m\u001b[0;34m\u001b[0m\u001b[0;34m\u001b[0m\u001b[0m\n\u001b[0m\u001b[1;32m   1199\u001b[0m         \u001b[0;32melse\u001b[0m\u001b[0;34m:\u001b[0m\u001b[0;34m\u001b[0m\u001b[0;34m\u001b[0m\u001b[0m\n\u001b[1;32m   1200\u001b[0m             \u001b[0;32mtry\u001b[0m\u001b[0;34m:\u001b[0m\u001b[0;34m\u001b[0m\u001b[0;34m\u001b[0m\u001b[0m\n",
      "\u001b[0;32m~/dev/dj-management/projeto_todo/venv/lib/python3.8/site-packages/pandas/core/indexing.py\u001b[0m in \u001b[0;36m_get_listlike_indexer\u001b[0;34m(self, key, axis, raise_missing)\u001b[0m\n\u001b[1;32m   1252\u001b[0m             \u001b[0mkeyarr\u001b[0m\u001b[0;34m,\u001b[0m \u001b[0mindexer\u001b[0m\u001b[0;34m,\u001b[0m \u001b[0mnew_indexer\u001b[0m \u001b[0;34m=\u001b[0m \u001b[0max\u001b[0m\u001b[0;34m.\u001b[0m\u001b[0m_reindex_non_unique\u001b[0m\u001b[0;34m(\u001b[0m\u001b[0mkeyarr\u001b[0m\u001b[0;34m)\u001b[0m\u001b[0;34m\u001b[0m\u001b[0;34m\u001b[0m\u001b[0m\n\u001b[1;32m   1253\u001b[0m \u001b[0;34m\u001b[0m\u001b[0m\n\u001b[0;32m-> 1254\u001b[0;31m         \u001b[0mself\u001b[0m\u001b[0;34m.\u001b[0m\u001b[0m_validate_read_indexer\u001b[0m\u001b[0;34m(\u001b[0m\u001b[0mkeyarr\u001b[0m\u001b[0;34m,\u001b[0m \u001b[0mindexer\u001b[0m\u001b[0;34m,\u001b[0m \u001b[0maxis\u001b[0m\u001b[0;34m,\u001b[0m \u001b[0mraise_missing\u001b[0m\u001b[0;34m=\u001b[0m\u001b[0mraise_missing\u001b[0m\u001b[0;34m)\u001b[0m\u001b[0;34m\u001b[0m\u001b[0;34m\u001b[0m\u001b[0m\n\u001b[0m\u001b[1;32m   1255\u001b[0m         \u001b[0;32mreturn\u001b[0m \u001b[0mkeyarr\u001b[0m\u001b[0;34m,\u001b[0m \u001b[0mindexer\u001b[0m\u001b[0;34m\u001b[0m\u001b[0;34m\u001b[0m\u001b[0m\n\u001b[1;32m   1256\u001b[0m \u001b[0;34m\u001b[0m\u001b[0m\n",
      "\u001b[0;32m~/dev/dj-management/projeto_todo/venv/lib/python3.8/site-packages/pandas/core/indexing.py\u001b[0m in \u001b[0;36m_validate_read_indexer\u001b[0;34m(self, key, indexer, axis, raise_missing)\u001b[0m\n\u001b[1;32m   1296\u001b[0m             \u001b[0;32mif\u001b[0m \u001b[0mmissing\u001b[0m \u001b[0;34m==\u001b[0m \u001b[0mlen\u001b[0m\u001b[0;34m(\u001b[0m\u001b[0mindexer\u001b[0m\u001b[0;34m)\u001b[0m\u001b[0;34m:\u001b[0m\u001b[0;34m\u001b[0m\u001b[0;34m\u001b[0m\u001b[0m\n\u001b[1;32m   1297\u001b[0m                 \u001b[0maxis_name\u001b[0m \u001b[0;34m=\u001b[0m \u001b[0mself\u001b[0m\u001b[0;34m.\u001b[0m\u001b[0mobj\u001b[0m\u001b[0;34m.\u001b[0m\u001b[0m_get_axis_name\u001b[0m\u001b[0;34m(\u001b[0m\u001b[0maxis\u001b[0m\u001b[0;34m)\u001b[0m\u001b[0;34m\u001b[0m\u001b[0;34m\u001b[0m\u001b[0m\n\u001b[0;32m-> 1298\u001b[0;31m                 \u001b[0;32mraise\u001b[0m \u001b[0mKeyError\u001b[0m\u001b[0;34m(\u001b[0m\u001b[0;34mf\"None of [{key}] are in the [{axis_name}]\"\u001b[0m\u001b[0;34m)\u001b[0m\u001b[0;34m\u001b[0m\u001b[0;34m\u001b[0m\u001b[0m\n\u001b[0m\u001b[1;32m   1299\u001b[0m \u001b[0;34m\u001b[0m\u001b[0m\n\u001b[1;32m   1300\u001b[0m             \u001b[0;31m# We (temporarily) allow for some missing keys with .loc, except in\u001b[0m\u001b[0;34m\u001b[0m\u001b[0;34m\u001b[0m\u001b[0;34m\u001b[0m\u001b[0m\n",
      "\u001b[0;31mKeyError\u001b[0m: \"None of [Index(['column_total', ''], dtype='object', name='Categoria')] are in the [index]\""
     ]
    }
   ],
   "source": [
    "table.loc[('column_total', ''), :] = table.sum(axis=0)"
   ]
  },
  {
   "cell_type": "code",
   "execution_count": 100,
   "metadata": {},
   "outputs": [
    {
     "data": {
      "text/html": [
       "<div>\n",
       "<style scoped>\n",
       "    .dataframe tbody tr th:only-of-type {\n",
       "        vertical-align: middle;\n",
       "    }\n",
       "\n",
       "    .dataframe tbody tr th {\n",
       "        vertical-align: top;\n",
       "    }\n",
       "\n",
       "    .dataframe thead tr th {\n",
       "        text-align: left;\n",
       "    }\n",
       "\n",
       "    .dataframe thead tr:last-of-type th {\n",
       "        text-align: right;\n",
       "    }\n",
       "</style>\n",
       "<table border=\"1\" class=\"dataframe\">\n",
       "  <thead>\n",
       "    <tr>\n",
       "      <th></th>\n",
       "      <th colspan=\"10\" halign=\"left\">%</th>\n",
       "      <th>...</th>\n",
       "      <th colspan=\"10\" halign=\"left\">Valor</th>\n",
       "    </tr>\n",
       "    <tr>\n",
       "      <th>Período</th>\n",
       "      <th>2019-04</th>\n",
       "      <th>2019-05</th>\n",
       "      <th>2019-06</th>\n",
       "      <th>2019-07</th>\n",
       "      <th>2019-08</th>\n",
       "      <th>2019-09</th>\n",
       "      <th>2019-10</th>\n",
       "      <th>2019-11</th>\n",
       "      <th>2019-12</th>\n",
       "      <th>2020-01</th>\n",
       "      <th>...</th>\n",
       "      <th>2020-02</th>\n",
       "      <th>2020-03</th>\n",
       "      <th>2020-04</th>\n",
       "      <th>2020-05</th>\n",
       "      <th>2020-06</th>\n",
       "      <th>2020-07</th>\n",
       "      <th>2020-08</th>\n",
       "      <th>2020-09</th>\n",
       "      <th>2020-10</th>\n",
       "      <th>2020-11</th>\n",
       "    </tr>\n",
       "    <tr>\n",
       "      <th>Categoria</th>\n",
       "      <th></th>\n",
       "      <th></th>\n",
       "      <th></th>\n",
       "      <th></th>\n",
       "      <th></th>\n",
       "      <th></th>\n",
       "      <th></th>\n",
       "      <th></th>\n",
       "      <th></th>\n",
       "      <th></th>\n",
       "      <th></th>\n",
       "      <th></th>\n",
       "      <th></th>\n",
       "      <th></th>\n",
       "      <th></th>\n",
       "      <th></th>\n",
       "      <th></th>\n",
       "      <th></th>\n",
       "      <th></th>\n",
       "      <th></th>\n",
       "      <th></th>\n",
       "    </tr>\n",
       "  </thead>\n",
       "  <tbody>\n",
       "    <tr>\n",
       "      <th>- VENDA LOCAL</th>\n",
       "      <td>0</td>\n",
       "      <td>0</td>\n",
       "      <td>0</td>\n",
       "      <td>0</td>\n",
       "      <td>0</td>\n",
       "      <td>0</td>\n",
       "      <td>0</td>\n",
       "      <td>0</td>\n",
       "      <td>0</td>\n",
       "      <td>0</td>\n",
       "      <td>...</td>\n",
       "      <td>0</td>\n",
       "      <td>0</td>\n",
       "      <td>444</td>\n",
       "      <td>0</td>\n",
       "      <td>0</td>\n",
       "      <td>0</td>\n",
       "      <td>0</td>\n",
       "      <td>0</td>\n",
       "      <td>0</td>\n",
       "      <td>0</td>\n",
       "    </tr>\n",
       "    <tr>\n",
       "      <th>FIXOS</th>\n",
       "      <td>0</td>\n",
       "      <td>0</td>\n",
       "      <td>0</td>\n",
       "      <td>0</td>\n",
       "      <td>0</td>\n",
       "      <td>0</td>\n",
       "      <td>0</td>\n",
       "      <td>0</td>\n",
       "      <td>0</td>\n",
       "      <td>0</td>\n",
       "      <td>...</td>\n",
       "      <td>100</td>\n",
       "      <td>100</td>\n",
       "      <td>100</td>\n",
       "      <td>200</td>\n",
       "      <td>200</td>\n",
       "      <td>200</td>\n",
       "      <td>200</td>\n",
       "      <td>200</td>\n",
       "      <td>100</td>\n",
       "      <td>100</td>\n",
       "    </tr>\n",
       "    <tr>\n",
       "      <th>SALARIOS</th>\n",
       "      <td>100</td>\n",
       "      <td>100</td>\n",
       "      <td>100</td>\n",
       "      <td>100</td>\n",
       "      <td>100</td>\n",
       "      <td>100</td>\n",
       "      <td>100</td>\n",
       "      <td>100</td>\n",
       "      <td>100</td>\n",
       "      <td>100</td>\n",
       "      <td>...</td>\n",
       "      <td>0</td>\n",
       "      <td>0</td>\n",
       "      <td>0</td>\n",
       "      <td>88</td>\n",
       "      <td>0</td>\n",
       "      <td>2000</td>\n",
       "      <td>0</td>\n",
       "      <td>0</td>\n",
       "      <td>0</td>\n",
       "      <td>0</td>\n",
       "    </tr>\n",
       "    <tr>\n",
       "      <th>SEGUROS</th>\n",
       "      <td>0</td>\n",
       "      <td>0</td>\n",
       "      <td>0</td>\n",
       "      <td>0</td>\n",
       "      <td>0</td>\n",
       "      <td>0</td>\n",
       "      <td>0</td>\n",
       "      <td>0</td>\n",
       "      <td>0</td>\n",
       "      <td>0</td>\n",
       "      <td>...</td>\n",
       "      <td>0</td>\n",
       "      <td>0</td>\n",
       "      <td>2000</td>\n",
       "      <td>0</td>\n",
       "      <td>0</td>\n",
       "      <td>0</td>\n",
       "      <td>0</td>\n",
       "      <td>0</td>\n",
       "      <td>0</td>\n",
       "      <td>0</td>\n",
       "    </tr>\n",
       "    <tr>\n",
       "      <th>Venda Local</th>\n",
       "      <td>0</td>\n",
       "      <td>0</td>\n",
       "      <td>0</td>\n",
       "      <td>0</td>\n",
       "      <td>0</td>\n",
       "      <td>0</td>\n",
       "      <td>0</td>\n",
       "      <td>0</td>\n",
       "      <td>0</td>\n",
       "      <td>0</td>\n",
       "      <td>...</td>\n",
       "      <td>0</td>\n",
       "      <td>0</td>\n",
       "      <td>444</td>\n",
       "      <td>0</td>\n",
       "      <td>0</td>\n",
       "      <td>0</td>\n",
       "      <td>0</td>\n",
       "      <td>0</td>\n",
       "      <td>0</td>\n",
       "      <td>0</td>\n",
       "    </tr>\n",
       "  </tbody>\n",
       "</table>\n",
       "<p>5 rows × 40 columns</p>\n",
       "</div>"
      ],
      "text/plain": [
       "                    %                                                          \\\n",
       "Período       2019-04 2019-05 2019-06 2019-07 2019-08 2019-09 2019-10 2019-11   \n",
       "Categoria                                                                       \n",
       "- VENDA LOCAL       0       0       0       0       0       0       0       0   \n",
       "FIXOS               0       0       0       0       0       0       0       0   \n",
       "SALARIOS          100     100     100     100     100     100     100     100   \n",
       "SEGUROS             0       0       0       0       0       0       0       0   \n",
       "Venda Local         0       0       0       0       0       0       0       0   \n",
       "\n",
       "                               ...   Valor                                  \\\n",
       "Período       2019-12 2020-01  ... 2020-02 2020-03 2020-04 2020-05 2020-06   \n",
       "Categoria                      ...                                           \n",
       "- VENDA LOCAL       0       0  ...       0       0     444       0       0   \n",
       "FIXOS               0       0  ...     100     100     100     200     200   \n",
       "SALARIOS          100     100  ...       0       0       0      88       0   \n",
       "SEGUROS             0       0  ...       0       0    2000       0       0   \n",
       "Venda Local         0       0  ...       0       0     444       0       0   \n",
       "\n",
       "                                                       \n",
       "Período       2020-07 2020-08 2020-09 2020-10 2020-11  \n",
       "Categoria                                              \n",
       "- VENDA LOCAL       0       0       0       0       0  \n",
       "FIXOS             200     200     200     100     100  \n",
       "SALARIOS         2000       0       0       0       0  \n",
       "SEGUROS             0       0       0       0       0  \n",
       "Venda Local         0       0       0       0       0  \n",
       "\n",
       "[5 rows x 40 columns]"
      ]
     },
     "execution_count": 100,
     "metadata": {},
     "output_type": "execute_result"
    }
   ],
   "source": [
    "table"
   ]
  },
  {
   "cell_type": "code",
   "execution_count": null,
   "metadata": {},
   "outputs": [],
   "source": []
  },
  {
   "cell_type": "code",
   "execution_count": null,
   "metadata": {},
   "outputs": [],
   "source": []
  }
 ],
 "metadata": {
  "kernelspec": {
   "display_name": "Django Shell-Plus",
   "language": "python",
   "name": "django_extensions"
  }
 },
 "nbformat": 4,
 "nbformat_minor": 4
}

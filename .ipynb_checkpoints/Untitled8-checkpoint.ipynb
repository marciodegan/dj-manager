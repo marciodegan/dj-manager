{
 "cells": [
  {
   "cell_type": "code",
   "execution_count": 4,
   "metadata": {},
   "outputs": [],
   "source": [
    "from django.db.models.functions import Concat\n",
    "from django.db.models import CharField, Value as V\n",
    "from django.db.models import Sum\n",
    "from django.db.models.functions import ExtractMonth, ExtractYear\n",
    "from django_pivot.pivot import pivot"
   ]
  },
  {
   "cell_type": "code",
   "execution_count": 65,
   "metadata": {},
   "outputs": [],
   "source": [
    "datas = Expense.objects.all().values('expenseType__category__category').annotate(month=ExtractMonth('date'), year=ExtractYear('date'), monthyear=Concat('year','month')).values('monthyear', 'expenseType__category__category', 'amount')"
   ]
  },
  {
   "cell_type": "code",
   "execution_count": 70,
   "metadata": {},
   "outputs": [
    {
     "ename": "FieldError",
     "evalue": "Cannot resolve keyword 'date.monthyear()' into field. Choices are: amount, date, expenseType, expenseType_id, id, repetir",
     "output_type": "error",
     "traceback": [
      "\u001b[0;31m---------------------------------------------------------------------------\u001b[0m",
      "\u001b[0;31mFieldError\u001b[0m                                Traceback (most recent call last)",
      "\u001b[0;32m~/dev/dj-management/projeto_todo/venv/lib/python3.8/site-packages/django/db/models/sql/query.py\u001b[0m in \u001b[0;36madd_fields\u001b[0;34m(self, field_names, allow_m2m)\u001b[0m\n\u001b[1;32m   1862\u001b[0m                 \u001b[0;31m# if there is no existing joins, use outer join.\u001b[0m\u001b[0;34m\u001b[0m\u001b[0;34m\u001b[0m\u001b[0;34m\u001b[0m\u001b[0m\n\u001b[0;32m-> 1863\u001b[0;31m                 \u001b[0mjoin_info\u001b[0m \u001b[0;34m=\u001b[0m \u001b[0mself\u001b[0m\u001b[0;34m.\u001b[0m\u001b[0msetup_joins\u001b[0m\u001b[0;34m(\u001b[0m\u001b[0mname\u001b[0m\u001b[0;34m.\u001b[0m\u001b[0msplit\u001b[0m\u001b[0;34m(\u001b[0m\u001b[0mLOOKUP_SEP\u001b[0m\u001b[0;34m)\u001b[0m\u001b[0;34m,\u001b[0m \u001b[0mopts\u001b[0m\u001b[0;34m,\u001b[0m \u001b[0malias\u001b[0m\u001b[0;34m,\u001b[0m \u001b[0mallow_many\u001b[0m\u001b[0;34m=\u001b[0m\u001b[0mallow_m2m\u001b[0m\u001b[0;34m)\u001b[0m\u001b[0;34m\u001b[0m\u001b[0;34m\u001b[0m\u001b[0m\n\u001b[0m\u001b[1;32m   1864\u001b[0m                 targets, final_alias, joins = self.trim_joins(\n",
      "\u001b[0;32m~/dev/dj-management/projeto_todo/venv/lib/python3.8/site-packages/django/db/models/sql/query.py\u001b[0m in \u001b[0;36msetup_joins\u001b[0;34m(self, names, opts, alias, can_reuse, allow_many, reuse_with_filtered_relation)\u001b[0m\n\u001b[1;32m   1564\u001b[0m             \u001b[0;32mtry\u001b[0m\u001b[0;34m:\u001b[0m\u001b[0;34m\u001b[0m\u001b[0;34m\u001b[0m\u001b[0m\n\u001b[0;32m-> 1565\u001b[0;31m                 path, final_field, targets, rest = self.names_to_path(\n\u001b[0m\u001b[1;32m   1566\u001b[0m                     \u001b[0mnames\u001b[0m\u001b[0;34m[\u001b[0m\u001b[0;34m:\u001b[0m\u001b[0mpivot\u001b[0m\u001b[0;34m]\u001b[0m\u001b[0;34m,\u001b[0m \u001b[0mopts\u001b[0m\u001b[0;34m,\u001b[0m \u001b[0mallow_many\u001b[0m\u001b[0;34m,\u001b[0m \u001b[0mfail_on_missing\u001b[0m\u001b[0;34m=\u001b[0m\u001b[0;32mTrue\u001b[0m\u001b[0;34m,\u001b[0m\u001b[0;34m\u001b[0m\u001b[0;34m\u001b[0m\u001b[0m\n",
      "\u001b[0;32m~/dev/dj-management/projeto_todo/venv/lib/python3.8/site-packages/django/db/models/sql/query.py\u001b[0m in \u001b[0;36mnames_to_path\u001b[0;34m(self, names, opts, allow_many, fail_on_missing)\u001b[0m\n\u001b[1;32m   1480\u001b[0m                     ])\n\u001b[0;32m-> 1481\u001b[0;31m                     raise FieldError(\"Cannot resolve keyword '%s' into field. \"\n\u001b[0m\u001b[1;32m   1482\u001b[0m                                      \"Choices are: %s\" % (name, \", \".join(available)))\n",
      "\u001b[0;31mFieldError\u001b[0m: Cannot resolve keyword 'date.monthyear()' into field. Choices are: amount, date, expenseType, expenseType_id, id, repetir",
      "\nDuring handling of the above exception, another exception occurred:\n",
      "\u001b[0;31mFieldError\u001b[0m                                Traceback (most recent call last)",
      "\u001b[0;32m<ipython-input-70-337a5888f1af>\u001b[0m in \u001b[0;36m<module>\u001b[0;34m\u001b[0m\n\u001b[0;32m----> 1\u001b[0;31m \u001b[0mpivot_t\u001b[0m \u001b[0;34m=\u001b[0m \u001b[0mpivot\u001b[0m\u001b[0;34m(\u001b[0m\u001b[0mExpense\u001b[0m\u001b[0;34m,\u001b[0m \u001b[0;34m'expenseType__category__category'\u001b[0m\u001b[0;34m,\u001b[0m \u001b[0;34m'date.monthyear()'\u001b[0m\u001b[0;34m,\u001b[0m \u001b[0;34m'amount'\u001b[0m\u001b[0;34m,\u001b[0m \u001b[0maggregation\u001b[0m\u001b[0;34m=\u001b[0m\u001b[0mSum\u001b[0m\u001b[0;34m)\u001b[0m\u001b[0;34m\u001b[0m\u001b[0;34m\u001b[0m\u001b[0m\n\u001b[0m",
      "\u001b[0;32m~/dev/dj-management/projeto_todo/venv/lib/python3.8/site-packages/django_pivot/pivot.py\u001b[0m in \u001b[0;36mpivot\u001b[0;34m(queryset, rows, column, data, aggregation, choices, display_transform, default, row_range)\u001b[0m\n\u001b[1;32m     27\u001b[0m     \u001b[0mqueryset\u001b[0m \u001b[0;34m=\u001b[0m \u001b[0m_get_queryset\u001b[0m\u001b[0;34m(\u001b[0m\u001b[0mqueryset\u001b[0m\u001b[0;34m)\u001b[0m\u001b[0;34m\u001b[0m\u001b[0;34m\u001b[0m\u001b[0m\n\u001b[1;32m     28\u001b[0m \u001b[0;34m\u001b[0m\u001b[0m\n\u001b[0;32m---> 29\u001b[0;31m     \u001b[0mcolumn_values\u001b[0m \u001b[0;34m=\u001b[0m \u001b[0mget_column_values\u001b[0m\u001b[0;34m(\u001b[0m\u001b[0mqueryset\u001b[0m\u001b[0;34m,\u001b[0m \u001b[0mcolumn\u001b[0m\u001b[0;34m,\u001b[0m \u001b[0mchoices\u001b[0m\u001b[0;34m)\u001b[0m\u001b[0;34m\u001b[0m\u001b[0;34m\u001b[0m\u001b[0m\n\u001b[0m\u001b[1;32m     30\u001b[0m \u001b[0;34m\u001b[0m\u001b[0m\n\u001b[1;32m     31\u001b[0m     \u001b[0mannotations\u001b[0m \u001b[0;34m=\u001b[0m \u001b[0m_get_annotations\u001b[0m\u001b[0;34m(\u001b[0m\u001b[0mcolumn\u001b[0m\u001b[0;34m,\u001b[0m \u001b[0mcolumn_values\u001b[0m\u001b[0;34m,\u001b[0m \u001b[0mdata\u001b[0m\u001b[0;34m,\u001b[0m \u001b[0maggregation\u001b[0m\u001b[0;34m,\u001b[0m \u001b[0mdisplay_transform\u001b[0m\u001b[0;34m,\u001b[0m \u001b[0mdefault\u001b[0m\u001b[0;34m=\u001b[0m\u001b[0mdefault\u001b[0m\u001b[0;34m)\u001b[0m\u001b[0;34m\u001b[0m\u001b[0;34m\u001b[0m\u001b[0m\n",
      "\u001b[0;32m~/dev/dj-management/projeto_todo/venv/lib/python3.8/site-packages/django_pivot/utils.py\u001b[0m in \u001b[0;36mget_column_values\u001b[0;34m(queryset, field, choices)\u001b[0m\n\u001b[1;32m      5\u001b[0m \u001b[0;32mdef\u001b[0m \u001b[0mget_column_values\u001b[0m\u001b[0;34m(\u001b[0m\u001b[0mqueryset\u001b[0m\u001b[0;34m,\u001b[0m \u001b[0mfield\u001b[0m\u001b[0;34m,\u001b[0m \u001b[0mchoices\u001b[0m\u001b[0;34m)\u001b[0m\u001b[0;34m:\u001b[0m\u001b[0;34m\u001b[0m\u001b[0;34m\u001b[0m\u001b[0m\n\u001b[1;32m      6\u001b[0m     \u001b[0;32mif\u001b[0m \u001b[0mchoices\u001b[0m \u001b[0;34m==\u001b[0m \u001b[0;34m'auto'\u001b[0m\u001b[0;34m:\u001b[0m\u001b[0;34m\u001b[0m\u001b[0;34m\u001b[0m\u001b[0m\n\u001b[0;32m----> 7\u001b[0;31m         \u001b[0mchoices\u001b[0m \u001b[0;34m=\u001b[0m \u001b[0mget_field_choices\u001b[0m\u001b[0;34m(\u001b[0m\u001b[0mqueryset\u001b[0m\u001b[0;34m,\u001b[0m \u001b[0mfield\u001b[0m\u001b[0;34m)\u001b[0m \u001b[0;32mor\u001b[0m \u001b[0m_database_choices\u001b[0m\u001b[0;34m(\u001b[0m\u001b[0mqueryset\u001b[0m\u001b[0;34m,\u001b[0m \u001b[0mfield\u001b[0m\u001b[0;34m)\u001b[0m\u001b[0;34m\u001b[0m\u001b[0;34m\u001b[0m\u001b[0m\n\u001b[0m\u001b[1;32m      8\u001b[0m     \u001b[0;32melif\u001b[0m \u001b[0mchoices\u001b[0m \u001b[0;34m==\u001b[0m \u001b[0;34m'minimum'\u001b[0m\u001b[0;34m:\u001b[0m\u001b[0;34m\u001b[0m\u001b[0;34m\u001b[0m\u001b[0m\n\u001b[1;32m      9\u001b[0m         \u001b[0mchoices\u001b[0m \u001b[0;34m=\u001b[0m \u001b[0m_database_choices\u001b[0m\u001b[0;34m(\u001b[0m\u001b[0mqueryset\u001b[0m\u001b[0;34m,\u001b[0m \u001b[0mfield\u001b[0m\u001b[0;34m)\u001b[0m\u001b[0;34m\u001b[0m\u001b[0;34m\u001b[0m\u001b[0m\n",
      "\u001b[0;32m~/dev/dj-management/projeto_todo/venv/lib/python3.8/site-packages/django_pivot/utils.py\u001b[0m in \u001b[0;36m_database_choices\u001b[0;34m(queryset, field)\u001b[0m\n\u001b[1;32m     18\u001b[0m \u001b[0;34m\u001b[0m\u001b[0m\n\u001b[1;32m     19\u001b[0m \u001b[0;32mdef\u001b[0m \u001b[0m_database_choices\u001b[0m\u001b[0;34m(\u001b[0m\u001b[0mqueryset\u001b[0m\u001b[0;34m,\u001b[0m \u001b[0mfield\u001b[0m\u001b[0;34m)\u001b[0m\u001b[0;34m:\u001b[0m\u001b[0;34m\u001b[0m\u001b[0;34m\u001b[0m\u001b[0m\n\u001b[0;32m---> 20\u001b[0;31m     \u001b[0;32mreturn\u001b[0m \u001b[0;34m[\u001b[0m\u001b[0;34m(\u001b[0m\u001b[0mvalue\u001b[0m\u001b[0;34m,\u001b[0m \u001b[0mforce_text\u001b[0m\u001b[0;34m(\u001b[0m\u001b[0mvalue\u001b[0m\u001b[0;34m)\u001b[0m\u001b[0;34m)\u001b[0m \u001b[0;32mfor\u001b[0m \u001b[0mvalue\u001b[0m \u001b[0;32min\u001b[0m \u001b[0mqueryset\u001b[0m\u001b[0;34m.\u001b[0m\u001b[0mvalues_list\u001b[0m\u001b[0;34m(\u001b[0m\u001b[0mfield\u001b[0m\u001b[0;34m,\u001b[0m \u001b[0mflat\u001b[0m\u001b[0;34m=\u001b[0m\u001b[0;32mTrue\u001b[0m\u001b[0;34m)\u001b[0m\u001b[0;34m.\u001b[0m\u001b[0mdistinct\u001b[0m\u001b[0;34m(\u001b[0m\u001b[0;34m)\u001b[0m\u001b[0;34m.\u001b[0m\u001b[0morder_by\u001b[0m\u001b[0;34m(\u001b[0m\u001b[0mfield\u001b[0m\u001b[0;34m)\u001b[0m\u001b[0;34m]\u001b[0m\u001b[0;34m\u001b[0m\u001b[0;34m\u001b[0m\u001b[0m\n\u001b[0m\u001b[1;32m     21\u001b[0m \u001b[0;34m\u001b[0m\u001b[0m\n\u001b[1;32m     22\u001b[0m \u001b[0;34m\u001b[0m\u001b[0m\n",
      "\u001b[0;32m~/dev/dj-management/projeto_todo/venv/lib/python3.8/site-packages/django/db/models/query.py\u001b[0m in \u001b[0;36mvalues_list\u001b[0;34m(self, flat, named, *fields)\u001b[0m\n\u001b[1;32m    866\u001b[0m                 \u001b[0m_fields\u001b[0m\u001b[0;34m.\u001b[0m\u001b[0mappend\u001b[0m\u001b[0;34m(\u001b[0m\u001b[0mfield\u001b[0m\u001b[0;34m)\u001b[0m\u001b[0;34m\u001b[0m\u001b[0;34m\u001b[0m\u001b[0m\n\u001b[1;32m    867\u001b[0m \u001b[0;34m\u001b[0m\u001b[0m\n\u001b[0;32m--> 868\u001b[0;31m         \u001b[0mclone\u001b[0m \u001b[0;34m=\u001b[0m \u001b[0mself\u001b[0m\u001b[0;34m.\u001b[0m\u001b[0m_values\u001b[0m\u001b[0;34m(\u001b[0m\u001b[0;34m*\u001b[0m\u001b[0m_fields\u001b[0m\u001b[0;34m,\u001b[0m \u001b[0;34m**\u001b[0m\u001b[0mexpressions\u001b[0m\u001b[0;34m)\u001b[0m\u001b[0;34m\u001b[0m\u001b[0;34m\u001b[0m\u001b[0m\n\u001b[0m\u001b[1;32m    869\u001b[0m         clone._iterable_class = (\n\u001b[1;32m    870\u001b[0m             \u001b[0mNamedValuesListIterable\u001b[0m \u001b[0;32mif\u001b[0m \u001b[0mnamed\u001b[0m\u001b[0;34m\u001b[0m\u001b[0;34m\u001b[0m\u001b[0m\n",
      "\u001b[0;32m~/dev/dj-management/projeto_todo/venv/lib/python3.8/site-packages/django/db/models/query.py\u001b[0m in \u001b[0;36m_values\u001b[0;34m(self, *fields, **expressions)\u001b[0m\n\u001b[1;32m    834\u001b[0m             \u001b[0mclone\u001b[0m \u001b[0;34m=\u001b[0m \u001b[0mclone\u001b[0m\u001b[0;34m.\u001b[0m\u001b[0mannotate\u001b[0m\u001b[0;34m(\u001b[0m\u001b[0;34m**\u001b[0m\u001b[0mexpressions\u001b[0m\u001b[0;34m)\u001b[0m\u001b[0;34m\u001b[0m\u001b[0;34m\u001b[0m\u001b[0m\n\u001b[1;32m    835\u001b[0m         \u001b[0mclone\u001b[0m\u001b[0;34m.\u001b[0m\u001b[0m_fields\u001b[0m \u001b[0;34m=\u001b[0m \u001b[0mfields\u001b[0m\u001b[0;34m\u001b[0m\u001b[0;34m\u001b[0m\u001b[0m\n\u001b[0;32m--> 836\u001b[0;31m         \u001b[0mclone\u001b[0m\u001b[0;34m.\u001b[0m\u001b[0mquery\u001b[0m\u001b[0;34m.\u001b[0m\u001b[0mset_values\u001b[0m\u001b[0;34m(\u001b[0m\u001b[0mfields\u001b[0m\u001b[0;34m)\u001b[0m\u001b[0;34m\u001b[0m\u001b[0;34m\u001b[0m\u001b[0m\n\u001b[0m\u001b[1;32m    837\u001b[0m         \u001b[0;32mreturn\u001b[0m \u001b[0mclone\u001b[0m\u001b[0;34m\u001b[0m\u001b[0;34m\u001b[0m\u001b[0m\n\u001b[1;32m    838\u001b[0m \u001b[0;34m\u001b[0m\u001b[0m\n",
      "\u001b[0;32m~/dev/dj-management/projeto_todo/venv/lib/python3.8/site-packages/django/db/models/sql/query.py\u001b[0m in \u001b[0;36mset_values\u001b[0;34m(self, fields)\u001b[0m\n\u001b[1;32m   2170\u001b[0m \u001b[0;34m\u001b[0m\u001b[0m\n\u001b[1;32m   2171\u001b[0m         \u001b[0mself\u001b[0m\u001b[0;34m.\u001b[0m\u001b[0mvalues_select\u001b[0m \u001b[0;34m=\u001b[0m \u001b[0mtuple\u001b[0m\u001b[0;34m(\u001b[0m\u001b[0mfield_names\u001b[0m\u001b[0;34m)\u001b[0m\u001b[0;34m\u001b[0m\u001b[0;34m\u001b[0m\u001b[0m\n\u001b[0;32m-> 2172\u001b[0;31m         \u001b[0mself\u001b[0m\u001b[0;34m.\u001b[0m\u001b[0madd_fields\u001b[0m\u001b[0;34m(\u001b[0m\u001b[0mfield_names\u001b[0m\u001b[0;34m,\u001b[0m \u001b[0;32mTrue\u001b[0m\u001b[0;34m)\u001b[0m\u001b[0;34m\u001b[0m\u001b[0;34m\u001b[0m\u001b[0m\n\u001b[0m\u001b[1;32m   2173\u001b[0m \u001b[0;34m\u001b[0m\u001b[0m\n\u001b[1;32m   2174\u001b[0m     \u001b[0;34m@\u001b[0m\u001b[0mproperty\u001b[0m\u001b[0;34m\u001b[0m\u001b[0;34m\u001b[0m\u001b[0m\n",
      "\u001b[0;32m~/dev/dj-management/projeto_todo/venv/lib/python3.8/site-packages/django/db/models/sql/query.py\u001b[0m in \u001b[0;36madd_fields\u001b[0;34m(self, field_names, allow_m2m)\u001b[0m\n\u001b[1;32m   1883\u001b[0m                     \u001b[0;34m*\u001b[0m\u001b[0mself\u001b[0m\u001b[0;34m.\u001b[0m\u001b[0mannotation_select\u001b[0m\u001b[0;34m,\u001b[0m \u001b[0;34m*\u001b[0m\u001b[0mself\u001b[0m\u001b[0;34m.\u001b[0m\u001b[0m_filtered_relations\u001b[0m\u001b[0;34m\u001b[0m\u001b[0;34m\u001b[0m\u001b[0m\n\u001b[1;32m   1884\u001b[0m                 ])\n\u001b[0;32m-> 1885\u001b[0;31m                 raise FieldError(\"Cannot resolve keyword %r into field. \"\n\u001b[0m\u001b[1;32m   1886\u001b[0m                                  \"Choices are: %s\" % (name, \", \".join(names)))\n\u001b[1;32m   1887\u001b[0m \u001b[0;34m\u001b[0m\u001b[0m\n",
      "\u001b[0;31mFieldError\u001b[0m: Cannot resolve keyword 'date.monthyear()' into field. Choices are: amount, date, expenseType, expenseType_id, id, repetir"
     ]
    }
   ],
   "source": [
    "pivot_t = pivot(Expense, 'expenseType__category__category', 'date.monthyear', 'amount', aggregation=Sum)"
   ]
  },
  {
   "cell_type": "code",
   "execution_count": 69,
   "metadata": {},
   "outputs": [
    {
     "name": "stdout",
     "output_type": "stream",
     "text": [
      "{'expenseType__category__category': 'FIXOS', '2019-04-01': None, '2019-05-01': None, '2019-06-01': None, '2019-07-01': None, '2019-08-01': None, '2019-09-01': None, '2019-10-01': None, '2019-11-01': None, '2019-12-01': None, '2020-01-01': None, '2020-02-01': 100.0, '2020-03-01': 100.0, '2020-04-01': 100.0, '2020-04-10': None, '2020-05-01': 200.0, '2020-06-01': 200.0, '2020-07-01': 200.0, '2020-08-01': 200.0, '2020-09-01': 200.0, '2020-10-01': 100.0, '2020-11-01': 100.0}\n",
      "{'expenseType__category__category': 'SALARIOS', '2019-04-01': 200.0, '2019-05-01': 200.0, '2019-06-01': 200.0, '2019-07-01': 200.0, '2019-08-01': 200.0, '2019-09-01': 200.0, '2019-10-01': 200.0, '2019-11-01': 200.0, '2019-12-01': 200.0, '2020-01-01': 200.0, '2020-02-01': None, '2020-03-01': None, '2020-04-01': None, '2020-04-10': 100.0, '2020-05-01': 88.0, '2020-06-01': None, '2020-07-01': None, '2020-08-01': None, '2020-09-01': None, '2020-10-01': None, '2020-11-01': None}\n",
      "{'expenseType__category__category': 'SEGUROS', '2019-04-01': None, '2019-05-01': None, '2019-06-01': None, '2019-07-01': None, '2019-08-01': None, '2019-09-01': None, '2019-10-01': None, '2019-11-01': None, '2019-12-01': None, '2020-01-01': None, '2020-02-01': None, '2020-03-01': None, '2020-04-01': 2000.0, '2020-04-10': None, '2020-05-01': None, '2020-06-01': None, '2020-07-01': None, '2020-08-01': None, '2020-09-01': None, '2020-10-01': None, '2020-11-01': None}\n"
     ]
    }
   ],
   "source": [
    "for i in pivot_t:\n",
    "    print(i)"
   ]
  },
  {
   "cell_type": "code",
   "execution_count": null,
   "metadata": {},
   "outputs": [],
   "source": []
  }
 ],
 "metadata": {
  "kernelspec": {
   "display_name": "Django Shell-Plus",
   "language": "python",
   "name": "django_extensions"
  },
  "language_info": {
   "codemirror_mode": {
    "name": "ipython",
    "version": 3
   },
   "file_extension": ".py",
   "mimetype": "text/x-python",
   "name": "python",
   "nbconvert_exporter": "python",
   "pygments_lexer": "ipython3",
   "version": "3.8.2"
  }
 },
 "nbformat": 4,
 "nbformat_minor": 4
}

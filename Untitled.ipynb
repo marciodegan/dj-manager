{
 "cells": [
  {
   "cell_type": "code",
   "execution_count": 5,
   "metadata": {},
   "outputs": [],
   "source": [
    "from datetime import datetime, timedelta"
   ]
  },
  {
   "cell_type": "code",
   "execution_count": 90,
   "metadata": {},
   "outputs": [],
   "source": [
    "now = datetime.now()\n",
    "now1 = datetime.strftime(now, '%Y')\n",
    "end_date = now+timedelta(days=1)\n",
    "end_date1 = datetime.strftime(end_date, '%Y/%m/%d')"
   ]
  },
  {
   "cell_type": "code",
   "execution_count": 91,
   "metadata": {},
   "outputs": [
    {
     "data": {
      "text/plain": [
       "'2020'"
      ]
     },
     "execution_count": 91,
     "metadata": {},
     "output_type": "execute_result"
    }
   ],
   "source": [
    "now1"
   ]
  },
  {
   "cell_type": "code",
   "execution_count": 92,
   "metadata": {},
   "outputs": [],
   "source": [
    "categories = Expense.objects.filter(date__year=now1)\\\n",
    "            .annotate(value=Sum('amount'))\\\n",
    "            .values('value')"
   ]
  },
  {
   "cell_type": "code",
   "execution_count": 93,
   "metadata": {},
   "outputs": [
    {
     "data": {
      "text/plain": [
       "<QuerySet [{'value': 5435.0}, {'value': 534.0}, {'value': 2121.0}, {'value': 2312.0}, {'value': 543.0}, {'value': 4654.0}, {'value': 432.0}, {'value': 20000.0}, {'value': 5435.0}, {'value': 534.0}, {'value': 2312.0}, {'value': 543.0}, {'value': 5435.0}, {'value': 534.0}, {'value': 2312.0}, {'value': 543.0}, {'value': 5435.0}, {'value': 534.0}, {'value': 2312.0}, {'value': 543.0}, '...(remaining elements truncated)...']>"
      ]
     },
     "execution_count": 93,
     "metadata": {},
     "output_type": "execute_result"
    }
   ],
   "source": [
    "categories"
   ]
  },
  {
   "cell_type": "code",
   "execution_count": 94,
   "metadata": {},
   "outputs": [],
   "source": [
    "dates = Date.objects.values('year').annotate(counter=Count('year'))"
   ]
  },
  {
   "cell_type": "code",
   "execution_count": 95,
   "metadata": {},
   "outputs": [
    {
     "data": {
      "text/plain": [
       "<QuerySet [{'year': 2020, 'counter': 366}, {'year': 2021, 'counter': 365}, {'year': 2022, 'counter': 365}, {'year': 2023, 'counter': 365}]>"
      ]
     },
     "execution_count": 95,
     "metadata": {},
     "output_type": "execute_result"
    }
   ],
   "source": [
    "dates"
   ]
  },
  {
   "cell_type": "code",
   "execution_count": 100,
   "metadata": {},
   "outputs": [],
   "source": [
    "monthyear = Date.objects.values('year','month_year').annotate(counter=Count('month_year')).values('month_year', 'year')"
   ]
  },
  {
   "cell_type": "code",
   "execution_count": 101,
   "metadata": {},
   "outputs": [
    {
     "data": {
      "text/plain": [
       "<QuerySet [{'month_year': '1-2020', 'year': 2020}, {'month_year': '10-2020', 'year': 2020}, {'month_year': '11-2020', 'year': 2020}, {'month_year': '12-2020', 'year': 2020}, {'month_year': '2-2020', 'year': 2020}, {'month_year': '3-2020', 'year': 2020}, {'month_year': '4-2020', 'year': 2020}, {'month_year': '5-2020', 'year': 2020}, {'month_year': '6-2020', 'year': 2020}, {'month_year': '7-2020', 'year': 2020}, {'month_year': '8-2020', 'year': 2020}, {'month_year': '9-2020', 'year': 2020}, {'month_year': '1-2021', 'year': 2021}, {'month_year': '10-2021', 'year': 2021}, {'month_year': '11-2021', 'year': 2021}, {'month_year': '12-2021', 'year': 2021}, {'month_year': '2-2021', 'year': 2021}, {'month_year': '3-2021', 'year': 2021}, {'month_year': '4-2021', 'year': 2021}, {'month_year': '5-2021', 'year': 2021}, '...(remaining elements truncated)...']>"
      ]
     },
     "execution_count": 101,
     "metadata": {},
     "output_type": "execute_result"
    }
   ],
   "source": [
    "monthyear"
   ]
  },
  {
   "cell_type": "code",
   "execution_count": 13,
   "metadata": {},
   "outputs": [
    {
     "data": {
      "text/plain": [
       "<QuerySet [{'date__month_year': '07-2020', 'total': 22000000.0}, {'date__month_year': '08-2020', 'total': 550181.0}]>"
      ]
     },
     "execution_count": 13,
     "metadata": {},
     "output_type": "execute_result"
    }
   ],
   "source": [
    "Revenue2.objects.values('date__month_year').filter(date_id__semester=2, date_id__year=2020).annotate(counter=Count('date__month_year')).annotate(total=Sum('amount')).values('total', 'date__month_year')"
   ]
  },
  {
   "cell_type": "code",
   "execution_count": 25,
   "metadata": {},
   "outputs": [],
   "source": [
    "revenue_total = Revenue2.objects.values('amount').filter(date_id__semester=1, date_id__year=2020).aggregate(Sum('amount'))['amount__sum']\n"
   ]
  },
  {
   "cell_type": "raw",
   "metadata": {},
   "source": []
  },
  {
   "cell_type": "code",
   "execution_count": 26,
   "metadata": {},
   "outputs": [
    {
     "data": {
      "text/plain": [
       "{'amount__sum': 474254.0}"
      ]
     },
     "execution_count": 26,
     "metadata": {},
     "output_type": "execute_result"
    }
   ],
   "source": [
    "revenue"
   ]
  },
  {
   "cell_type": "code",
   "execution_count": null,
   "metadata": {},
   "outputs": [],
   "source": []
  }
 ],
 "metadata": {
  "kernelspec": {
   "display_name": "Django Shell-Plus",
   "language": "python",
   "name": "django_extensions"
  }
 },
 "nbformat": 4,
 "nbformat_minor": 4
}
